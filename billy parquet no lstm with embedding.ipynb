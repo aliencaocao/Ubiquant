{
 "cells": [
  {
   "cell_type": "code",
   "execution_count": 1,
   "metadata": {
    "collapsed": true
   },
   "outputs": [
    {
     "name": "stdout",
     "output_type": "stream",
     "text": [
      "INFO:tensorflow:Mixed precision compatibility check (mixed_float16): OK\n",
      "Your GPU will likely run quickly with dtype policy mixed_float16 as it has compute capability of at least 7.0. Your GPU: NVIDIA GeForce RTX 3080 Ti, compute capability 8.6\n",
      "2.6.2\n"
     ]
    }
   ],
   "source": [
    "import gc\n",
    "import numpy as np\n",
    "import pandas as pd\n",
    "import matplotlib.pyplot as plt\n",
    "import tensorflow as tf\n",
    "from tensorflow.keras.models import Model, load_model\n",
    "from tensorflow.keras.layers import *\n",
    "from tensorflow.keras import mixed_precision\n",
    "from tensorflow.keras.utils import plot_model\n",
    "import tensorflow_probability as tfp\n",
    "\n",
    "mixed_precision.set_global_policy('mixed_float16')\n",
    "print(tf.__version__)"
   ]
  },
  {
   "cell_type": "code",
   "execution_count": 2,
   "outputs": [
    {
     "name": "stdout",
     "output_type": "stream",
     "text": [
      "3773\n",
      "3580\n"
     ]
    }
   ],
   "source": [
    "# Load data\n",
    "df = pd.read_parquet('E:/train_low_mem.parquet')\n",
    "df.drop(['time_id', 'row_id'], inplace=True, axis=1)\n",
    "investment_id = df.pop(\"investment_id\")\n",
    "y = df.pop(\"target\")\n",
    "\n",
    "investment_ids = list(investment_id.unique())\n",
    "investment_id_lookup_layer = IntegerLookup(oov_token=-1, output_mode='int')\n",
    "investment_id_lookup_layer.adapt(np.array(investment_ids))\n",
    "vocab = investment_id_lookup_layer.get_vocabulary(include_special_tokens=True)\n",
    "vocab_size = investment_id_lookup_layer.vocabulary_size()\n",
    "print(max(investment_ids))\n",
    "print(vocab_size)"
   ],
   "metadata": {
    "collapsed": false,
    "pycharm": {
     "name": "#%%\n"
    }
   }
  },
  {
   "cell_type": "code",
   "execution_count": 3,
   "outputs": [],
   "source": [
    "def preprocess(x, y):\n",
    "    # TODO\n",
    "    return x, y\n",
    "\n",
    "def make_dataset(feature, investment_id, y, batch_size=2048, mode='train'):\n",
    "    ds = tf.data.Dataset.from_tensor_slices(((investment_id, feature), y))\n",
    "    ds = ds.map(preprocess)\n",
    "    if mode == \"train\": ds = ds.shuffle(8192, seed=69)  # only shuffle when training\n",
    "    ds = ds.batch(batch_size).cache().prefetch(tf.data.experimental.AUTOTUNE)\n",
    "    return ds\n",
    "\n",
    "\n",
    "# Pearson correlation coefficient loss and metrics\n",
    "def pearson_corr(y_true, y_pred, axis=-1):\n",
    "    return tfp.stats.correlation(tf.squeeze(y_pred), tf.squeeze(y_true), sample_axis=axis, event_axis=None)\n",
    "\n",
    "def pearson_corr_loss(y_true, y_pred, axis=-1):\n",
    "    return 1 - tf.math.abs(pearson_corr(y_true, y_pred, axis=axis))"
   ],
   "metadata": {
    "collapsed": false,
    "pycharm": {
     "name": "#%%\n"
    }
   }
  },
  {
   "cell_type": "code",
   "execution_count": 4,
   "outputs": [],
   "source": [
    "# Model\n",
    "def build_model():\n",
    "    investment_id_inputs = Input((1, ), name='inv_id_in', dtype=tf.uint16)\n",
    "    features_inputs = Input((300, ), name='feature_in', dtype=tf.float16)\n",
    "\n",
    "    investment_id_x = investment_id_lookup_layer(investment_id_inputs)\n",
    "    investment_id_x = Embedding(vocab_size, 128, input_length=1)(investment_id_x)\n",
    "    investment_id_x = Reshape((-1, ))(investment_id_x)\n",
    "    investment_id_x = Dense(128, activation='swish')(investment_id_x)\n",
    "    investment_id_x = Dropout(0.2)(investment_id_x)\n",
    "    investment_id_x = Dense(64, activation='swish')(investment_id_x)\n",
    "    investment_id_x = Dropout(0.2)(investment_id_x)\n",
    "    investment_id_x = Dense(64, activation='swish')(investment_id_x)\n",
    "    investment_id_x = Dropout(0.2)(investment_id_x)\n",
    "\n",
    "    feature_x = GaussianNoise(0.01)(features_inputs)\n",
    "    feature_x = Dense(512, activation='swish')(feature_x)\n",
    "    feature_x = Dropout(0.2)(feature_x)\n",
    "    feature_x = Dense(256, activation='swish')(feature_x)\n",
    "    feature_x = Dropout(0.2)(feature_x)\n",
    "    feature_x = Dense(256, activation='swish')(feature_x)\n",
    "    feature_x = Dropout(0.2)(feature_x)\n",
    "\n",
    "    x = Concatenate(axis=1)([investment_id_x, feature_x])\n",
    "    x = Dense(512, activation='swish')(x)\n",
    "    x = Dropout(0.2)(x)\n",
    "    x = Dense(256, activation='swish')(x)\n",
    "    x = Dropout(0.2)(x)\n",
    "    x = Dense(128, activation='swish')(x)\n",
    "    x = Dropout(0.2)(x)\n",
    "    x = Dense(64, activation='swish')(x)\n",
    "    x = Dropout(0.1)(x)\n",
    "    xOut = Dense(1, name='output')(x)\n",
    "\n",
    "    model = Model(inputs=[investment_id_inputs, features_inputs], outputs=[xOut])\n",
    "    model.compile(loss='mse', optimizer=tf.keras.optimizers.Adam(learning_rate=1e-3), metrics=['mse', 'mae'])\n",
    "    return model"
   ],
   "metadata": {
    "collapsed": false,
    "pycharm": {
     "name": "#%%\n"
    }
   }
  },
  {
   "cell_type": "code",
   "execution_count": 5,
   "outputs": [
    {
     "name": "stdout",
     "output_type": "stream",
     "text": [
      "Model: \"model\"\n",
      "__________________________________________________________________________________________________\n",
      "Layer (type)                    Output Shape         Param #     Connected to                     \n",
      "==================================================================================================\n",
      "inv_id_in (InputLayer)          [(None, 1)]          0                                            \n",
      "__________________________________________________________________________________________________\n",
      "integer_lookup (IntegerLookup)  (None, 1)            0           inv_id_in[0][0]                  \n",
      "__________________________________________________________________________________________________\n",
      "embedding (Embedding)           (None, 1, 128)       458240      integer_lookup[0][0]             \n",
      "__________________________________________________________________________________________________\n",
      "feature_in (InputLayer)         [(None, 300)]        0                                            \n",
      "__________________________________________________________________________________________________\n",
      "reshape (Reshape)               (None, 128)          0           embedding[0][0]                  \n",
      "__________________________________________________________________________________________________\n",
      "gaussian_noise (GaussianNoise)  (None, 300)          0           feature_in[0][0]                 \n",
      "__________________________________________________________________________________________________\n",
      "dense (Dense)                   (None, 128)          16512       reshape[0][0]                    \n",
      "__________________________________________________________________________________________________\n",
      "dense_3 (Dense)                 (None, 512)          154112      gaussian_noise[0][0]             \n",
      "__________________________________________________________________________________________________\n",
      "dropout (Dropout)               (None, 128)          0           dense[0][0]                      \n",
      "__________________________________________________________________________________________________\n",
      "dropout_3 (Dropout)             (None, 512)          0           dense_3[0][0]                    \n",
      "__________________________________________________________________________________________________\n",
      "dense_1 (Dense)                 (None, 64)           8256        dropout[0][0]                    \n",
      "__________________________________________________________________________________________________\n",
      "dense_4 (Dense)                 (None, 256)          131328      dropout_3[0][0]                  \n",
      "__________________________________________________________________________________________________\n",
      "dropout_1 (Dropout)             (None, 64)           0           dense_1[0][0]                    \n",
      "__________________________________________________________________________________________________\n",
      "dropout_4 (Dropout)             (None, 256)          0           dense_4[0][0]                    \n",
      "__________________________________________________________________________________________________\n",
      "dense_2 (Dense)                 (None, 64)           4160        dropout_1[0][0]                  \n",
      "__________________________________________________________________________________________________\n",
      "dense_5 (Dense)                 (None, 256)          65792       dropout_4[0][0]                  \n",
      "__________________________________________________________________________________________________\n",
      "dropout_2 (Dropout)             (None, 64)           0           dense_2[0][0]                    \n",
      "__________________________________________________________________________________________________\n",
      "dropout_5 (Dropout)             (None, 256)          0           dense_5[0][0]                    \n",
      "__________________________________________________________________________________________________\n",
      "concatenate (Concatenate)       (None, 320)          0           dropout_2[0][0]                  \n",
      "                                                                 dropout_5[0][0]                  \n",
      "__________________________________________________________________________________________________\n",
      "dense_6 (Dense)                 (None, 512)          164352      concatenate[0][0]                \n",
      "__________________________________________________________________________________________________\n",
      "dropout_6 (Dropout)             (None, 512)          0           dense_6[0][0]                    \n",
      "__________________________________________________________________________________________________\n",
      "dense_7 (Dense)                 (None, 256)          131328      dropout_6[0][0]                  \n",
      "__________________________________________________________________________________________________\n",
      "dropout_7 (Dropout)             (None, 256)          0           dense_7[0][0]                    \n",
      "__________________________________________________________________________________________________\n",
      "dense_8 (Dense)                 (None, 128)          32896       dropout_7[0][0]                  \n",
      "__________________________________________________________________________________________________\n",
      "dropout_8 (Dropout)             (None, 128)          0           dense_8[0][0]                    \n",
      "__________________________________________________________________________________________________\n",
      "dense_9 (Dense)                 (None, 64)           8256        dropout_8[0][0]                  \n",
      "__________________________________________________________________________________________________\n",
      "dropout_9 (Dropout)             (None, 64)           0           dense_9[0][0]                    \n",
      "__________________________________________________________________________________________________\n",
      "output (Dense)                  (None, 1)            65          dropout_9[0][0]                  \n",
      "==================================================================================================\n",
      "Total params: 1,175,297\n",
      "Trainable params: 1,175,297\n",
      "Non-trainable params: 0\n",
      "__________________________________________________________________________________________________\n"
     ]
    },
    {
     "data": {
      "image/png": "[encoded data removed]",
      "text/plain": "<IPython.core.display.Image object>"
     },
     "execution_count": 5,
     "metadata": {},
     "output_type": "execute_result"
    }
   ],
   "source": [
    "model = build_model()\n",
    "model.summary()\n",
    "plot_model(model, to_file='model.png', show_shapes=True)"
   ],
   "metadata": {
    "collapsed": false,
    "pycharm": {
     "name": "#%%\n"
    }
   }
  },
  {
   "cell_type": "code",
   "execution_count": 6,
   "outputs": [
    {
     "name": "stderr",
     "output_type": "stream",
     "text": [
      "C:\\Program Files\\Python39\\lib\\site-packages\\sklearn\\model_selection\\_split.py:676: UserWarning: The least populated class in y has only 2 members, which is less than n_splits=5.\n",
      "  warnings.warn(\n"
     ]
    },
    {
     "name": "stdout",
     "output_type": "stream",
     "text": [
      "Epoch 1/15\n",
      "1228/1228 [==============================] - 17s 8ms/step - loss: 0.8312 - mse: 0.8312 - mae: 0.6241 - val_loss: 0.8351 - val_mse: 0.8351 - val_mae: 0.6271\n",
      "INFO:tensorflow:Assets written to: model_0\\assets\n",
      "Epoch 2/15\n",
      "1228/1228 [==============================] - 12s 9ms/step - loss: 0.8287 - mse: 0.8287 - mae: 0.6235 - val_loss: 0.8329 - val_mse: 0.8329 - val_mae: 0.6266\n",
      "INFO:tensorflow:Assets written to: model_0\\assets\n",
      "Epoch 3/15\n",
      "1228/1228 [==============================] - 8s 6ms/step - loss: 0.8256 - mse: 0.8256 - mae: 0.6225 - val_loss: 0.8313 - val_mse: 0.8313 - val_mae: 0.6262\n",
      "INFO:tensorflow:Assets written to: model_0\\assets\n",
      "Epoch 4/15\n",
      "1228/1228 [==============================] - 8s 6ms/step - loss: 0.8248 - mse: 0.8248 - mae: 0.6223 - val_loss: 0.8330 - val_mse: 0.8329 - val_mae: 0.6269\n",
      "Epoch 5/15\n",
      "1228/1228 [==============================] - 8s 6ms/step - loss: 0.8231 - mse: 0.8230 - mae: 0.6219 - val_loss: 0.8298 - val_mse: 0.8298 - val_mae: 0.6270\n",
      "INFO:tensorflow:Assets written to: model_0\\assets\n",
      "Epoch 6/15\n",
      "1228/1228 [==============================] - 8s 6ms/step - loss: 0.8220 - mse: 0.8220 - mae: 0.6216 - val_loss: 0.8309 - val_mse: 0.8309 - val_mae: 0.6276\n",
      "Epoch 7/15\n",
      "1228/1228 [==============================] - 8s 7ms/step - loss: 0.8208 - mse: 0.8208 - mae: 0.6214 - val_loss: 0.8296 - val_mse: 0.8296 - val_mae: 0.6281\n",
      "INFO:tensorflow:Assets written to: model_0\\assets\n",
      "Epoch 8/15\n",
      "1228/1228 [==============================] - 8s 7ms/step - loss: 0.8197 - mse: 0.8197 - mae: 0.6211 - val_loss: 0.8298 - val_mse: 0.8298 - val_mae: 0.6277\n",
      "Epoch 9/15\n",
      "1228/1228 [==============================] - 8s 7ms/step - loss: 0.8184 - mse: 0.8184 - mae: 0.6206 - val_loss: 0.8296 - val_mse: 0.8296 - val_mae: 0.6285\n",
      "Epoch 10/15\n",
      "1228/1228 [==============================] - 8s 7ms/step - loss: 0.8170 - mse: 0.8170 - mae: 0.6203 - val_loss: 0.8293 - val_mse: 0.8293 - val_mae: 0.6279\n",
      "INFO:tensorflow:Assets written to: model_0\\assets\n",
      "Epoch 11/15\n",
      "1228/1228 [==============================] - 8s 7ms/step - loss: 0.8151 - mse: 0.8151 - mae: 0.6196 - val_loss: 0.8301 - val_mse: 0.8301 - val_mae: 0.6284\n",
      "Epoch 12/15\n",
      "1228/1228 [==============================] - 8s 7ms/step - loss: 0.8136 - mse: 0.8136 - mae: 0.6193 - val_loss: 0.8298 - val_mse: 0.8298 - val_mae: 0.6288\n",
      "Epoch 13/15\n",
      "1228/1228 [==============================] - 8s 7ms/step - loss: 0.8125 - mse: 0.8125 - mae: 0.6190 - val_loss: 0.8294 - val_mse: 0.8294 - val_mae: 0.6279\n",
      "Epoch 14/15\n",
      "1228/1228 [==============================] - 8s 7ms/step - loss: 0.8103 - mse: 0.8103 - mae: 0.6186 - val_loss: 0.8286 - val_mse: 0.8286 - val_mae: 0.6277\n",
      "INFO:tensorflow:Assets written to: model_0\\assets\n",
      "Epoch 15/15\n",
      "1228/1228 [==============================] - 8s 6ms/step - loss: 0.8085 - mse: 0.8085 - mae: 0.6180 - val_loss: 0.8291 - val_mse: 0.8291 - val_mae: 0.6273\n"
     ]
    },
    {
     "name": "stderr",
     "output_type": "stream",
     "text": [
      "WARNING:absl:Importing a function (__inference_dense_16_layer_call_and_return_conditional_losses_90938) with ops with unsaved custom gradients. Will likely fail if a gradient is requested.\n",
      "WARNING:absl:Importing a function (__inference_model_1_layer_call_and_return_conditional_losses_92270) with ops with unsaved custom gradients. Will likely fail if a gradient is requested.\n",
      "WARNING:absl:Importing a function (__inference_dense_11_layer_call_and_return_conditional_losses_92725) with ops with unsaved custom gradients. Will likely fail if a gradient is requested.\n",
      "WARNING:absl:Importing a function (__inference_dense_12_layer_call_and_return_conditional_losses_92833) with ops with unsaved custom gradients. Will likely fail if a gradient is requested.\n",
      "WARNING:absl:Importing a function (__inference_dense_17_layer_call_and_return_conditional_losses_93008) with ops with unsaved custom gradients. Will likely fail if a gradient is requested.\n",
      "WARNING:absl:Importing a function (__inference_dense_19_layer_call_and_return_conditional_losses_93116) with ops with unsaved custom gradients. Will likely fail if a gradient is requested.\n",
      "WARNING:absl:Importing a function (__inference_dense_15_layer_call_and_return_conditional_losses_92860) with ops with unsaved custom gradients. Will likely fail if a gradient is requested.\n",
      "WARNING:absl:Importing a function (__inference_dense_17_layer_call_and_return_conditional_losses_90969) with ops with unsaved custom gradients. Will likely fail if a gradient is requested.\n",
      "WARNING:absl:Importing a function (__inference__wrapped_model_90677) with ops with unsaved custom gradients. Will likely fail if a gradient is requested.\n",
      "WARNING:absl:Importing a function (__inference_dense_10_layer_call_and_return_conditional_losses_90767) with ops with unsaved custom gradients. Will likely fail if a gradient is requested.\n",
      "WARNING:absl:Importing a function (__inference_dense_18_layer_call_and_return_conditional_losses_93062) with ops with unsaved custom gradients. Will likely fail if a gradient is requested.\n",
      "WARNING:absl:Importing a function (__inference_dense_11_layer_call_and_return_conditional_losses_90829) with ops with unsaved custom gradients. Will likely fail if a gradient is requested.\n",
      "WARNING:absl:Importing a function (__inference_dense_19_layer_call_and_return_conditional_losses_91031) with ops with unsaved custom gradients. Will likely fail if a gradient is requested.\n",
      "WARNING:absl:Importing a function (__inference_dense_13_layer_call_and_return_conditional_losses_92644) with ops with unsaved custom gradients. Will likely fail if a gradient is requested.\n",
      "WARNING:absl:Importing a function (__inference_dense_13_layer_call_and_return_conditional_losses_90743) with ops with unsaved custom gradients. Will likely fail if a gradient is requested.\n",
      "WARNING:absl:Importing a function (__inference_dense_10_layer_call_and_return_conditional_losses_92617) with ops with unsaved custom gradients. Will likely fail if a gradient is requested.\n",
      "WARNING:absl:Importing a function (__inference_dense_14_layer_call_and_return_conditional_losses_90805) with ops with unsaved custom gradients. Will likely fail if a gradient is requested.\n",
      "WARNING:absl:Importing a function (__inference_dense_15_layer_call_and_return_conditional_losses_90867) with ops with unsaved custom gradients. Will likely fail if a gradient is requested.\n",
      "WARNING:absl:Importing a function (__inference_model_1_layer_call_and_return_conditional_losses_92531) with ops with unsaved custom gradients. Will likely fail if a gradient is requested.\n",
      "WARNING:absl:Importing a function (__inference_dense_14_layer_call_and_return_conditional_losses_92752) with ops with unsaved custom gradients. Will likely fail if a gradient is requested.\n",
      "WARNING:absl:Importing a function (__inference_dense_16_layer_call_and_return_conditional_losses_92954) with ops with unsaved custom gradients. Will likely fail if a gradient is requested.\n",
      "WARNING:absl:Importing a function (__inference_dense_18_layer_call_and_return_conditional_losses_91000) with ops with unsaved custom gradients. Will likely fail if a gradient is requested.\n",
      "WARNING:absl:Importing a function (__inference_dense_12_layer_call_and_return_conditional_losses_90891) with ops with unsaved custom gradients. Will likely fail if a gradient is requested.\n"
     ]
    },
    {
     "name": "stdout",
     "output_type": "stream",
     "text": [
      "Pearson: 0.13141610350473465\n",
      "Epoch 1/15\n",
      "1228/1228 [==============================] - 12s 8ms/step - loss: 0.8315 - mse: 0.8315 - mae: 0.6245 - val_loss: 0.8372 - val_mse: 0.8372 - val_mae: 0.6280\n",
      "INFO:tensorflow:Assets written to: model_1\\assets\n"
     ]
    },
    {
     "name": "stderr",
     "output_type": "stream",
     "text": [
      "INFO:tensorflow:Assets written to: model_1\\assets\n"
     ]
    },
    {
     "name": "stdout",
     "output_type": "stream",
     "text": [
      "Epoch 2/15\n",
      "1228/1228 [==============================] - 9s 7ms/step - loss: 0.8284 - mse: 0.8284 - mae: 0.6237 - val_loss: 0.8364 - val_mse: 0.8364 - val_mae: 0.6273\n",
      "INFO:tensorflow:Assets written to: model_1\\assets\n"
     ]
    },
    {
     "name": "stderr",
     "output_type": "stream",
     "text": [
      "INFO:tensorflow:Assets written to: model_1\\assets\n"
     ]
    },
    {
     "name": "stdout",
     "output_type": "stream",
     "text": [
      "Epoch 3/15\n",
      "1228/1228 [==============================] - 8s 6ms/step - loss: 0.8255 - mse: 0.8254 - mae: 0.6227 - val_loss: 0.8349 - val_mse: 0.8349 - val_mae: 0.6281\n",
      "INFO:tensorflow:Assets written to: model_1\\assets\n"
     ]
    },
    {
     "name": "stderr",
     "output_type": "stream",
     "text": [
      "INFO:tensorflow:Assets written to: model_1\\assets\n"
     ]
    },
    {
     "name": "stdout",
     "output_type": "stream",
     "text": [
      "Epoch 4/15\n",
      "1228/1228 [==============================] - 8s 6ms/step - loss: 0.8248 - mse: 0.8247 - mae: 0.6226 - val_loss: 0.8337 - val_mse: 0.8337 - val_mae: 0.6276\n",
      "INFO:tensorflow:Assets written to: model_1\\assets\n"
     ]
    },
    {
     "name": "stderr",
     "output_type": "stream",
     "text": [
      "INFO:tensorflow:Assets written to: model_1\\assets\n"
     ]
    },
    {
     "name": "stdout",
     "output_type": "stream",
     "text": [
      "Epoch 5/15\n",
      "1228/1228 [==============================] - 8s 7ms/step - loss: 0.8237 - mse: 0.8237 - mae: 0.6224 - val_loss: 0.8329 - val_mse: 0.8329 - val_mae: 0.6272\n",
      "INFO:tensorflow:Assets written to: model_1\\assets\n"
     ]
    },
    {
     "name": "stderr",
     "output_type": "stream",
     "text": [
      "INFO:tensorflow:Assets written to: model_1\\assets\n"
     ]
    },
    {
     "name": "stdout",
     "output_type": "stream",
     "text": [
      "Epoch 6/15\n",
      "1228/1228 [==============================] - 8s 7ms/step - loss: 0.8224 - mse: 0.8224 - mae: 0.6221 - val_loss: 0.8338 - val_mse: 0.8339 - val_mae: 0.6284\n",
      "Epoch 7/15\n",
      "1228/1228 [==============================] - 8s 7ms/step - loss: 0.8211 - mse: 0.8211 - mae: 0.6217 - val_loss: 0.8319 - val_mse: 0.8319 - val_mae: 0.6282\n",
      "INFO:tensorflow:Assets written to: model_1\\assets\n"
     ]
    },
    {
     "name": "stderr",
     "output_type": "stream",
     "text": [
      "INFO:tensorflow:Assets written to: model_1\\assets\n"
     ]
    },
    {
     "name": "stdout",
     "output_type": "stream",
     "text": [
      "Epoch 8/15\n",
      "1228/1228 [==============================] - 8s 7ms/step - loss: 0.8198 - mse: 0.8197 - mae: 0.6213 - val_loss: 0.8329 - val_mse: 0.8329 - val_mae: 0.6288\n",
      "Epoch 9/15\n",
      "1228/1228 [==============================] - 8s 7ms/step - loss: 0.8187 - mse: 0.8187 - mae: 0.6210 - val_loss: 0.8327 - val_mse: 0.8326 - val_mae: 0.6294\n",
      "Epoch 10/15\n",
      "1228/1228 [==============================] - 8s 7ms/step - loss: 0.8166 - mse: 0.8166 - mae: 0.6204 - val_loss: 0.8325 - val_mse: 0.8325 - val_mae: 0.6284\n",
      "Epoch 11/15\n",
      "1228/1228 [==============================] - 8s 7ms/step - loss: 0.8152 - mse: 0.8152 - mae: 0.6200 - val_loss: 0.8324 - val_mse: 0.8324 - val_mae: 0.6280\n",
      "Epoch 12/15\n",
      "1228/1228 [==============================] - 8s 6ms/step - loss: 0.8132 - mse: 0.8132 - mae: 0.6193 - val_loss: 0.8307 - val_mse: 0.8307 - val_mae: 0.6274\n",
      "INFO:tensorflow:Assets written to: model_1\\assets\n"
     ]
    },
    {
     "name": "stderr",
     "output_type": "stream",
     "text": [
      "INFO:tensorflow:Assets written to: model_1\\assets\n"
     ]
    },
    {
     "name": "stdout",
     "output_type": "stream",
     "text": [
      "Epoch 13/15\n",
      "1228/1228 [==============================] - 8s 6ms/step - loss: 0.8113 - mse: 0.8113 - mae: 0.6188 - val_loss: 0.8306 - val_mse: 0.8306 - val_mae: 0.6281\n",
      "INFO:tensorflow:Assets written to: model_1\\assets\n"
     ]
    },
    {
     "name": "stderr",
     "output_type": "stream",
     "text": [
      "INFO:tensorflow:Assets written to: model_1\\assets\n"
     ]
    },
    {
     "name": "stdout",
     "output_type": "stream",
     "text": [
      "Epoch 14/15\n",
      "1228/1228 [==============================] - 8s 6ms/step - loss: 0.8101 - mse: 0.8101 - mae: 0.6184 - val_loss: 0.8310 - val_mse: 0.8310 - val_mae: 0.6283\n",
      "Epoch 15/15\n",
      "1228/1228 [==============================] - 8s 6ms/step - loss: 0.8081 - mse: 0.8081 - mae: 0.6180 - val_loss: 0.8317 - val_mse: 0.8317 - val_mae: 0.6285\n"
     ]
    },
    {
     "name": "stderr",
     "output_type": "stream",
     "text": [
      "WARNING:absl:Importing a function (__inference_model_2_layer_call_and_return_conditional_losses_193749) with ops with unsaved custom gradients. Will likely fail if a gradient is requested.\n",
      "WARNING:absl:Importing a function (__inference_dense_25_layer_call_and_return_conditional_losses_194339) with ops with unsaved custom gradients. Will likely fail if a gradient is requested.\n",
      "WARNING:absl:Importing a function (__inference_dense_21_layer_call_and_return_conditional_losses_194204) with ops with unsaved custom gradients. Will likely fail if a gradient is requested.\n",
      "WARNING:absl:Importing a function (__inference_dense_28_layer_call_and_return_conditional_losses_194541) with ops with unsaved custom gradients. Will likely fail if a gradient is requested.\n",
      "WARNING:absl:Importing a function (__inference_dense_22_layer_call_and_return_conditional_losses_194312) with ops with unsaved custom gradients. Will likely fail if a gradient is requested.\n",
      "WARNING:absl:Importing a function (__inference_model_2_layer_call_and_return_conditional_losses_194010) with ops with unsaved custom gradients. Will likely fail if a gradient is requested.\n",
      "WARNING:absl:Importing a function (__inference_dense_26_layer_call_and_return_conditional_losses_192417) with ops with unsaved custom gradients. Will likely fail if a gradient is requested.\n",
      "WARNING:absl:Importing a function (__inference_dense_20_layer_call_and_return_conditional_losses_192246) with ops with unsaved custom gradients. Will likely fail if a gradient is requested.\n",
      "WARNING:absl:Importing a function (__inference__wrapped_model_192156) with ops with unsaved custom gradients. Will likely fail if a gradient is requested.\n",
      "WARNING:absl:Importing a function (__inference_dense_29_layer_call_and_return_conditional_losses_192510) with ops with unsaved custom gradients. Will likely fail if a gradient is requested.\n",
      "WARNING:absl:Importing a function (__inference_dense_24_layer_call_and_return_conditional_losses_192284) with ops with unsaved custom gradients. Will likely fail if a gradient is requested.\n",
      "WARNING:absl:Importing a function (__inference_dense_28_layer_call_and_return_conditional_losses_192479) with ops with unsaved custom gradients. Will likely fail if a gradient is requested.\n",
      "WARNING:absl:Importing a function (__inference_dense_24_layer_call_and_return_conditional_losses_194231) with ops with unsaved custom gradients. Will likely fail if a gradient is requested.\n",
      "WARNING:absl:Importing a function (__inference_dense_26_layer_call_and_return_conditional_losses_194433) with ops with unsaved custom gradients. Will likely fail if a gradient is requested.\n",
      "WARNING:absl:Importing a function (__inference_dense_27_layer_call_and_return_conditional_losses_194487) with ops with unsaved custom gradients. Will likely fail if a gradient is requested.\n",
      "WARNING:absl:Importing a function (__inference_dense_27_layer_call_and_return_conditional_losses_192448) with ops with unsaved custom gradients. Will likely fail if a gradient is requested.\n",
      "WARNING:absl:Importing a function (__inference_dense_21_layer_call_and_return_conditional_losses_192308) with ops with unsaved custom gradients. Will likely fail if a gradient is requested.\n",
      "WARNING:absl:Importing a function (__inference_dense_29_layer_call_and_return_conditional_losses_194595) with ops with unsaved custom gradients. Will likely fail if a gradient is requested.\n",
      "WARNING:absl:Importing a function (__inference_dense_25_layer_call_and_return_conditional_losses_192346) with ops with unsaved custom gradients. Will likely fail if a gradient is requested.\n",
      "WARNING:absl:Importing a function (__inference_dense_23_layer_call_and_return_conditional_losses_192222) with ops with unsaved custom gradients. Will likely fail if a gradient is requested.\n",
      "WARNING:absl:Importing a function (__inference_dense_20_layer_call_and_return_conditional_losses_194096) with ops with unsaved custom gradients. Will likely fail if a gradient is requested.\n",
      "WARNING:absl:Importing a function (__inference_dense_22_layer_call_and_return_conditional_losses_192370) with ops with unsaved custom gradients. Will likely fail if a gradient is requested.\n",
      "WARNING:absl:Importing a function (__inference_dense_23_layer_call_and_return_conditional_losses_194123) with ops with unsaved custom gradients. Will likely fail if a gradient is requested.\n"
     ]
    },
    {
     "name": "stdout",
     "output_type": "stream",
     "text": [
      "Pearson: 0.12791937864223688\n",
      "Epoch 1/15\n",
      "1228/1228 [==============================] - 12s 8ms/step - loss: 0.8316 - mse: 0.8316 - mae: 0.6243 - val_loss: 0.8333 - val_mse: 0.8333 - val_mae: 0.6260\n",
      "INFO:tensorflow:Assets written to: model_2\\assets\n"
     ]
    },
    {
     "name": "stderr",
     "output_type": "stream",
     "text": [
      "INFO:tensorflow:Assets written to: model_2\\assets\n"
     ]
    },
    {
     "name": "stdout",
     "output_type": "stream",
     "text": [
      "Epoch 2/15\n",
      "1228/1228 [==============================] - 10s 8ms/step - loss: 0.8287 - mse: 0.8287 - mae: 0.6235 - val_loss: 0.8349 - val_mse: 0.8349 - val_mae: 0.6269\n",
      "Epoch 3/15\n",
      "1228/1228 [==============================] - 8s 6ms/step - loss: 0.8259 - mse: 0.8259 - mae: 0.6228 - val_loss: 0.8316 - val_mse: 0.8316 - val_mae: 0.6269\n",
      "INFO:tensorflow:Assets written to: model_2\\assets\n"
     ]
    },
    {
     "name": "stderr",
     "output_type": "stream",
     "text": [
      "INFO:tensorflow:Assets written to: model_2\\assets\n"
     ]
    },
    {
     "name": "stdout",
     "output_type": "stream",
     "text": [
      "Epoch 4/15\n",
      "1228/1228 [==============================] - 8s 7ms/step - loss: 0.8243 - mse: 0.8243 - mae: 0.6223 - val_loss: 0.8318 - val_mse: 0.8318 - val_mae: 0.6266\n",
      "Epoch 5/15\n",
      "1228/1228 [==============================] - 8s 7ms/step - loss: 0.8230 - mse: 0.8230 - mae: 0.6220 - val_loss: 0.8318 - val_mse: 0.8318 - val_mae: 0.6273\n",
      "Epoch 6/15\n",
      "1228/1228 [==============================] - 8s 7ms/step - loss: 0.8218 - mse: 0.8218 - mae: 0.6217 - val_loss: 0.8322 - val_mse: 0.8322 - val_mae: 0.6268\n",
      "Epoch 7/15\n",
      "1228/1228 [==============================] - 8s 7ms/step - loss: 0.8212 - mse: 0.8212 - mae: 0.6215 - val_loss: 0.8288 - val_mse: 0.8288 - val_mae: 0.6265\n",
      "INFO:tensorflow:Assets written to: model_2\\assets\n"
     ]
    },
    {
     "name": "stderr",
     "output_type": "stream",
     "text": [
      "INFO:tensorflow:Assets written to: model_2\\assets\n"
     ]
    },
    {
     "name": "stdout",
     "output_type": "stream",
     "text": [
      "Epoch 8/15\n",
      "1228/1228 [==============================] - 8s 7ms/step - loss: 0.8200 - mse: 0.8200 - mae: 0.6213 - val_loss: 0.8309 - val_mse: 0.8308 - val_mae: 0.6284\n",
      "Epoch 9/15\n",
      "1228/1228 [==============================] - 8s 7ms/step - loss: 0.8181 - mse: 0.8181 - mae: 0.6208 - val_loss: 0.8298 - val_mse: 0.8298 - val_mae: 0.6279\n",
      "Epoch 10/15\n",
      "1228/1228 [==============================] - 8s 7ms/step - loss: 0.8175 - mse: 0.8175 - mae: 0.6206 - val_loss: 0.8304 - val_mse: 0.8303 - val_mae: 0.6272\n",
      "Epoch 11/15\n",
      "1228/1228 [==============================] - 8s 6ms/step - loss: 0.8159 - mse: 0.8159 - mae: 0.6201 - val_loss: 0.8279 - val_mse: 0.8279 - val_mae: 0.6274\n",
      "INFO:tensorflow:Assets written to: model_2\\assets\n"
     ]
    },
    {
     "name": "stderr",
     "output_type": "stream",
     "text": [
      "INFO:tensorflow:Assets written to: model_2\\assets\n"
     ]
    },
    {
     "name": "stdout",
     "output_type": "stream",
     "text": [
      "Epoch 12/15\n",
      "1228/1228 [==============================] - 8s 6ms/step - loss: 0.8148 - mse: 0.8148 - mae: 0.6198 - val_loss: 0.8301 - val_mse: 0.8300 - val_mae: 0.6286\n",
      "Epoch 13/15\n",
      "1228/1228 [==============================] - 8s 6ms/step - loss: 0.8130 - mse: 0.8130 - mae: 0.6193 - val_loss: 0.8280 - val_mse: 0.8280 - val_mae: 0.6283\n",
      "Epoch 14/15\n",
      "1228/1228 [==============================] - 8s 6ms/step - loss: 0.8112 - mse: 0.8112 - mae: 0.6188 - val_loss: 0.8292 - val_mse: 0.8292 - val_mae: 0.6283\n",
      "Epoch 15/15\n",
      "1228/1228 [==============================] - 8s 6ms/step - loss: 0.8098 - mse: 0.8098 - mae: 0.6185 - val_loss: 0.8294 - val_mse: 0.8294 - val_mae: 0.6289\n"
     ]
    },
    {
     "name": "stderr",
     "output_type": "stream",
     "text": [
      "WARNING:absl:Importing a function (__inference_dense_31_layer_call_and_return_conditional_losses_274613) with ops with unsaved custom gradients. Will likely fail if a gradient is requested.\n",
      "WARNING:absl:Importing a function (__inference_dense_30_layer_call_and_return_conditional_losses_274551) with ops with unsaved custom gradients. Will likely fail if a gradient is requested.\n",
      "WARNING:absl:Importing a function (__inference_dense_36_layer_call_and_return_conditional_losses_274722) with ops with unsaved custom gradients. Will likely fail if a gradient is requested.\n",
      "WARNING:absl:Importing a function (__inference_dense_39_layer_call_and_return_conditional_losses_276900) with ops with unsaved custom gradients. Will likely fail if a gradient is requested.\n",
      "WARNING:absl:Importing a function (__inference_dense_32_layer_call_and_return_conditional_losses_274675) with ops with unsaved custom gradients. Will likely fail if a gradient is requested.\n",
      "WARNING:absl:Importing a function (__inference_dense_38_layer_call_and_return_conditional_losses_276846) with ops with unsaved custom gradients. Will likely fail if a gradient is requested.\n",
      "WARNING:absl:Importing a function (__inference_model_3_layer_call_and_return_conditional_losses_276054) with ops with unsaved custom gradients. Will likely fail if a gradient is requested.\n",
      "WARNING:absl:Importing a function (__inference_dense_37_layer_call_and_return_conditional_losses_274753) with ops with unsaved custom gradients. Will likely fail if a gradient is requested.\n",
      "WARNING:absl:Importing a function (__inference_dense_32_layer_call_and_return_conditional_losses_276617) with ops with unsaved custom gradients. Will likely fail if a gradient is requested.\n",
      "WARNING:absl:Importing a function (__inference_dense_33_layer_call_and_return_conditional_losses_276428) with ops with unsaved custom gradients. Will likely fail if a gradient is requested.\n",
      "WARNING:absl:Importing a function (__inference_dense_39_layer_call_and_return_conditional_losses_274815) with ops with unsaved custom gradients. Will likely fail if a gradient is requested.\n",
      "WARNING:absl:Importing a function (__inference_model_3_layer_call_and_return_conditional_losses_276315) with ops with unsaved custom gradients. Will likely fail if a gradient is requested.\n",
      "WARNING:absl:Importing a function (__inference_dense_37_layer_call_and_return_conditional_losses_276792) with ops with unsaved custom gradients. Will likely fail if a gradient is requested.\n",
      "WARNING:absl:Importing a function (__inference_dense_35_layer_call_and_return_conditional_losses_276644) with ops with unsaved custom gradients. Will likely fail if a gradient is requested.\n",
      "WARNING:absl:Importing a function (__inference_dense_34_layer_call_and_return_conditional_losses_274589) with ops with unsaved custom gradients. Will likely fail if a gradient is requested.\n",
      "WARNING:absl:Importing a function (__inference_dense_36_layer_call_and_return_conditional_losses_276738) with ops with unsaved custom gradients. Will likely fail if a gradient is requested.\n",
      "WARNING:absl:Importing a function (__inference_dense_35_layer_call_and_return_conditional_losses_274651) with ops with unsaved custom gradients. Will likely fail if a gradient is requested.\n",
      "WARNING:absl:Importing a function (__inference_dense_38_layer_call_and_return_conditional_losses_274784) with ops with unsaved custom gradients. Will likely fail if a gradient is requested.\n",
      "WARNING:absl:Importing a function (__inference__wrapped_model_274461) with ops with unsaved custom gradients. Will likely fail if a gradient is requested.\n",
      "WARNING:absl:Importing a function (__inference_dense_34_layer_call_and_return_conditional_losses_276536) with ops with unsaved custom gradients. Will likely fail if a gradient is requested.\n",
      "WARNING:absl:Importing a function (__inference_dense_31_layer_call_and_return_conditional_losses_276509) with ops with unsaved custom gradients. Will likely fail if a gradient is requested.\n",
      "WARNING:absl:Importing a function (__inference_dense_30_layer_call_and_return_conditional_losses_276401) with ops with unsaved custom gradients. Will likely fail if a gradient is requested.\n",
      "WARNING:absl:Importing a function (__inference_dense_33_layer_call_and_return_conditional_losses_274527) with ops with unsaved custom gradients. Will likely fail if a gradient is requested.\n"
     ]
    },
    {
     "name": "stdout",
     "output_type": "stream",
     "text": [
      "Pearson: 0.12584664401288173\n",
      "Epoch 1/15\n",
      "1228/1228 [==============================] - 12s 8ms/step - loss: 0.8294 - mse: 0.8294 - mae: 0.6238 - val_loss: 0.8445 - val_mse: 0.8445 - val_mae: 0.6295\n",
      "INFO:tensorflow:Assets written to: model_3\\assets\n"
     ]
    },
    {
     "name": "stderr",
     "output_type": "stream",
     "text": [
      "INFO:tensorflow:Assets written to: model_3\\assets\n"
     ]
    },
    {
     "name": "stdout",
     "output_type": "stream",
     "text": [
      "Epoch 2/15\n",
      "1228/1228 [==============================] - 9s 7ms/step - loss: 0.8266 - mse: 0.8266 - mae: 0.6229 - val_loss: 0.8467 - val_mse: 0.8467 - val_mae: 0.6301\n",
      "Epoch 3/15\n",
      "1228/1228 [==============================] - 8s 7ms/step - loss: 0.8237 - mse: 0.8237 - mae: 0.6222 - val_loss: 0.8448 - val_mse: 0.8448 - val_mae: 0.6303\n",
      "Epoch 4/15\n",
      "1228/1228 [==============================] - 8s 7ms/step - loss: 0.8222 - mse: 0.8222 - mae: 0.6218 - val_loss: 0.8399 - val_mse: 0.8399 - val_mae: 0.6286\n",
      "INFO:tensorflow:Assets written to: model_3\\assets\n"
     ]
    },
    {
     "name": "stderr",
     "output_type": "stream",
     "text": [
      "INFO:tensorflow:Assets written to: model_3\\assets\n"
     ]
    },
    {
     "name": "stdout",
     "output_type": "stream",
     "text": [
      "Epoch 5/15\n",
      "1228/1228 [==============================] - 8s 7ms/step - loss: 0.8210 - mse: 0.8210 - mae: 0.6215 - val_loss: 0.8428 - val_mse: 0.8428 - val_mae: 0.6297\n",
      "Epoch 6/15\n",
      "1228/1228 [==============================] - 8s 7ms/step - loss: 0.8199 - mse: 0.8199 - mae: 0.6211 - val_loss: 0.8391 - val_mse: 0.8391 - val_mae: 0.6290\n",
      "INFO:tensorflow:Assets written to: model_3\\assets\n"
     ]
    },
    {
     "name": "stderr",
     "output_type": "stream",
     "text": [
      "INFO:tensorflow:Assets written to: model_3\\assets\n"
     ]
    },
    {
     "name": "stdout",
     "output_type": "stream",
     "text": [
      "Epoch 7/15\n",
      "1228/1228 [==============================] - 8s 7ms/step - loss: 0.8186 - mse: 0.8186 - mae: 0.6208 - val_loss: 0.8387 - val_mse: 0.8387 - val_mae: 0.6292\n",
      "INFO:tensorflow:Assets written to: model_3\\assets\n"
     ]
    },
    {
     "name": "stderr",
     "output_type": "stream",
     "text": [
      "INFO:tensorflow:Assets written to: model_3\\assets\n"
     ]
    },
    {
     "name": "stdout",
     "output_type": "stream",
     "text": [
      "Epoch 8/15\n",
      "1228/1228 [==============================] - 8s 7ms/step - loss: 0.8173 - mse: 0.8173 - mae: 0.6204 - val_loss: 0.8369 - val_mse: 0.8369 - val_mae: 0.6287\n",
      "INFO:tensorflow:Assets written to: model_3\\assets\n"
     ]
    },
    {
     "name": "stderr",
     "output_type": "stream",
     "text": [
      "INFO:tensorflow:Assets written to: model_3\\assets\n"
     ]
    },
    {
     "name": "stdout",
     "output_type": "stream",
     "text": [
      "Epoch 9/15\n",
      "1228/1228 [==============================] - 8s 7ms/step - loss: 0.8160 - mse: 0.8160 - mae: 0.6200 - val_loss: 0.8377 - val_mse: 0.8376 - val_mae: 0.6292\n",
      "Epoch 10/15\n",
      "1228/1228 [==============================] - 8s 7ms/step - loss: 0.8146 - mse: 0.8146 - mae: 0.6197 - val_loss: 0.8366 - val_mse: 0.8366 - val_mae: 0.6286\n",
      "INFO:tensorflow:Assets written to: model_3\\assets\n"
     ]
    },
    {
     "name": "stderr",
     "output_type": "stream",
     "text": [
      "INFO:tensorflow:Assets written to: model_3\\assets\n"
     ]
    },
    {
     "name": "stdout",
     "output_type": "stream",
     "text": [
      "Epoch 11/15\n",
      "1228/1228 [==============================] - 8s 7ms/step - loss: 0.8129 - mse: 0.8129 - mae: 0.6192 - val_loss: 0.8359 - val_mse: 0.8359 - val_mae: 0.6294\n",
      "INFO:tensorflow:Assets written to: model_3\\assets\n"
     ]
    },
    {
     "name": "stderr",
     "output_type": "stream",
     "text": [
      "INFO:tensorflow:Assets written to: model_3\\assets\n"
     ]
    },
    {
     "name": "stdout",
     "output_type": "stream",
     "text": [
      "Epoch 12/15\n",
      "1228/1228 [==============================] - 8s 6ms/step - loss: 0.8116 - mse: 0.8116 - mae: 0.6190 - val_loss: 0.8358 - val_mse: 0.8358 - val_mae: 0.6285\n",
      "INFO:tensorflow:Assets written to: model_3\\assets\n"
     ]
    },
    {
     "name": "stderr",
     "output_type": "stream",
     "text": [
      "INFO:tensorflow:Assets written to: model_3\\assets\n"
     ]
    },
    {
     "name": "stdout",
     "output_type": "stream",
     "text": [
      "Epoch 13/15\n",
      "1228/1228 [==============================] - 8s 6ms/step - loss: 0.8100 - mse: 0.8100 - mae: 0.6186 - val_loss: 0.8356 - val_mse: 0.8356 - val_mae: 0.6300\n",
      "INFO:tensorflow:Assets written to: model_3\\assets\n"
     ]
    },
    {
     "name": "stderr",
     "output_type": "stream",
     "text": [
      "INFO:tensorflow:Assets written to: model_3\\assets\n"
     ]
    },
    {
     "name": "stdout",
     "output_type": "stream",
     "text": [
      "Epoch 14/15\n",
      "1228/1228 [==============================] - 8s 7ms/step - loss: 0.8079 - mse: 0.8079 - mae: 0.6179 - val_loss: 0.8357 - val_mse: 0.8357 - val_mae: 0.6294\n",
      "Epoch 15/15\n",
      "1228/1228 [==============================] - 8s 6ms/step - loss: 0.8064 - mse: 0.8064 - mae: 0.6175 - val_loss: 0.8366 - val_mse: 0.8366 - val_mae: 0.6309\n"
     ]
    },
    {
     "name": "stderr",
     "output_type": "stream",
     "text": [
      "WARNING:absl:Importing a function (__inference_model_4_layer_call_and_return_conditional_losses_395048) with ops with unsaved custom gradients. Will likely fail if a gradient is requested.\n",
      "WARNING:absl:Importing a function (__inference_dense_49_layer_call_and_return_conditional_losses_395894) with ops with unsaved custom gradients. Will likely fail if a gradient is requested.\n",
      "WARNING:absl:Importing a function (__inference_dense_44_layer_call_and_return_conditional_losses_393583) with ops with unsaved custom gradients. Will likely fail if a gradient is requested.\n",
      "WARNING:absl:Importing a function (__inference_dense_43_layer_call_and_return_conditional_losses_393521) with ops with unsaved custom gradients. Will likely fail if a gradient is requested.\n",
      "WARNING:absl:Importing a function (__inference_dense_49_layer_call_and_return_conditional_losses_393809) with ops with unsaved custom gradients. Will likely fail if a gradient is requested.\n",
      "WARNING:absl:Importing a function (__inference_dense_46_layer_call_and_return_conditional_losses_393716) with ops with unsaved custom gradients. Will likely fail if a gradient is requested.\n",
      "WARNING:absl:Importing a function (__inference_model_4_layer_call_and_return_conditional_losses_395309) with ops with unsaved custom gradients. Will likely fail if a gradient is requested.\n",
      "WARNING:absl:Importing a function (__inference_dense_44_layer_call_and_return_conditional_losses_395530) with ops with unsaved custom gradients. Will likely fail if a gradient is requested.\n",
      "WARNING:absl:Importing a function (__inference_dense_42_layer_call_and_return_conditional_losses_393669) with ops with unsaved custom gradients. Will likely fail if a gradient is requested.\n",
      "WARNING:absl:Importing a function (__inference_dense_41_layer_call_and_return_conditional_losses_393607) with ops with unsaved custom gradients. Will likely fail if a gradient is requested.\n",
      "WARNING:absl:Importing a function (__inference_dense_47_layer_call_and_return_conditional_losses_393747) with ops with unsaved custom gradients. Will likely fail if a gradient is requested.\n",
      "WARNING:absl:Importing a function (__inference_dense_48_layer_call_and_return_conditional_losses_393778) with ops with unsaved custom gradients. Will likely fail if a gradient is requested.\n",
      "WARNING:absl:Importing a function (__inference_dense_43_layer_call_and_return_conditional_losses_395422) with ops with unsaved custom gradients. Will likely fail if a gradient is requested.\n",
      "WARNING:absl:Importing a function (__inference_dense_45_layer_call_and_return_conditional_losses_393645) with ops with unsaved custom gradients. Will likely fail if a gradient is requested.\n",
      "WARNING:absl:Importing a function (__inference_dense_48_layer_call_and_return_conditional_losses_395840) with ops with unsaved custom gradients. Will likely fail if a gradient is requested.\n",
      "WARNING:absl:Importing a function (__inference_dense_40_layer_call_and_return_conditional_losses_395395) with ops with unsaved custom gradients. Will likely fail if a gradient is requested.\n",
      "WARNING:absl:Importing a function (__inference_dense_42_layer_call_and_return_conditional_losses_395611) with ops with unsaved custom gradients. Will likely fail if a gradient is requested.\n",
      "WARNING:absl:Importing a function (__inference_dense_41_layer_call_and_return_conditional_losses_395503) with ops with unsaved custom gradients. Will likely fail if a gradient is requested.\n",
      "WARNING:absl:Importing a function (__inference_dense_40_layer_call_and_return_conditional_losses_393545) with ops with unsaved custom gradients. Will likely fail if a gradient is requested.\n",
      "WARNING:absl:Importing a function (__inference_dense_47_layer_call_and_return_conditional_losses_395786) with ops with unsaved custom gradients. Will likely fail if a gradient is requested.\n",
      "WARNING:absl:Importing a function (__inference_dense_46_layer_call_and_return_conditional_losses_395732) with ops with unsaved custom gradients. Will likely fail if a gradient is requested.\n",
      "WARNING:absl:Importing a function (__inference_dense_45_layer_call_and_return_conditional_losses_395638) with ops with unsaved custom gradients. Will likely fail if a gradient is requested.\n",
      "WARNING:absl:Importing a function (__inference__wrapped_model_393455) with ops with unsaved custom gradients. Will likely fail if a gradient is requested.\n"
     ]
    },
    {
     "name": "stdout",
     "output_type": "stream",
     "text": [
      "Pearson: 0.13532369068551778\n",
      "Epoch 1/15\n",
      "1228/1228 [==============================] - 12s 8ms/step - loss: 0.8293 - mse: 0.8292 - mae: 0.6237 - val_loss: 0.8434 - val_mse: 0.8434 - val_mae: 0.6281\n",
      "INFO:tensorflow:Assets written to: model_4\\assets\n"
     ]
    },
    {
     "name": "stderr",
     "output_type": "stream",
     "text": [
      "INFO:tensorflow:Assets written to: model_4\\assets\n"
     ]
    },
    {
     "name": "stdout",
     "output_type": "stream",
     "text": [
      "Epoch 2/15\n",
      "1228/1228 [==============================] - 10s 8ms/step - loss: 0.8267 - mse: 0.8267 - mae: 0.6231 - val_loss: 0.8414 - val_mse: 0.8414 - val_mae: 0.6298\n",
      "INFO:tensorflow:Assets written to: model_4\\assets\n"
     ]
    },
    {
     "name": "stderr",
     "output_type": "stream",
     "text": [
      "INFO:tensorflow:Assets written to: model_4\\assets\n"
     ]
    },
    {
     "name": "stdout",
     "output_type": "stream",
     "text": [
      "Epoch 3/15\n",
      "1228/1228 [==============================] - 8s 7ms/step - loss: 0.8242 - mse: 0.8242 - mae: 0.6223 - val_loss: 0.8433 - val_mse: 0.8433 - val_mae: 0.6291\n",
      "Epoch 4/15\n",
      "1228/1228 [==============================] - 9s 7ms/step - loss: 0.8227 - mse: 0.8227 - mae: 0.6219 - val_loss: 0.8379 - val_mse: 0.8379 - val_mae: 0.6281\n",
      "INFO:tensorflow:Assets written to: model_4\\assets\n"
     ]
    },
    {
     "name": "stderr",
     "output_type": "stream",
     "text": [
      "INFO:tensorflow:Assets written to: model_4\\assets\n"
     ]
    },
    {
     "name": "stdout",
     "output_type": "stream",
     "text": [
      "Epoch 5/15\n",
      "1228/1228 [==============================] - 8s 7ms/step - loss: 0.8222 - mse: 0.8222 - mae: 0.6218 - val_loss: 0.8384 - val_mse: 0.8384 - val_mae: 0.6294\n",
      "Epoch 6/15\n",
      "1228/1228 [==============================] - 8s 6ms/step - loss: 0.8210 - mse: 0.8210 - mae: 0.6215 - val_loss: 0.8381 - val_mse: 0.8381 - val_mae: 0.6303\n",
      "Epoch 7/15\n",
      "1228/1228 [==============================] - 8s 7ms/step - loss: 0.8200 - mse: 0.8200 - mae: 0.6212 - val_loss: 0.8376 - val_mse: 0.8375 - val_mae: 0.6284\n",
      "INFO:tensorflow:Assets written to: model_4\\assets\n"
     ]
    },
    {
     "name": "stderr",
     "output_type": "stream",
     "text": [
      "INFO:tensorflow:Assets written to: model_4\\assets\n"
     ]
    },
    {
     "name": "stdout",
     "output_type": "stream",
     "text": [
      "Epoch 8/15\n",
      "1228/1228 [==============================] - 8s 7ms/step - loss: 0.8193 - mse: 0.8192 - mae: 0.6211 - val_loss: 0.8363 - val_mse: 0.8363 - val_mae: 0.6287\n",
      "INFO:tensorflow:Assets written to: model_4\\assets\n"
     ]
    },
    {
     "name": "stderr",
     "output_type": "stream",
     "text": [
      "INFO:tensorflow:Assets written to: model_4\\assets\n"
     ]
    },
    {
     "name": "stdout",
     "output_type": "stream",
     "text": [
      "Epoch 9/15\n",
      "1228/1228 [==============================] - 8s 7ms/step - loss: 0.8179 - mse: 0.8179 - mae: 0.6208 - val_loss: 0.8358 - val_mse: 0.8358 - val_mae: 0.6283\n",
      "INFO:tensorflow:Assets written to: model_4\\assets\n"
     ]
    },
    {
     "name": "stderr",
     "output_type": "stream",
     "text": [
      "INFO:tensorflow:Assets written to: model_4\\assets\n"
     ]
    },
    {
     "name": "stdout",
     "output_type": "stream",
     "text": [
      "Epoch 10/15\n",
      "1228/1228 [==============================] - 8s 7ms/step - loss: 0.8163 - mse: 0.8163 - mae: 0.6202 - val_loss: 0.8353 - val_mse: 0.8353 - val_mae: 0.6300\n",
      "INFO:tensorflow:Assets written to: model_4\\assets\n"
     ]
    },
    {
     "name": "stderr",
     "output_type": "stream",
     "text": [
      "INFO:tensorflow:Assets written to: model_4\\assets\n"
     ]
    },
    {
     "name": "stdout",
     "output_type": "stream",
     "text": [
      "Epoch 11/15\n",
      "1228/1228 [==============================] - 8s 7ms/step - loss: 0.8146 - mse: 0.8146 - mae: 0.6198 - val_loss: 0.8366 - val_mse: 0.8366 - val_mae: 0.6294\n",
      "Epoch 12/15\n",
      "1228/1228 [==============================] - 8s 6ms/step - loss: 0.8131 - mse: 0.8130 - mae: 0.6194 - val_loss: 0.8365 - val_mse: 0.8365 - val_mae: 0.6304\n",
      "Epoch 13/15\n",
      "1228/1228 [==============================] - 8s 6ms/step - loss: 0.8111 - mse: 0.8111 - mae: 0.6188 - val_loss: 0.8346 - val_mse: 0.8346 - val_mae: 0.6290\n",
      "INFO:tensorflow:Assets written to: model_4\\assets\n"
     ]
    },
    {
     "name": "stderr",
     "output_type": "stream",
     "text": [
      "INFO:tensorflow:Assets written to: model_4\\assets\n"
     ]
    },
    {
     "name": "stdout",
     "output_type": "stream",
     "text": [
      "Epoch 14/15\n",
      "1228/1228 [==============================] - 8s 7ms/step - loss: 0.8092 - mse: 0.8092 - mae: 0.6182 - val_loss: 0.8356 - val_mse: 0.8356 - val_mae: 0.6307\n",
      "Epoch 15/15\n",
      "1228/1228 [==============================] - 8s 7ms/step - loss: 0.8078 - mse: 0.8078 - mae: 0.6178 - val_loss: 0.8356 - val_mse: 0.8356 - val_mae: 0.6295\n"
     ]
    },
    {
     "name": "stderr",
     "output_type": "stream",
     "text": [
      "WARNING:absl:Importing a function (__inference_dense_50_layer_call_and_return_conditional_losses_499650) with ops with unsaved custom gradients. Will likely fail if a gradient is requested.\n",
      "WARNING:absl:Importing a function (__inference_dense_51_layer_call_and_return_conditional_losses_501608) with ops with unsaved custom gradients. Will likely fail if a gradient is requested.\n",
      "WARNING:absl:Importing a function (__inference_dense_57_layer_call_and_return_conditional_losses_499852) with ops with unsaved custom gradients. Will likely fail if a gradient is requested.\n",
      "WARNING:absl:Importing a function (__inference_dense_55_layer_call_and_return_conditional_losses_499750) with ops with unsaved custom gradients. Will likely fail if a gradient is requested.\n",
      "WARNING:absl:Importing a function (__inference_dense_57_layer_call_and_return_conditional_losses_501891) with ops with unsaved custom gradients. Will likely fail if a gradient is requested.\n",
      "WARNING:absl:Importing a function (__inference_dense_58_layer_call_and_return_conditional_losses_499883) with ops with unsaved custom gradients. Will likely fail if a gradient is requested.\n",
      "WARNING:absl:Importing a function (__inference_dense_54_layer_call_and_return_conditional_losses_499688) with ops with unsaved custom gradients. Will likely fail if a gradient is requested.\n",
      "WARNING:absl:Importing a function (__inference_dense_54_layer_call_and_return_conditional_losses_501635) with ops with unsaved custom gradients. Will likely fail if a gradient is requested.\n",
      "WARNING:absl:Importing a function (__inference_dense_58_layer_call_and_return_conditional_losses_501945) with ops with unsaved custom gradients. Will likely fail if a gradient is requested.\n",
      "WARNING:absl:Importing a function (__inference_model_5_layer_call_and_return_conditional_losses_501153) with ops with unsaved custom gradients. Will likely fail if a gradient is requested.\n",
      "WARNING:absl:Importing a function (__inference_dense_51_layer_call_and_return_conditional_losses_499712) with ops with unsaved custom gradients. Will likely fail if a gradient is requested.\n",
      "WARNING:absl:Importing a function (__inference_dense_55_layer_call_and_return_conditional_losses_501743) with ops with unsaved custom gradients. Will likely fail if a gradient is requested.\n",
      "WARNING:absl:Importing a function (__inference_dense_52_layer_call_and_return_conditional_losses_501716) with ops with unsaved custom gradients. Will likely fail if a gradient is requested.\n",
      "WARNING:absl:Importing a function (__inference__wrapped_model_499560) with ops with unsaved custom gradients. Will likely fail if a gradient is requested.\n",
      "WARNING:absl:Importing a function (__inference_model_5_layer_call_and_return_conditional_losses_501414) with ops with unsaved custom gradients. Will likely fail if a gradient is requested.\n",
      "WARNING:absl:Importing a function (__inference_dense_56_layer_call_and_return_conditional_losses_501837) with ops with unsaved custom gradients. Will likely fail if a gradient is requested.\n",
      "WARNING:absl:Importing a function (__inference_dense_56_layer_call_and_return_conditional_losses_499821) with ops with unsaved custom gradients. Will likely fail if a gradient is requested.\n",
      "WARNING:absl:Importing a function (__inference_dense_53_layer_call_and_return_conditional_losses_499626) with ops with unsaved custom gradients. Will likely fail if a gradient is requested.\n",
      "WARNING:absl:Importing a function (__inference_dense_52_layer_call_and_return_conditional_losses_499774) with ops with unsaved custom gradients. Will likely fail if a gradient is requested.\n",
      "WARNING:absl:Importing a function (__inference_dense_59_layer_call_and_return_conditional_losses_499914) with ops with unsaved custom gradients. Will likely fail if a gradient is requested.\n",
      "WARNING:absl:Importing a function (__inference_dense_53_layer_call_and_return_conditional_losses_501527) with ops with unsaved custom gradients. Will likely fail if a gradient is requested.\n",
      "WARNING:absl:Importing a function (__inference_dense_50_layer_call_and_return_conditional_losses_501500) with ops with unsaved custom gradients. Will likely fail if a gradient is requested.\n",
      "WARNING:absl:Importing a function (__inference_dense_59_layer_call_and_return_conditional_losses_501999) with ops with unsaved custom gradients. Will likely fail if a gradient is requested.\n"
     ]
    },
    {
     "name": "stdout",
     "output_type": "stream",
     "text": [
      "Pearson: 0.1333821840102213\n"
     ]
    }
   ],
   "source": [
    "import scipy\n",
    "from sklearn.model_selection import StratifiedKFold\n",
    "kfold = StratifiedKFold(n_splits=5, shuffle=True, random_state=69)\n",
    "models = []\n",
    "\n",
    "for index, (train_indices, valid_indices) in enumerate(kfold.split(df, investment_id)):\n",
    "    X_train, X_val = df.iloc[train_indices], df.iloc[valid_indices]\n",
    "    investment_id_train = investment_id[train_indices]\n",
    "    y_train, y_val = y.iloc[train_indices], y.iloc[valid_indices]\n",
    "    investment_id_val = investment_id[valid_indices]\n",
    "    train_ds = make_dataset(X_train, investment_id_train, y_train)\n",
    "    valid_ds = make_dataset(X_val, investment_id_val, y_val, mode=\"valid\")\n",
    "    model = build_model()\n",
    "    callbacks = [tf.keras.callbacks.ModelCheckpoint(f\"model_{index}\", save_best_only=True),\n",
    "                 tf.keras.callbacks.EarlyStopping(patience=10),\n",
    "                 tf.keras.callbacks.ReduceLROnPlateau(factor=0.1, patience=5, verbose=1)]\n",
    "    history = model.fit(train_ds, epochs=15, validation_data=valid_ds, callbacks=callbacks)\n",
    "    models.append(load_model(f\"model_{index}\"))\n",
    "\n",
    "    pearson_score = scipy.stats.pearsonr(model.predict(valid_ds).ravel(), y_val.values)[0]\n",
    "    print('Pearson:', pearson_score)\n",
    "    # pd.DataFrame(history.history, columns=[\"mse\", \"val_mse\"]).plot()\n",
    "    # plt.title(\"MSE\")\n",
    "    # plt.show()\n",
    "    # pd.DataFrame(history.history, columns=[\"mae\", \"val_mae\"]).plot()\n",
    "    # plt.title(\"MAE\")\n",
    "    # plt.show()\n",
    "    del investment_id_train\n",
    "    del investment_id_val\n",
    "    del X_train\n",
    "    del X_val\n",
    "    del y_train\n",
    "    del y_val\n",
    "    del train_ds\n",
    "    del valid_ds\n",
    "    del model\n",
    "    gc.collect()"
   ],
   "metadata": {
    "collapsed": false,
    "pycharm": {
     "name": "#%%\n"
    }
   }
  },
  {
   "cell_type": "code",
   "execution_count": 7,
   "outputs": [
    {
     "name": "stderr",
     "output_type": "stream",
     "text": [
      "WARNING:absl:Importing a function (__inference_dense_16_layer_call_and_return_conditional_losses_90938) with ops with unsaved custom gradients. Will likely fail if a gradient is requested.\n",
      "WARNING:absl:Importing a function (__inference_model_1_layer_call_and_return_conditional_losses_92270) with ops with unsaved custom gradients. Will likely fail if a gradient is requested.\n",
      "WARNING:absl:Importing a function (__inference_dense_11_layer_call_and_return_conditional_losses_92725) with ops with unsaved custom gradients. Will likely fail if a gradient is requested.\n",
      "WARNING:absl:Importing a function (__inference_dense_12_layer_call_and_return_conditional_losses_92833) with ops with unsaved custom gradients. Will likely fail if a gradient is requested.\n",
      "WARNING:absl:Importing a function (__inference_dense_17_layer_call_and_return_conditional_losses_93008) with ops with unsaved custom gradients. Will likely fail if a gradient is requested.\n",
      "WARNING:absl:Importing a function (__inference_dense_19_layer_call_and_return_conditional_losses_93116) with ops with unsaved custom gradients. Will likely fail if a gradient is requested.\n",
      "WARNING:absl:Importing a function (__inference_dense_15_layer_call_and_return_conditional_losses_92860) with ops with unsaved custom gradients. Will likely fail if a gradient is requested.\n",
      "WARNING:absl:Importing a function (__inference_dense_17_layer_call_and_return_conditional_losses_90969) with ops with unsaved custom gradients. Will likely fail if a gradient is requested.\n",
      "WARNING:absl:Importing a function (__inference__wrapped_model_90677) with ops with unsaved custom gradients. Will likely fail if a gradient is requested.\n",
      "WARNING:absl:Importing a function (__inference_dense_10_layer_call_and_return_conditional_losses_90767) with ops with unsaved custom gradients. Will likely fail if a gradient is requested.\n",
      "WARNING:absl:Importing a function (__inference_dense_18_layer_call_and_return_conditional_losses_93062) with ops with unsaved custom gradients. Will likely fail if a gradient is requested.\n",
      "WARNING:absl:Importing a function (__inference_dense_11_layer_call_and_return_conditional_losses_90829) with ops with unsaved custom gradients. Will likely fail if a gradient is requested.\n",
      "WARNING:absl:Importing a function (__inference_dense_19_layer_call_and_return_conditional_losses_91031) with ops with unsaved custom gradients. Will likely fail if a gradient is requested.\n",
      "WARNING:absl:Importing a function (__inference_dense_13_layer_call_and_return_conditional_losses_92644) with ops with unsaved custom gradients. Will likely fail if a gradient is requested.\n",
      "WARNING:absl:Importing a function (__inference_dense_13_layer_call_and_return_conditional_losses_90743) with ops with unsaved custom gradients. Will likely fail if a gradient is requested.\n",
      "WARNING:absl:Importing a function (__inference_dense_10_layer_call_and_return_conditional_losses_92617) with ops with unsaved custom gradients. Will likely fail if a gradient is requested.\n",
      "WARNING:absl:Importing a function (__inference_dense_14_layer_call_and_return_conditional_losses_90805) with ops with unsaved custom gradients. Will likely fail if a gradient is requested.\n",
      "WARNING:absl:Importing a function (__inference_dense_15_layer_call_and_return_conditional_losses_90867) with ops with unsaved custom gradients. Will likely fail if a gradient is requested.\n",
      "WARNING:absl:Importing a function (__inference_model_1_layer_call_and_return_conditional_losses_92531) with ops with unsaved custom gradients. Will likely fail if a gradient is requested.\n",
      "WARNING:absl:Importing a function (__inference_dense_14_layer_call_and_return_conditional_losses_92752) with ops with unsaved custom gradients. Will likely fail if a gradient is requested.\n",
      "WARNING:absl:Importing a function (__inference_dense_16_layer_call_and_return_conditional_losses_92954) with ops with unsaved custom gradients. Will likely fail if a gradient is requested.\n",
      "WARNING:absl:Importing a function (__inference_dense_18_layer_call_and_return_conditional_losses_91000) with ops with unsaved custom gradients. Will likely fail if a gradient is requested.\n",
      "WARNING:absl:Importing a function (__inference_dense_12_layer_call_and_return_conditional_losses_90891) with ops with unsaved custom gradients. Will likely fail if a gradient is requested.\n",
      "WARNING:absl:Importing a function (__inference_model_2_layer_call_and_return_conditional_losses_193749) with ops with unsaved custom gradients. Will likely fail if a gradient is requested.\n",
      "WARNING:absl:Importing a function (__inference_dense_25_layer_call_and_return_conditional_losses_194339) with ops with unsaved custom gradients. Will likely fail if a gradient is requested.\n",
      "WARNING:absl:Importing a function (__inference_dense_21_layer_call_and_return_conditional_losses_194204) with ops with unsaved custom gradients. Will likely fail if a gradient is requested.\n",
      "WARNING:absl:Importing a function (__inference_dense_28_layer_call_and_return_conditional_losses_194541) with ops with unsaved custom gradients. Will likely fail if a gradient is requested.\n",
      "WARNING:absl:Importing a function (__inference_dense_22_layer_call_and_return_conditional_losses_194312) with ops with unsaved custom gradients. Will likely fail if a gradient is requested.\n",
      "WARNING:absl:Importing a function (__inference_model_2_layer_call_and_return_conditional_losses_194010) with ops with unsaved custom gradients. Will likely fail if a gradient is requested.\n",
      "WARNING:absl:Importing a function (__inference_dense_26_layer_call_and_return_conditional_losses_192417) with ops with unsaved custom gradients. Will likely fail if a gradient is requested.\n",
      "WARNING:absl:Importing a function (__inference_dense_20_layer_call_and_return_conditional_losses_192246) with ops with unsaved custom gradients. Will likely fail if a gradient is requested.\n",
      "WARNING:absl:Importing a function (__inference__wrapped_model_192156) with ops with unsaved custom gradients. Will likely fail if a gradient is requested.\n",
      "WARNING:absl:Importing a function (__inference_dense_29_layer_call_and_return_conditional_losses_192510) with ops with unsaved custom gradients. Will likely fail if a gradient is requested.\n",
      "WARNING:absl:Importing a function (__inference_dense_24_layer_call_and_return_conditional_losses_192284) with ops with unsaved custom gradients. Will likely fail if a gradient is requested.\n",
      "WARNING:absl:Importing a function (__inference_dense_28_layer_call_and_return_conditional_losses_192479) with ops with unsaved custom gradients. Will likely fail if a gradient is requested.\n",
      "WARNING:absl:Importing a function (__inference_dense_24_layer_call_and_return_conditional_losses_194231) with ops with unsaved custom gradients. Will likely fail if a gradient is requested.\n",
      "WARNING:absl:Importing a function (__inference_dense_26_layer_call_and_return_conditional_losses_194433) with ops with unsaved custom gradients. Will likely fail if a gradient is requested.\n",
      "WARNING:absl:Importing a function (__inference_dense_27_layer_call_and_return_conditional_losses_194487) with ops with unsaved custom gradients. Will likely fail if a gradient is requested.\n",
      "WARNING:absl:Importing a function (__inference_dense_27_layer_call_and_return_conditional_losses_192448) with ops with unsaved custom gradients. Will likely fail if a gradient is requested.\n",
      "WARNING:absl:Importing a function (__inference_dense_21_layer_call_and_return_conditional_losses_192308) with ops with unsaved custom gradients. Will likely fail if a gradient is requested.\n",
      "WARNING:absl:Importing a function (__inference_dense_29_layer_call_and_return_conditional_losses_194595) with ops with unsaved custom gradients. Will likely fail if a gradient is requested.\n",
      "WARNING:absl:Importing a function (__inference_dense_25_layer_call_and_return_conditional_losses_192346) with ops with unsaved custom gradients. Will likely fail if a gradient is requested.\n",
      "WARNING:absl:Importing a function (__inference_dense_23_layer_call_and_return_conditional_losses_192222) with ops with unsaved custom gradients. Will likely fail if a gradient is requested.\n",
      "WARNING:absl:Importing a function (__inference_dense_20_layer_call_and_return_conditional_losses_194096) with ops with unsaved custom gradients. Will likely fail if a gradient is requested.\n",
      "WARNING:absl:Importing a function (__inference_dense_22_layer_call_and_return_conditional_losses_192370) with ops with unsaved custom gradients. Will likely fail if a gradient is requested.\n",
      "WARNING:absl:Importing a function (__inference_dense_23_layer_call_and_return_conditional_losses_194123) with ops with unsaved custom gradients. Will likely fail if a gradient is requested.\n",
      "WARNING:absl:Importing a function (__inference_dense_31_layer_call_and_return_conditional_losses_274613) with ops with unsaved custom gradients. Will likely fail if a gradient is requested.\n",
      "WARNING:absl:Importing a function (__inference_dense_30_layer_call_and_return_conditional_losses_274551) with ops with unsaved custom gradients. Will likely fail if a gradient is requested.\n",
      "WARNING:absl:Importing a function (__inference_dense_36_layer_call_and_return_conditional_losses_274722) with ops with unsaved custom gradients. Will likely fail if a gradient is requested.\n",
      "WARNING:absl:Importing a function (__inference_dense_39_layer_call_and_return_conditional_losses_276900) with ops with unsaved custom gradients. Will likely fail if a gradient is requested.\n",
      "WARNING:absl:Importing a function (__inference_dense_32_layer_call_and_return_conditional_losses_274675) with ops with unsaved custom gradients. Will likely fail if a gradient is requested.\n",
      "WARNING:absl:Importing a function (__inference_dense_38_layer_call_and_return_conditional_losses_276846) with ops with unsaved custom gradients. Will likely fail if a gradient is requested.\n",
      "WARNING:absl:Importing a function (__inference_model_3_layer_call_and_return_conditional_losses_276054) with ops with unsaved custom gradients. Will likely fail if a gradient is requested.\n",
      "WARNING:absl:Importing a function (__inference_dense_37_layer_call_and_return_conditional_losses_274753) with ops with unsaved custom gradients. Will likely fail if a gradient is requested.\n",
      "WARNING:absl:Importing a function (__inference_dense_32_layer_call_and_return_conditional_losses_276617) with ops with unsaved custom gradients. Will likely fail if a gradient is requested.\n",
      "WARNING:absl:Importing a function (__inference_dense_33_layer_call_and_return_conditional_losses_276428) with ops with unsaved custom gradients. Will likely fail if a gradient is requested.\n",
      "WARNING:absl:Importing a function (__inference_dense_39_layer_call_and_return_conditional_losses_274815) with ops with unsaved custom gradients. Will likely fail if a gradient is requested.\n",
      "WARNING:absl:Importing a function (__inference_model_3_layer_call_and_return_conditional_losses_276315) with ops with unsaved custom gradients. Will likely fail if a gradient is requested.\n",
      "WARNING:absl:Importing a function (__inference_dense_37_layer_call_and_return_conditional_losses_276792) with ops with unsaved custom gradients. Will likely fail if a gradient is requested.\n",
      "WARNING:absl:Importing a function (__inference_dense_35_layer_call_and_return_conditional_losses_276644) with ops with unsaved custom gradients. Will likely fail if a gradient is requested.\n",
      "WARNING:absl:Importing a function (__inference_dense_34_layer_call_and_return_conditional_losses_274589) with ops with unsaved custom gradients. Will likely fail if a gradient is requested.\n",
      "WARNING:absl:Importing a function (__inference_dense_36_layer_call_and_return_conditional_losses_276738) with ops with unsaved custom gradients. Will likely fail if a gradient is requested.\n",
      "WARNING:absl:Importing a function (__inference_dense_35_layer_call_and_return_conditional_losses_274651) with ops with unsaved custom gradients. Will likely fail if a gradient is requested.\n",
      "WARNING:absl:Importing a function (__inference_dense_38_layer_call_and_return_conditional_losses_274784) with ops with unsaved custom gradients. Will likely fail if a gradient is requested.\n",
      "WARNING:absl:Importing a function (__inference__wrapped_model_274461) with ops with unsaved custom gradients. Will likely fail if a gradient is requested.\n",
      "WARNING:absl:Importing a function (__inference_dense_34_layer_call_and_return_conditional_losses_276536) with ops with unsaved custom gradients. Will likely fail if a gradient is requested.\n",
      "WARNING:absl:Importing a function (__inference_dense_31_layer_call_and_return_conditional_losses_276509) with ops with unsaved custom gradients. Will likely fail if a gradient is requested.\n",
      "WARNING:absl:Importing a function (__inference_dense_30_layer_call_and_return_conditional_losses_276401) with ops with unsaved custom gradients. Will likely fail if a gradient is requested.\n",
      "WARNING:absl:Importing a function (__inference_dense_33_layer_call_and_return_conditional_losses_274527) with ops with unsaved custom gradients. Will likely fail if a gradient is requested.\n",
      "WARNING:absl:Importing a function (__inference_model_4_layer_call_and_return_conditional_losses_395048) with ops with unsaved custom gradients. Will likely fail if a gradient is requested.\n",
      "WARNING:absl:Importing a function (__inference_dense_49_layer_call_and_return_conditional_losses_395894) with ops with unsaved custom gradients. Will likely fail if a gradient is requested.\n",
      "WARNING:absl:Importing a function (__inference_dense_44_layer_call_and_return_conditional_losses_393583) with ops with unsaved custom gradients. Will likely fail if a gradient is requested.\n",
      "WARNING:absl:Importing a function (__inference_dense_43_layer_call_and_return_conditional_losses_393521) with ops with unsaved custom gradients. Will likely fail if a gradient is requested.\n",
      "WARNING:absl:Importing a function (__inference_dense_49_layer_call_and_return_conditional_losses_393809) with ops with unsaved custom gradients. Will likely fail if a gradient is requested.\n",
      "WARNING:absl:Importing a function (__inference_dense_46_layer_call_and_return_conditional_losses_393716) with ops with unsaved custom gradients. Will likely fail if a gradient is requested.\n",
      "WARNING:absl:Importing a function (__inference_model_4_layer_call_and_return_conditional_losses_395309) with ops with unsaved custom gradients. Will likely fail if a gradient is requested.\n",
      "WARNING:absl:Importing a function (__inference_dense_44_layer_call_and_return_conditional_losses_395530) with ops with unsaved custom gradients. Will likely fail if a gradient is requested.\n",
      "WARNING:absl:Importing a function (__inference_dense_42_layer_call_and_return_conditional_losses_393669) with ops with unsaved custom gradients. Will likely fail if a gradient is requested.\n",
      "WARNING:absl:Importing a function (__inference_dense_41_layer_call_and_return_conditional_losses_393607) with ops with unsaved custom gradients. Will likely fail if a gradient is requested.\n",
      "WARNING:absl:Importing a function (__inference_dense_47_layer_call_and_return_conditional_losses_393747) with ops with unsaved custom gradients. Will likely fail if a gradient is requested.\n",
      "WARNING:absl:Importing a function (__inference_dense_48_layer_call_and_return_conditional_losses_393778) with ops with unsaved custom gradients. Will likely fail if a gradient is requested.\n",
      "WARNING:absl:Importing a function (__inference_dense_43_layer_call_and_return_conditional_losses_395422) with ops with unsaved custom gradients. Will likely fail if a gradient is requested.\n",
      "WARNING:absl:Importing a function (__inference_dense_45_layer_call_and_return_conditional_losses_393645) with ops with unsaved custom gradients. Will likely fail if a gradient is requested.\n",
      "WARNING:absl:Importing a function (__inference_dense_48_layer_call_and_return_conditional_losses_395840) with ops with unsaved custom gradients. Will likely fail if a gradient is requested.\n",
      "WARNING:absl:Importing a function (__inference_dense_40_layer_call_and_return_conditional_losses_395395) with ops with unsaved custom gradients. Will likely fail if a gradient is requested.\n",
      "WARNING:absl:Importing a function (__inference_dense_42_layer_call_and_return_conditional_losses_395611) with ops with unsaved custom gradients. Will likely fail if a gradient is requested.\n",
      "WARNING:absl:Importing a function (__inference_dense_41_layer_call_and_return_conditional_losses_395503) with ops with unsaved custom gradients. Will likely fail if a gradient is requested.\n",
      "WARNING:absl:Importing a function (__inference_dense_40_layer_call_and_return_conditional_losses_393545) with ops with unsaved custom gradients. Will likely fail if a gradient is requested.\n",
      "WARNING:absl:Importing a function (__inference_dense_47_layer_call_and_return_conditional_losses_395786) with ops with unsaved custom gradients. Will likely fail if a gradient is requested.\n",
      "WARNING:absl:Importing a function (__inference_dense_46_layer_call_and_return_conditional_losses_395732) with ops with unsaved custom gradients. Will likely fail if a gradient is requested.\n",
      "WARNING:absl:Importing a function (__inference_dense_45_layer_call_and_return_conditional_losses_395638) with ops with unsaved custom gradients. Will likely fail if a gradient is requested.\n",
      "WARNING:absl:Importing a function (__inference__wrapped_model_393455) with ops with unsaved custom gradients. Will likely fail if a gradient is requested.\n",
      "WARNING:absl:Importing a function (__inference_dense_50_layer_call_and_return_conditional_losses_499650) with ops with unsaved custom gradients. Will likely fail if a gradient is requested.\n",
      "WARNING:absl:Importing a function (__inference_dense_51_layer_call_and_return_conditional_losses_501608) with ops with unsaved custom gradients. Will likely fail if a gradient is requested.\n",
      "WARNING:absl:Importing a function (__inference_dense_57_layer_call_and_return_conditional_losses_499852) with ops with unsaved custom gradients. Will likely fail if a gradient is requested.\n",
      "WARNING:absl:Importing a function (__inference_dense_55_layer_call_and_return_conditional_losses_499750) with ops with unsaved custom gradients. Will likely fail if a gradient is requested.\n",
      "WARNING:absl:Importing a function (__inference_dense_57_layer_call_and_return_conditional_losses_501891) with ops with unsaved custom gradients. Will likely fail if a gradient is requested.\n",
      "WARNING:absl:Importing a function (__inference_dense_58_layer_call_and_return_conditional_losses_499883) with ops with unsaved custom gradients. Will likely fail if a gradient is requested.\n",
      "WARNING:absl:Importing a function (__inference_dense_54_layer_call_and_return_conditional_losses_499688) with ops with unsaved custom gradients. Will likely fail if a gradient is requested.\n",
      "WARNING:absl:Importing a function (__inference_dense_54_layer_call_and_return_conditional_losses_501635) with ops with unsaved custom gradients. Will likely fail if a gradient is requested.\n",
      "WARNING:absl:Importing a function (__inference_dense_58_layer_call_and_return_conditional_losses_501945) with ops with unsaved custom gradients. Will likely fail if a gradient is requested.\n",
      "WARNING:absl:Importing a function (__inference_model_5_layer_call_and_return_conditional_losses_501153) with ops with unsaved custom gradients. Will likely fail if a gradient is requested.\n",
      "WARNING:absl:Importing a function (__inference_dense_51_layer_call_and_return_conditional_losses_499712) with ops with unsaved custom gradients. Will likely fail if a gradient is requested.\n",
      "WARNING:absl:Importing a function (__inference_dense_55_layer_call_and_return_conditional_losses_501743) with ops with unsaved custom gradients. Will likely fail if a gradient is requested.\n",
      "WARNING:absl:Importing a function (__inference_dense_52_layer_call_and_return_conditional_losses_501716) with ops with unsaved custom gradients. Will likely fail if a gradient is requested.\n",
      "WARNING:absl:Importing a function (__inference__wrapped_model_499560) with ops with unsaved custom gradients. Will likely fail if a gradient is requested.\n",
      "WARNING:absl:Importing a function (__inference_model_5_layer_call_and_return_conditional_losses_501414) with ops with unsaved custom gradients. Will likely fail if a gradient is requested.\n",
      "WARNING:absl:Importing a function (__inference_dense_56_layer_call_and_return_conditional_losses_501837) with ops with unsaved custom gradients. Will likely fail if a gradient is requested.\n",
      "WARNING:absl:Importing a function (__inference_dense_56_layer_call_and_return_conditional_losses_499821) with ops with unsaved custom gradients. Will likely fail if a gradient is requested.\n",
      "WARNING:absl:Importing a function (__inference_dense_53_layer_call_and_return_conditional_losses_499626) with ops with unsaved custom gradients. Will likely fail if a gradient is requested.\n",
      "WARNING:absl:Importing a function (__inference_dense_52_layer_call_and_return_conditional_losses_499774) with ops with unsaved custom gradients. Will likely fail if a gradient is requested.\n",
      "WARNING:absl:Importing a function (__inference_dense_59_layer_call_and_return_conditional_losses_499914) with ops with unsaved custom gradients. Will likely fail if a gradient is requested.\n",
      "WARNING:absl:Importing a function (__inference_dense_53_layer_call_and_return_conditional_losses_501527) with ops with unsaved custom gradients. Will likely fail if a gradient is requested.\n",
      "WARNING:absl:Importing a function (__inference_dense_50_layer_call_and_return_conditional_losses_501500) with ops with unsaved custom gradients. Will likely fail if a gradient is requested.\n",
      "WARNING:absl:Importing a function (__inference_dense_59_layer_call_and_return_conditional_losses_501999) with ops with unsaved custom gradients. Will likely fail if a gradient is requested.\n"
     ]
    },
    {
     "name": "stdout",
     "output_type": "stream",
     "text": [
      "WARNING:tensorflow:5 out of the last 311 calls to <function Model.make_predict_function.<locals>.predict_function at 0x000001D6AD8DC160> triggered tf.function retracing. Tracing is expensive and the excessive number of tracings could be due to (1) creating @tf.function repeatedly in a loop, (2) passing tensors with different shapes, (3) passing Python objects instead of tensors. For (1), please define your @tf.function outside of the loop. For (2), @tf.function has experimental_relax_shapes=True option that relaxes argument shapes that can avoid unnecessary retracing. For (3), please refer to https://www.tensorflow.org/guide/function#controlling_retracing and https://www.tensorflow.org/api_docs/python/tf/function for  more details.\n"
     ]
    },
    {
     "name": "stderr",
     "output_type": "stream",
     "text": [
      "WARNING:tensorflow:5 out of the last 311 calls to <function Model.make_predict_function.<locals>.predict_function at 0x000001D6AD8DC160> triggered tf.function retracing. Tracing is expensive and the excessive number of tracings could be due to (1) creating @tf.function repeatedly in a loop, (2) passing tensors with different shapes, (3) passing Python objects instead of tensors. For (1), please define your @tf.function outside of the loop. For (2), @tf.function has experimental_relax_shapes=True option that relaxes argument shapes that can avoid unnecessary retracing. For (3), please refer to https://www.tensorflow.org/guide/function#controlling_retracing and https://www.tensorflow.org/api_docs/python/tf/function for  more details.\n"
     ]
    },
    {
     "name": "stdout",
     "output_type": "stream",
     "text": [
      "WARNING:tensorflow:6 out of the last 312 calls to <function Model.make_predict_function.<locals>.predict_function at 0x000001D907D135E0> triggered tf.function retracing. Tracing is expensive and the excessive number of tracings could be due to (1) creating @tf.function repeatedly in a loop, (2) passing tensors with different shapes, (3) passing Python objects instead of tensors. For (1), please define your @tf.function outside of the loop. For (2), @tf.function has experimental_relax_shapes=True option that relaxes argument shapes that can avoid unnecessary retracing. For (3), please refer to https://www.tensorflow.org/guide/function#controlling_retracing and https://www.tensorflow.org/api_docs/python/tf/function for  more details.\n"
     ]
    },
    {
     "name": "stderr",
     "output_type": "stream",
     "text": [
      "WARNING:tensorflow:6 out of the last 312 calls to <function Model.make_predict_function.<locals>.predict_function at 0x000001D907D135E0> triggered tf.function retracing. Tracing is expensive and the excessive number of tracings could be due to (1) creating @tf.function repeatedly in a loop, (2) passing tensors with different shapes, (3) passing Python objects instead of tensors. For (1), please define your @tf.function outside of the loop. For (2), @tf.function has experimental_relax_shapes=True option that relaxes argument shapes that can avoid unnecessary retracing. For (3), please refer to https://www.tensorflow.org/guide/function#controlling_retracing and https://www.tensorflow.org/api_docs/python/tf/function for  more details.\n"
     ]
    },
    {
     "name": "stdout",
     "output_type": "stream",
     "text": [
      "   row_id    target\n",
      "59    1_1  0.059540\n",
      "60    1_2 -0.007275\n",
      "61    1_6  0.013092\n",
      "62    1_7 -0.012108\n",
      "63    1_8  0.050934\n",
      "64    1_9 -0.032745\n",
      "65   1_10  0.056030\n",
      "66   1_12  0.017273\n",
      "67   1_13 -0.085388\n",
      "68   1_14  0.019409\n",
      "69   1_16  0.005058\n",
      "70   1_17 -0.051056\n",
      "71   1_19  0.036835\n",
      "72   1_20  0.034515\n",
      "73   1_22 -0.090820\n",
      "74   1_24 -0.015556\n",
      "75   1_29 -0.013260\n",
      "76   1_30  0.066528\n",
      "77   1_31 -0.068542\n",
      "78   1_32  0.022202\n",
      "79   1_33  0.046112\n",
      "80   1_34  0.010635\n",
      "81   1_35 -0.008781\n",
      "82   1_36 -0.013992\n",
      "83   1_40 -0.155640\n",
      "84   1_41  0.028915\n",
      "85   1_42 -0.032623\n",
      "86   1_44  0.031082\n",
      "87   1_46  0.017075\n",
      "88   1_47  0.073975\n",
      "89   1_48 -0.173584\n",
      "90   1_50  0.076477\n",
      "91   1_51 -0.024857\n",
      "92   1_54  0.030273\n",
      "93   1_55  0.018280\n",
      "94   1_58 -0.015495\n",
      "95   1_59  0.003290\n",
      "96   1_61  0.028091\n",
      "97   1_62  0.067383\n",
      "98   1_63  0.042358\n",
      "99   1_66  0.019760\n",
      "Pearson: 0.17746031406221846\n"
     ]
    }
   ],
   "source": [
    "from ubiquantEmulator import TimeSeriesAPI\n",
    "\n",
    "def preprocess_test(investment_id, feature):\n",
    "    return (investment_id, feature), 0\n",
    "\n",
    "def make_test_dataset(feature, investment_id, batch_size=2048):\n",
    "    ds = tf.data.Dataset.from_tensor_slices(((investment_id, feature)))\n",
    "    ds = ds.map(preprocess_test)\n",
    "    ds = ds.batch(batch_size).cache().prefetch(tf.data.experimental.AUTOTUNE)\n",
    "    return ds\n",
    "\n",
    "\n",
    "def inference(models, ds):\n",
    "    y_preds = []\n",
    "    for model in models:\n",
    "        y_pred = model.predict(ds)\n",
    "        y_preds.append(y_pred)\n",
    "    return np.mean(y_preds, axis=0)  # ensemble\n",
    "\n",
    "\n",
    "models = [load_model(f'model_{index}') for index in range(kfold.n_splits)]\n",
    "test = pd.read_csv('kaggle/input/ubiquant-market-prediction/train.csv', engine='pyarrow')\n",
    "iter_test = TimeSeriesAPI(test[test[\"investment_id\"] < 100][:100])\n",
    "for n, (test_df, sample_prediction_df) in enumerate(iter_test):\n",
    "    ds = make_test_dataset(test_df.loc[:, 'f_0':'f_299'], test_df[\"investment_id\"])\n",
    "    sample_prediction_df['target'] = inference(models, ds)\n",
    "    iter_test.predict(sample_prediction_df)\n",
    "print(sample_prediction_df)\n",
    "print(f'Pearson: {scipy.stats.pearsonr(sample_prediction_df[\"target\"].values, test_df[\"target\"].values)[0]}')"
   ],
   "metadata": {
    "collapsed": false,
    "pycharm": {
     "name": "#%%\n"
    }
   }
  },
  {
   "cell_type": "code",
   "execution_count": null,
   "outputs": [],
   "source": [
    "import ubiquant\n",
    "env = ubiquant.make_env()\n",
    "iter_test = env.iter_test()\n",
    "for (test_df, sample_prediction_df) in iter_test:\n",
    "    ds = make_test_dataset(test_df.loc[:, 'f_0':'f_299'], test_df[\"investment_id\"])\n",
    "    sample_prediction_df['target'] = inference(models, ds)\n",
    "    env.predict(sample_prediction_df)\n",
    "print(sample_prediction_df)\n",
    "print(f'Pearson: {scipy.stats.pearsonr(sample_prediction_df[\"target\"].values, test_df[\"target\"].values)[0]}')"
   ],
   "metadata": {
    "collapsed": false,
    "pycharm": {
     "name": "#%%\n"
    }
   }
  }
 ],
 "metadata": {
  "kernelspec": {
   "display_name": "Python 3",
   "language": "python",
   "name": "python3"
  },
  "language_info": {
   "codemirror_mode": {
    "name": "ipython",
    "version": 2
   },
   "file_extension": ".py",
   "mimetype": "text/x-python",
   "name": "python",
   "nbconvert_exporter": "python",
   "pygments_lexer": "ipython2",
   "version": "2.7.6"
  }
 },
 "nbformat": 4,
 "nbformat_minor": 0
}