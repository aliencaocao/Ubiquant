{
 "cells": [
  {
   "cell_type": "code",
   "execution_count": 1,
   "metadata": {
    "collapsed": true
   },
   "outputs": [
    {
     "name": "stdout",
     "output_type": "stream",
     "text": [
      "INFO:tensorflow:Mixed precision compatibility check (mixed_float16): OK\n",
      "Your GPU will likely run quickly with dtype policy mixed_float16 as it has compute capability of at least 7.0. Your GPU: NVIDIA GeForce RTX 3080 Ti, compute capability 8.6\n",
      "2.6.2\n"
     ]
    }
   ],
   "source": [
    "import gc\n",
    "import logging\n",
    "logging.disable(logging.WARNING)\n",
    "import numpy as np\n",
    "import pandas as pd\n",
    "import matplotlib.pyplot as plt\n",
    "import tensorflow as tf\n",
    "from tensorflow.keras.models import Model, load_model\n",
    "from tensorflow.keras.layers import *\n",
    "from tensorflow.keras import mixed_precision\n",
    "from tensorflow.keras.utils import plot_model\n",
    "import tensorflow_probability as tfp\n",
    "\n",
    "mixed_precision.set_global_policy('mixed_float16')\n",
    "print(tf.__version__)"
   ]
  },
  {
   "cell_type": "code",
   "execution_count": 2,
   "outputs": [
    {
     "name": "stdout",
     "output_type": "stream",
     "text": [
      "3773\n",
      "3580\n"
     ]
    }
   ],
   "source": [
    "# Load data\n",
    "df = pd.read_parquet('E:/train_low_mem.parquet')\n",
    "df.drop(['time_id', 'row_id'], inplace=True, axis=1)\n",
    "investment_id = df.pop(\"investment_id\")\n",
    "y = df.pop(\"target\")\n",
    "\n",
    "investment_ids = list(investment_id.unique())\n",
    "investment_id_lookup_layer = IntegerLookup(oov_token=-1, output_mode='int')\n",
    "investment_id_lookup_layer.adapt(np.array(investment_ids))\n",
    "vocab = investment_id_lookup_layer.get_vocabulary(include_special_tokens=True)\n",
    "vocab_size = investment_id_lookup_layer.vocabulary_size()\n",
    "print(max(investment_ids))\n",
    "print(vocab_size)"
   ],
   "metadata": {
    "collapsed": false,
    "pycharm": {
     "name": "#%%\n"
    }
   }
  },
  {
   "cell_type": "code",
   "execution_count": 3,
   "outputs": [],
   "source": [
    "def preprocess(x, y):\n",
    "    # TODO\n",
    "    return x, y\n",
    "\n",
    "def make_dataset(feature, investment_id, y, batch_size=2048, mode='train'):\n",
    "    ds = tf.data.Dataset.from_tensor_slices(((investment_id, feature), y))\n",
    "    ds = ds.map(preprocess)\n",
    "    if mode == \"train\": ds = ds.shuffle(8192, seed=69)  # only shuffle when training\n",
    "    ds = ds.batch(batch_size).cache().prefetch(tf.data.experimental.AUTOTUNE)\n",
    "    return ds\n",
    "\n",
    "\n",
    "# Pearson correlation coefficient loss and metrics\n",
    "def pearson_corr(y_true, y_pred, axis=-1):\n",
    "    return tfp.stats.correlation(tf.squeeze(y_pred), tf.squeeze(y_true), sample_axis=axis, event_axis=None)\n",
    "\n",
    "def pearson_corr_loss(y_true, y_pred, axis=-1):\n",
    "    return 1 - tf.math.abs(pearson_corr(y_true, y_pred, axis=axis))"
   ],
   "metadata": {
    "collapsed": false,
    "pycharm": {
     "name": "#%%\n"
    }
   }
  },
  {
   "cell_type": "code",
   "execution_count": 4,
   "outputs": [],
   "source": [
    "# Model\n",
    "def build_model():\n",
    "    investment_id_inputs = Input((1, ), name='inv_id_in', dtype=tf.uint16)\n",
    "    features_inputs = Input((300, ), name='feature_in', dtype=tf.float16)\n",
    "\n",
    "    investment_id_x = investment_id_lookup_layer(investment_id_inputs)\n",
    "    investment_id_x = Embedding(vocab_size, 64, input_length=1)(investment_id_x)\n",
    "    investment_id_x = Reshape((-1, ))(investment_id_x)\n",
    "    investment_id_x = Dense(64, activation='swish')(investment_id_x)\n",
    "    # investment_id_x = Dropout(0.2)(investment_id_x)\n",
    "    investment_id_x = Dense(64, activation='swish')(investment_id_x)\n",
    "    # investment_id_x = Dropout(0.2)(investment_id_x)\n",
    "    investment_id_x = Dense(64, activation='swish')(investment_id_x)\n",
    "    # investment_id_x = Dropout(0.2)(investment_id_x)\n",
    "\n",
    "    feature_x = GaussianNoise(0.01)(features_inputs)\n",
    "    feature_x = Dense(256, activation='swish')(feature_x)\n",
    "    # feature_x = Dropout(0.2)(feature_x)\n",
    "    feature_x = Dense(256, activation='swish')(feature_x)\n",
    "    # feature_x = Dropout(0.2)(feature_x)\n",
    "    feature_x = Dense(256, activation='swish')(feature_x)\n",
    "    # feature_x = Dropout(0.2)(feature_x)\n",
    "\n",
    "    x = Concatenate(axis=1)([investment_id_x, feature_x])\n",
    "    x = Dense(512, activation='swish', kernel_regularizer=\"l2\")(x)\n",
    "    # x = Dropout(0.2)(x)\n",
    "    x = Dense(128, activation='swish', kernel_regularizer=\"l2\")(x)\n",
    "    # x = Dropout(0.2)(x)\n",
    "    x = Dense(32, activation='swish', kernel_regularizer=\"l2\")(x)\n",
    "    # x = Dropout(0.2)(x)\n",
    "    xOut = Dense(1, name='output')(x)\n",
    "\n",
    "    model = Model(inputs=[investment_id_inputs, features_inputs], outputs=[xOut])\n",
    "    model.compile(loss='mse', optimizer=tf.keras.optimizers.Adam(learning_rate=1e-3), metrics=['mse'])\n",
    "    return model"
   ],
   "metadata": {
    "collapsed": false,
    "pycharm": {
     "name": "#%%\n"
    }
   }
  },
  {
   "cell_type": "code",
   "execution_count": 5,
   "outputs": [
    {
     "name": "stdout",
     "output_type": "stream",
     "text": [
      "Model: \"model\"\n",
      "__________________________________________________________________________________________________\n",
      "Layer (type)                    Output Shape         Param #     Connected to                     \n",
      "==================================================================================================\n",
      "inv_id_in (InputLayer)          [(None, 1)]          0                                            \n",
      "__________________________________________________________________________________________________\n",
      "integer_lookup (IntegerLookup)  (None, 1)            0           inv_id_in[0][0]                  \n",
      "__________________________________________________________________________________________________\n",
      "embedding (Embedding)           (None, 1, 64)        229120      integer_lookup[0][0]             \n",
      "__________________________________________________________________________________________________\n",
      "feature_in (InputLayer)         [(None, 300)]        0                                            \n",
      "__________________________________________________________________________________________________\n",
      "reshape (Reshape)               (None, 64)           0           embedding[0][0]                  \n",
      "__________________________________________________________________________________________________\n",
      "gaussian_noise (GaussianNoise)  (None, 300)          0           feature_in[0][0]                 \n",
      "__________________________________________________________________________________________________\n",
      "dense (Dense)                   (None, 64)           4160        reshape[0][0]                    \n",
      "__________________________________________________________________________________________________\n",
      "dense_3 (Dense)                 (None, 256)          77056       gaussian_noise[0][0]             \n",
      "__________________________________________________________________________________________________\n",
      "dense_1 (Dense)                 (None, 64)           4160        dense[0][0]                      \n",
      "__________________________________________________________________________________________________\n",
      "dense_4 (Dense)                 (None, 256)          65792       dense_3[0][0]                    \n",
      "__________________________________________________________________________________________________\n",
      "dense_2 (Dense)                 (None, 64)           4160        dense_1[0][0]                    \n",
      "__________________________________________________________________________________________________\n",
      "dense_5 (Dense)                 (None, 256)          65792       dense_4[0][0]                    \n",
      "__________________________________________________________________________________________________\n",
      "concatenate (Concatenate)       (None, 320)          0           dense_2[0][0]                    \n",
      "                                                                 dense_5[0][0]                    \n",
      "__________________________________________________________________________________________________\n",
      "dense_6 (Dense)                 (None, 512)          164352      concatenate[0][0]                \n",
      "__________________________________________________________________________________________________\n",
      "dense_7 (Dense)                 (None, 128)          65664       dense_6[0][0]                    \n",
      "__________________________________________________________________________________________________\n",
      "dense_8 (Dense)                 (None, 32)           4128        dense_7[0][0]                    \n",
      "__________________________________________________________________________________________________\n",
      "output (Dense)                  (None, 1)            33          dense_8[0][0]                    \n",
      "==================================================================================================\n",
      "Total params: 684,417\n",
      "Trainable params: 684,417\n",
      "Non-trainable params: 0\n",
      "__________________________________________________________________________________________________\n"
     ]
    },
    {
     "data": {
      "image/png": "[encoded data removed]",
      "text/plain": "<IPython.core.display.Image object>"
     },
     "execution_count": 5,
     "metadata": {},
     "output_type": "execute_result"
    }
   ],
   "source": [
    "model = build_model()\n",
    "model.summary()\n",
    "plot_model(model, to_file='model.png', show_shapes=True)"
   ],
   "metadata": {
    "collapsed": false,
    "pycharm": {
     "name": "#%%\n"
    }
   }
  },
  {
   "cell_type": "code",
   "execution_count": 6,
   "outputs": [
    {
     "name": "stderr",
     "output_type": "stream",
     "text": [
      "C:\\Program Files\\Python39\\lib\\site-packages\\sklearn\\model_selection\\_split.py:676: UserWarning: The least populated class in y has only 2 members, which is less than n_splits=6.\n",
      "  warnings.warn(\n"
     ]
    },
    {
     "name": "stdout",
     "output_type": "stream",
     "text": [
      "Epoch 1/50\n",
      "1279/1279 [==============================] - 15s 8ms/step - loss: 0.9798 - mse: 0.8326 - val_loss: 0.8314 - val_mse: 0.8297\n",
      "INFO:tensorflow:Assets written to: model_0\\assets\n",
      "Epoch 2/50\n",
      "1279/1279 [==============================] - 9s 7ms/step - loss: 0.8315 - mse: 0.8288 - val_loss: 0.8309 - val_mse: 0.8291\n",
      "INFO:tensorflow:Assets written to: model_0\\assets\n",
      "Epoch 3/50\n",
      "1279/1279 [==============================] - 6s 5ms/step - loss: 0.8297 - mse: 0.8264 - val_loss: 0.8300 - val_mse: 0.8280\n",
      "INFO:tensorflow:Assets written to: model_0\\assets\n",
      "Epoch 4/50\n",
      "1279/1279 [==============================] - 6s 5ms/step - loss: 0.8280 - mse: 0.8243 - val_loss: 0.8295 - val_mse: 0.8278\n",
      "INFO:tensorflow:Assets written to: model_0\\assets\n",
      "Epoch 5/50\n",
      "1279/1279 [==============================] - 6s 5ms/step - loss: 0.8264 - mse: 0.8222 - val_loss: 0.8290 - val_mse: 0.8272\n",
      "INFO:tensorflow:Assets written to: model_0\\assets\n",
      "Epoch 6/50\n",
      "1279/1279 [==============================] - 6s 5ms/step - loss: 0.8245 - mse: 0.8201 - val_loss: 0.8284 - val_mse: 0.8268\n",
      "INFO:tensorflow:Assets written to: model_0\\assets\n",
      "Epoch 7/50\n",
      "1279/1279 [==============================] - 6s 5ms/step - loss: 0.8215 - mse: 0.8166 - val_loss: 0.8313 - val_mse: 0.8287\n",
      "Epoch 8/50\n",
      "1279/1279 [==============================] - 6s 5ms/step - loss: 0.8191 - mse: 0.8132 - val_loss: 0.8373 - val_mse: 0.8332\n",
      "Epoch 9/50\n",
      "1279/1279 [==============================] - 6s 5ms/step - loss: 0.8156 - mse: 0.8095 - val_loss: 0.8469 - val_mse: 0.8421\n",
      "Epoch 10/50\n",
      "1279/1279 [==============================] - 6s 5ms/step - loss: 0.8136 - mse: 0.8063 - val_loss: 0.8554 - val_mse: 0.8494\n",
      "Epoch 11/50\n",
      "1279/1279 [==============================] - 6s 5ms/step - loss: 0.8092 - mse: 0.8019 - val_loss: 0.8694 - val_mse: 0.8612\n",
      "Epoch 12/50\n",
      "1279/1279 [==============================] - 6s 5ms/step - loss: 0.8055 - mse: 0.7972 - val_loss: 0.8910 - val_mse: 0.8790\n",
      "\n",
      "Epoch 00012: ReduceLROnPlateau reducing learning rate to 0.00010000000474974513.\n",
      "Epoch 13/50\n",
      "1279/1279 [==============================] - 6s 5ms/step - loss: 0.8103 - mse: 0.8052 - val_loss: 0.8635 - val_mse: 0.8542\n",
      "Epoch 14/50\n",
      "1279/1279 [==============================] - 6s 5ms/step - loss: 0.8059 - mse: 0.8007 - val_loss: 0.8595 - val_mse: 0.8507\n",
      "Epoch 15/50\n",
      "1279/1279 [==============================] - 6s 5ms/step - loss: 0.8036 - mse: 0.7982 - val_loss: 0.8588 - val_mse: 0.8503\n",
      "Epoch 16/50\n",
      "1279/1279 [==============================] - 6s 5ms/step - loss: 0.8016 - mse: 0.7961 - val_loss: 0.8585 - val_mse: 0.8504\n",
      "Epoch 17/50\n",
      "1279/1279 [==============================] - 6s 5ms/step - loss: 0.7998 - mse: 0.7943 - val_loss: 0.8581 - val_mse: 0.8504\n",
      "Epoch 18/50\n",
      "1279/1279 [==============================] - 6s 5ms/step - loss: 0.7982 - mse: 0.7926 - val_loss: 0.8592 - val_mse: 0.8515\n",
      "\n",
      "Epoch 00018: ReduceLROnPlateau reducing learning rate to 1.0000000474974514e-05.\n",
      "Epoch 19/50\n",
      "1279/1279 [==============================] - 6s 5ms/step - loss: 0.8041 - mse: 0.7998 - val_loss: 0.8347 - val_mse: 0.8313\n"
     ]
    },
    {
     "name": "stderr",
     "output_type": "stream",
     "text": [
      "WARNING:absl:Importing a function (__inference_model_1_layer_call_and_return_conditional_losses_38441) with ops with unsaved custom gradients. Will likely fail if a gradient is requested.\n",
      "WARNING:absl:Importing a function (__inference_dense_16_layer_call_and_return_conditional_losses_38753) with ops with unsaved custom gradients. Will likely fail if a gradient is requested.\n",
      "WARNING:absl:Importing a function (__inference_dense_9_layer_call_and_return_conditional_losses_38527) with ops with unsaved custom gradients. Will likely fail if a gradient is requested.\n",
      "WARNING:absl:Importing a function (__inference_dense_13_layer_call_and_return_conditional_losses_38608) with ops with unsaved custom gradients. Will likely fail if a gradient is requested.\n",
      "WARNING:absl:Importing a function (__inference_dense_9_layer_call_and_return_conditional_losses_37058) with ops with unsaved custom gradients. Will likely fail if a gradient is requested.\n",
      "WARNING:absl:Importing a function (__inference_dense_17_layer_call_and_return_conditional_losses_38792) with ops with unsaved custom gradients. Will likely fail if a gradient is requested.\n",
      "WARNING:absl:Importing a function (__inference_dense_14_layer_call_and_return_conditional_losses_38662) with ops with unsaved custom gradients. Will likely fail if a gradient is requested.\n",
      "WARNING:absl:Importing a function (__inference_dense_14_layer_call_and_return_conditional_losses_37154) with ops with unsaved custom gradients. Will likely fail if a gradient is requested.\n"
     ]
    },
    {
     "name": "stdout",
     "output_type": "stream",
     "text": [
      "Restoring model weights from the end of the best epoch.\n",
      "Epoch 00019: early stopping\n"
     ]
    },
    {
     "name": "stderr",
     "output_type": "stream",
     "text": [
      "WARNING:absl:Importing a function (__inference_model_1_layer_call_and_return_conditional_losses_38256) with ops with unsaved custom gradients. Will likely fail if a gradient is requested.\n",
      "WARNING:absl:Importing a function (__inference_dense_12_layer_call_and_return_conditional_losses_37034) with ops with unsaved custom gradients. Will likely fail if a gradient is requested.\n",
      "WARNING:absl:Importing a function (__inference_dense_11_layer_call_and_return_conditional_losses_37130) with ops with unsaved custom gradients. Will likely fail if a gradient is requested.\n",
      "WARNING:absl:Importing a function (__inference_dense_16_layer_call_and_return_conditional_losses_37223) with ops with unsaved custom gradients. Will likely fail if a gradient is requested.\n",
      "WARNING:absl:Importing a function (__inference_dense_11_layer_call_and_return_conditional_losses_38635) with ops with unsaved custom gradients. Will likely fail if a gradient is requested.\n",
      "WARNING:absl:Importing a function (__inference_dense_15_layer_call_and_return_conditional_losses_38714) with ops with unsaved custom gradients. Will likely fail if a gradient is requested.\n",
      "WARNING:absl:Importing a function (__inference_dense_12_layer_call_and_return_conditional_losses_38554) with ops with unsaved custom gradients. Will likely fail if a gradient is requested.\n",
      "WARNING:absl:Importing a function (__inference_dense_10_layer_call_and_return_conditional_losses_38581) with ops with unsaved custom gradients. Will likely fail if a gradient is requested.\n",
      "WARNING:absl:Importing a function (__inference_dense_17_layer_call_and_return_conditional_losses_37253) with ops with unsaved custom gradients. Will likely fail if a gradient is requested.\n",
      "WARNING:absl:Importing a function (__inference_dense_15_layer_call_and_return_conditional_losses_37193) with ops with unsaved custom gradients. Will likely fail if a gradient is requested.\n",
      "WARNING:absl:Importing a function (__inference__wrapped_model_36968) with ops with unsaved custom gradients. Will likely fail if a gradient is requested.\n",
      "WARNING:absl:Importing a function (__inference_dense_10_layer_call_and_return_conditional_losses_37106) with ops with unsaved custom gradients. Will likely fail if a gradient is requested.\n",
      "WARNING:absl:Importing a function (__inference_dense_13_layer_call_and_return_conditional_losses_37082) with ops with unsaved custom gradients. Will likely fail if a gradient is requested.\n"
     ]
    },
    {
     "name": "stdout",
     "output_type": "stream",
     "text": [
      "Pearson: 0.12933734434131697\n",
      "Epoch 1/50\n",
      "1279/1279 [==============================] - 12s 8ms/step - loss: 0.9774 - mse: 0.8318 - val_loss: 0.8408 - val_mse: 0.8385\n",
      "INFO:tensorflow:Assets written to: model_1\\assets\n"
     ]
    },
    {
     "name": "stderr",
     "output_type": "stream",
     "text": [
      "INFO:tensorflow:Assets written to: model_1\\assets\n"
     ]
    },
    {
     "name": "stdout",
     "output_type": "stream",
     "text": [
      "Epoch 2/50\n",
      "1279/1279 [==============================] - 8s 6ms/step - loss: 0.8310 - mse: 0.8280 - val_loss: 0.8391 - val_mse: 0.8345\n",
      "INFO:tensorflow:Assets written to: model_1\\assets\n"
     ]
    },
    {
     "name": "stderr",
     "output_type": "stream",
     "text": [
      "INFO:tensorflow:Assets written to: model_1\\assets\n"
     ]
    },
    {
     "name": "stdout",
     "output_type": "stream",
     "text": [
      "Epoch 3/50\n",
      "1279/1279 [==============================] - 6s 5ms/step - loss: 0.8289 - mse: 0.8256 - val_loss: 0.8369 - val_mse: 0.8340\n",
      "INFO:tensorflow:Assets written to: model_1\\assets\n"
     ]
    },
    {
     "name": "stderr",
     "output_type": "stream",
     "text": [
      "INFO:tensorflow:Assets written to: model_1\\assets\n"
     ]
    },
    {
     "name": "stdout",
     "output_type": "stream",
     "text": [
      "Epoch 4/50\n",
      "1279/1279 [==============================] - 6s 5ms/step - loss: 0.8270 - mse: 0.8236 - val_loss: 0.8373 - val_mse: 0.8343\n",
      "Epoch 5/50\n",
      "1279/1279 [==============================] - 6s 5ms/step - loss: 0.8259 - mse: 0.8212 - val_loss: 0.8370 - val_mse: 0.8343\n",
      "Epoch 6/50\n",
      "1279/1279 [==============================] - 6s 5ms/step - loss: 0.8237 - mse: 0.8182 - val_loss: 0.8356 - val_mse: 0.8335\n",
      "INFO:tensorflow:Assets written to: model_1\\assets\n"
     ]
    },
    {
     "name": "stderr",
     "output_type": "stream",
     "text": [
      "INFO:tensorflow:Assets written to: model_1\\assets\n"
     ]
    },
    {
     "name": "stdout",
     "output_type": "stream",
     "text": [
      "Epoch 7/50\n",
      "1279/1279 [==============================] - 6s 5ms/step - loss: 0.8217 - mse: 0.8160 - val_loss: 0.8366 - val_mse: 0.8337\n",
      "Epoch 8/50\n",
      "1279/1279 [==============================] - 6s 5ms/step - loss: 0.8201 - mse: 0.8137 - val_loss: 0.8355 - val_mse: 0.8330\n",
      "INFO:tensorflow:Assets written to: model_1\\assets\n"
     ]
    },
    {
     "name": "stderr",
     "output_type": "stream",
     "text": [
      "INFO:tensorflow:Assets written to: model_1\\assets\n"
     ]
    },
    {
     "name": "stdout",
     "output_type": "stream",
     "text": [
      "Epoch 9/50\n",
      "1279/1279 [==============================] - 6s 5ms/step - loss: 0.8179 - mse: 0.8114 - val_loss: 0.8358 - val_mse: 0.8336\n",
      "Epoch 10/50\n",
      "1279/1279 [==============================] - 6s 4ms/step - loss: 0.8156 - mse: 0.8083 - val_loss: 0.8372 - val_mse: 0.8344\n",
      "Epoch 11/50\n",
      "1279/1279 [==============================] - 6s 5ms/step - loss: 0.8118 - mse: 0.8041 - val_loss: 0.8384 - val_mse: 0.8351\n",
      "Epoch 12/50\n",
      "1279/1279 [==============================] - 6s 4ms/step - loss: 0.8074 - mse: 0.7998 - val_loss: 0.8398 - val_mse: 0.8363\n",
      "Epoch 13/50\n",
      "1279/1279 [==============================] - 6s 5ms/step - loss: 0.8043 - mse: 0.7958 - val_loss: 0.8417 - val_mse: 0.8379\n",
      "Epoch 14/50\n",
      "1279/1279 [==============================] - 6s 5ms/step - loss: 0.8008 - mse: 0.7918 - val_loss: 0.8425 - val_mse: 0.8391\n",
      "\n",
      "Epoch 00014: ReduceLROnPlateau reducing learning rate to 0.00010000000474974513.\n",
      "Epoch 15/50\n",
      "1279/1279 [==============================] - 6s 5ms/step - loss: 0.8077 - mse: 0.8032 - val_loss: 0.8450 - val_mse: 0.8406\n",
      "Epoch 16/50\n",
      "1279/1279 [==============================] - 6s 5ms/step - loss: 0.8030 - mse: 0.7977 - val_loss: 0.8457 - val_mse: 0.8411\n",
      "Epoch 17/50\n",
      "1279/1279 [==============================] - 6s 5ms/step - loss: 0.8006 - mse: 0.7952 - val_loss: 0.8464 - val_mse: 0.8418\n",
      "Epoch 18/50\n",
      "1279/1279 [==============================] - 6s 5ms/step - loss: 0.7987 - mse: 0.7934 - val_loss: 0.8474 - val_mse: 0.8426\n",
      "Epoch 19/50\n",
      "1279/1279 [==============================] - 6s 5ms/step - loss: 0.7970 - mse: 0.7917 - val_loss: 0.8481 - val_mse: 0.8433\n",
      "Epoch 20/50\n",
      "1279/1279 [==============================] - 6s 5ms/step - loss: 0.7955 - mse: 0.7902 - val_loss: 0.8483 - val_mse: 0.8435\n",
      "\n",
      "Epoch 00020: ReduceLROnPlateau reducing learning rate to 1.0000000474974514e-05.\n",
      "Epoch 21/50\n",
      "1279/1279 [==============================] - 6s 5ms/step - loss: 0.8017 - mse: 0.7979 - val_loss: 0.8374 - val_mse: 0.8344\n"
     ]
    },
    {
     "name": "stderr",
     "output_type": "stream",
     "text": [
      "WARNING:absl:Importing a function (__inference_model_2_layer_call_and_return_conditional_losses_124423) with ops with unsaved custom gradients. Will likely fail if a gradient is requested.\n",
      "WARNING:absl:Importing a function (__inference_dense_18_layer_call_and_return_conditional_losses_124694) with ops with unsaved custom gradients. Will likely fail if a gradient is requested.\n",
      "WARNING:absl:Importing a function (__inference_dense_22_layer_call_and_return_conditional_losses_124775) with ops with unsaved custom gradients. Will likely fail if a gradient is requested.\n",
      "WARNING:absl:Importing a function (__inference_dense_19_layer_call_and_return_conditional_losses_124748) with ops with unsaved custom gradients. Will likely fail if a gradient is requested.\n",
      "WARNING:absl:Importing a function (__inference_dense_25_layer_call_and_return_conditional_losses_124920) with ops with unsaved custom gradients. Will likely fail if a gradient is requested.\n",
      "WARNING:absl:Importing a function (__inference_dense_18_layer_call_and_return_conditional_losses_123225) with ops with unsaved custom gradients. Will likely fail if a gradient is requested.\n",
      "WARNING:absl:Importing a function (__inference_dense_21_layer_call_and_return_conditional_losses_124721) with ops with unsaved custom gradients. Will likely fail if a gradient is requested.\n",
      "WARNING:absl:Importing a function (__inference__wrapped_model_123135) with ops with unsaved custom gradients. Will likely fail if a gradient is requested.\n",
      "WARNING:absl:Importing a function (__inference_dense_24_layer_call_and_return_conditional_losses_123360) with ops with unsaved custom gradients. Will likely fail if a gradient is requested.\n",
      "WARNING:absl:Importing a function (__inference_dense_23_layer_call_and_return_conditional_losses_124829) with ops with unsaved custom gradients. Will likely fail if a gradient is requested.\n"
     ]
    },
    {
     "name": "stdout",
     "output_type": "stream",
     "text": [
      "Restoring model weights from the end of the best epoch.\n",
      "Epoch 00021: early stopping\n"
     ]
    },
    {
     "name": "stderr",
     "output_type": "stream",
     "text": [
      "WARNING:absl:Importing a function (__inference_model_2_layer_call_and_return_conditional_losses_124608) with ops with unsaved custom gradients. Will likely fail if a gradient is requested.\n",
      "WARNING:absl:Importing a function (__inference_dense_19_layer_call_and_return_conditional_losses_123273) with ops with unsaved custom gradients. Will likely fail if a gradient is requested.\n",
      "WARNING:absl:Importing a function (__inference_dense_26_layer_call_and_return_conditional_losses_124959) with ops with unsaved custom gradients. Will likely fail if a gradient is requested.\n",
      "WARNING:absl:Importing a function (__inference_dense_20_layer_call_and_return_conditional_losses_124802) with ops with unsaved custom gradients. Will likely fail if a gradient is requested.\n",
      "WARNING:absl:Importing a function (__inference_dense_23_layer_call_and_return_conditional_losses_123321) with ops with unsaved custom gradients. Will likely fail if a gradient is requested.\n",
      "WARNING:absl:Importing a function (__inference_dense_22_layer_call_and_return_conditional_losses_123249) with ops with unsaved custom gradients. Will likely fail if a gradient is requested.\n",
      "WARNING:absl:Importing a function (__inference_dense_25_layer_call_and_return_conditional_losses_123390) with ops with unsaved custom gradients. Will likely fail if a gradient is requested.\n",
      "WARNING:absl:Importing a function (__inference_dense_24_layer_call_and_return_conditional_losses_124881) with ops with unsaved custom gradients. Will likely fail if a gradient is requested.\n",
      "WARNING:absl:Importing a function (__inference_dense_26_layer_call_and_return_conditional_losses_123420) with ops with unsaved custom gradients. Will likely fail if a gradient is requested.\n",
      "WARNING:absl:Importing a function (__inference_dense_20_layer_call_and_return_conditional_losses_123297) with ops with unsaved custom gradients. Will likely fail if a gradient is requested.\n",
      "WARNING:absl:Importing a function (__inference_dense_21_layer_call_and_return_conditional_losses_123201) with ops with unsaved custom gradients. Will likely fail if a gradient is requested.\n"
     ]
    },
    {
     "name": "stdout",
     "output_type": "stream",
     "text": [
      "Pearson: 0.13010714908716856\n",
      "Epoch 1/50\n",
      "1279/1279 [==============================] - 11s 8ms/step - loss: 0.9784 - mse: 0.8319 - val_loss: 0.8373 - val_mse: 0.8353\n",
      "INFO:tensorflow:Assets written to: model_2\\assets\n"
     ]
    },
    {
     "name": "stderr",
     "output_type": "stream",
     "text": [
      "INFO:tensorflow:Assets written to: model_2\\assets\n"
     ]
    },
    {
     "name": "stdout",
     "output_type": "stream",
     "text": [
      "Epoch 2/50\n",
      "1279/1279 [==============================] - 9s 7ms/step - loss: 0.8306 - mse: 0.8280 - val_loss: 0.8373 - val_mse: 0.8351\n",
      "INFO:tensorflow:Assets written to: model_2\\assets\n"
     ]
    },
    {
     "name": "stderr",
     "output_type": "stream",
     "text": [
      "INFO:tensorflow:Assets written to: model_2\\assets\n"
     ]
    },
    {
     "name": "stdout",
     "output_type": "stream",
     "text": [
      "Epoch 3/50\n",
      "1279/1279 [==============================] - 7s 5ms/step - loss: 0.8285 - mse: 0.8257 - val_loss: 0.8375 - val_mse: 0.8353\n",
      "Epoch 4/50\n",
      "1279/1279 [==============================] - 7s 5ms/step - loss: 0.8266 - mse: 0.8236 - val_loss: 0.8325 - val_mse: 0.8305\n",
      "INFO:tensorflow:Assets written to: model_2\\assets\n"
     ]
    },
    {
     "name": "stderr",
     "output_type": "stream",
     "text": [
      "INFO:tensorflow:Assets written to: model_2\\assets\n"
     ]
    },
    {
     "name": "stdout",
     "output_type": "stream",
     "text": [
      "Epoch 5/50\n",
      "1279/1279 [==============================] - 6s 5ms/step - loss: 0.8271 - mse: 0.8217 - val_loss: 0.8331 - val_mse: 0.8312\n",
      "Epoch 6/50\n",
      "1279/1279 [==============================] - 6s 5ms/step - loss: 0.8233 - mse: 0.8189 - val_loss: 0.8351 - val_mse: 0.8325\n",
      "Epoch 7/50\n",
      "1279/1279 [==============================] - 6s 5ms/step - loss: 0.8215 - mse: 0.8161 - val_loss: 0.8390 - val_mse: 0.8356\n",
      "Epoch 8/50\n",
      "1279/1279 [==============================] - 6s 5ms/step - loss: 0.8187 - mse: 0.8128 - val_loss: 0.8416 - val_mse: 0.8389\n",
      "Epoch 9/50\n",
      "1279/1279 [==============================] - 6s 5ms/step - loss: 0.8155 - mse: 0.8094 - val_loss: 0.8418 - val_mse: 0.8387\n",
      "Epoch 10/50\n",
      "1279/1279 [==============================] - 6s 5ms/step - loss: 0.8132 - mse: 0.8065 - val_loss: 0.8403 - val_mse: 0.8368\n",
      "\n",
      "Epoch 00010: ReduceLROnPlateau reducing learning rate to 0.00010000000474974513.\n",
      "Epoch 11/50\n",
      "1279/1279 [==============================] - 6s 5ms/step - loss: 0.8141 - mse: 0.8103 - val_loss: 0.8356 - val_mse: 0.8319\n",
      "Epoch 12/50\n",
      "1279/1279 [==============================] - 6s 5ms/step - loss: 0.8108 - mse: 0.8068 - val_loss: 0.8357 - val_mse: 0.8320\n",
      "Epoch 13/50\n",
      "1279/1279 [==============================] - 6s 5ms/step - loss: 0.8091 - mse: 0.8049 - val_loss: 0.8357 - val_mse: 0.8321\n",
      "Epoch 14/50\n",
      "1279/1279 [==============================] - 6s 5ms/step - loss: 0.8075 - mse: 0.8034 - val_loss: 0.8362 - val_mse: 0.8326\n",
      "Epoch 15/50\n",
      "1279/1279 [==============================] - 6s 5ms/step - loss: 0.8062 - mse: 0.8019 - val_loss: 0.8367 - val_mse: 0.8331\n",
      "Epoch 16/50\n",
      "1279/1279 [==============================] - 6s 5ms/step - loss: 0.8049 - mse: 0.8006 - val_loss: 0.8376 - val_mse: 0.8340\n",
      "\n",
      "Epoch 00016: ReduceLROnPlateau reducing learning rate to 1.0000000474974514e-05.\n",
      "Epoch 17/50\n",
      "1279/1279 [==============================] - 6s 5ms/step - loss: 0.8077 - mse: 0.8044 - val_loss: 0.8361 - val_mse: 0.8332\n"
     ]
    },
    {
     "name": "stderr",
     "output_type": "stream",
     "text": [
      "WARNING:absl:Importing a function (__inference_dense_27_layer_call_and_return_conditional_losses_191098) with ops with unsaved custom gradients. Will likely fail if a gradient is requested.\n",
      "WARNING:absl:Importing a function (__inference_dense_33_layer_call_and_return_conditional_losses_192754) with ops with unsaved custom gradients. Will likely fail if a gradient is requested.\n",
      "WARNING:absl:Importing a function (__inference_dense_32_layer_call_and_return_conditional_losses_192702) with ops with unsaved custom gradients. Will likely fail if a gradient is requested.\n",
      "WARNING:absl:Importing a function (__inference_dense_28_layer_call_and_return_conditional_losses_191146) with ops with unsaved custom gradients. Will likely fail if a gradient is requested.\n",
      "WARNING:absl:Importing a function (__inference__wrapped_model_191008) with ops with unsaved custom gradients. Will likely fail if a gradient is requested.\n",
      "WARNING:absl:Importing a function (__inference_dense_27_layer_call_and_return_conditional_losses_192567) with ops with unsaved custom gradients. Will likely fail if a gradient is requested.\n",
      "WARNING:absl:Importing a function (__inference_dense_30_layer_call_and_return_conditional_losses_192594) with ops with unsaved custom gradients. Will likely fail if a gradient is requested.\n",
      "WARNING:absl:Importing a function (__inference_model_3_layer_call_and_return_conditional_losses_192296) with ops with unsaved custom gradients. Will likely fail if a gradient is requested.\n"
     ]
    },
    {
     "name": "stdout",
     "output_type": "stream",
     "text": [
      "Restoring model weights from the end of the best epoch.\n",
      "Epoch 00017: early stopping\n"
     ]
    },
    {
     "name": "stderr",
     "output_type": "stream",
     "text": [
      "WARNING:absl:Importing a function (__inference_dense_34_layer_call_and_return_conditional_losses_191263) with ops with unsaved custom gradients. Will likely fail if a gradient is requested.\n",
      "WARNING:absl:Importing a function (__inference_dense_29_layer_call_and_return_conditional_losses_191170) with ops with unsaved custom gradients. Will likely fail if a gradient is requested.\n",
      "WARNING:absl:Importing a function (__inference_dense_30_layer_call_and_return_conditional_losses_191074) with ops with unsaved custom gradients. Will likely fail if a gradient is requested.\n",
      "WARNING:absl:Importing a function (__inference_model_3_layer_call_and_return_conditional_losses_192481) with ops with unsaved custom gradients. Will likely fail if a gradient is requested.\n",
      "WARNING:absl:Importing a function (__inference_dense_31_layer_call_and_return_conditional_losses_192648) with ops with unsaved custom gradients. Will likely fail if a gradient is requested.\n",
      "WARNING:absl:Importing a function (__inference_dense_35_layer_call_and_return_conditional_losses_192832) with ops with unsaved custom gradients. Will likely fail if a gradient is requested.\n",
      "WARNING:absl:Importing a function (__inference_dense_35_layer_call_and_return_conditional_losses_191293) with ops with unsaved custom gradients. Will likely fail if a gradient is requested.\n",
      "WARNING:absl:Importing a function (__inference_dense_31_layer_call_and_return_conditional_losses_191122) with ops with unsaved custom gradients. Will likely fail if a gradient is requested.\n",
      "WARNING:absl:Importing a function (__inference_dense_33_layer_call_and_return_conditional_losses_191233) with ops with unsaved custom gradients. Will likely fail if a gradient is requested.\n",
      "WARNING:absl:Importing a function (__inference_dense_28_layer_call_and_return_conditional_losses_192621) with ops with unsaved custom gradients. Will likely fail if a gradient is requested.\n",
      "WARNING:absl:Importing a function (__inference_dense_34_layer_call_and_return_conditional_losses_192793) with ops with unsaved custom gradients. Will likely fail if a gradient is requested.\n",
      "WARNING:absl:Importing a function (__inference_dense_29_layer_call_and_return_conditional_losses_192675) with ops with unsaved custom gradients. Will likely fail if a gradient is requested.\n",
      "WARNING:absl:Importing a function (__inference_dense_32_layer_call_and_return_conditional_losses_191194) with ops with unsaved custom gradients. Will likely fail if a gradient is requested.\n"
     ]
    },
    {
     "name": "stdout",
     "output_type": "stream",
     "text": [
      "Pearson: 0.1326649240504337\n",
      "Epoch 1/50\n",
      "1279/1279 [==============================] - 11s 7ms/step - loss: 0.9794 - mse: 0.8330 - val_loss: 0.8327 - val_mse: 0.8309\n",
      "INFO:tensorflow:Assets written to: model_3\\assets\n"
     ]
    },
    {
     "name": "stderr",
     "output_type": "stream",
     "text": [
      "INFO:tensorflow:Assets written to: model_3\\assets\n"
     ]
    },
    {
     "name": "stdout",
     "output_type": "stream",
     "text": [
      "Epoch 2/50\n",
      "1279/1279 [==============================] - 8s 6ms/step - loss: 0.8318 - mse: 0.8292 - val_loss: 0.8309 - val_mse: 0.8289\n",
      "INFO:tensorflow:Assets written to: model_3\\assets\n"
     ]
    },
    {
     "name": "stderr",
     "output_type": "stream",
     "text": [
      "INFO:tensorflow:Assets written to: model_3\\assets\n"
     ]
    },
    {
     "name": "stdout",
     "output_type": "stream",
     "text": [
      "Epoch 3/50\n",
      "1279/1279 [==============================] - 7s 5ms/step - loss: 0.8298 - mse: 0.8268 - val_loss: 0.8301 - val_mse: 0.8283\n",
      "INFO:tensorflow:Assets written to: model_3\\assets\n"
     ]
    },
    {
     "name": "stderr",
     "output_type": "stream",
     "text": [
      "INFO:tensorflow:Assets written to: model_3\\assets\n"
     ]
    },
    {
     "name": "stdout",
     "output_type": "stream",
     "text": [
      "Epoch 4/50\n",
      "1279/1279 [==============================] - 7s 5ms/step - loss: 0.8282 - mse: 0.8248 - val_loss: 0.8293 - val_mse: 0.8278\n",
      "INFO:tensorflow:Assets written to: model_3\\assets\n"
     ]
    },
    {
     "name": "stderr",
     "output_type": "stream",
     "text": [
      "INFO:tensorflow:Assets written to: model_3\\assets\n"
     ]
    },
    {
     "name": "stdout",
     "output_type": "stream",
     "text": [
      "Epoch 5/50\n",
      "1279/1279 [==============================] - 6s 5ms/step - loss: 0.8282 - mse: 0.8230 - val_loss: 0.8289 - val_mse: 0.8268\n",
      "INFO:tensorflow:Assets written to: model_3\\assets\n"
     ]
    },
    {
     "name": "stderr",
     "output_type": "stream",
     "text": [
      "INFO:tensorflow:Assets written to: model_3\\assets\n"
     ]
    },
    {
     "name": "stdout",
     "output_type": "stream",
     "text": [
      "Epoch 6/50\n",
      "1279/1279 [==============================] - 6s 5ms/step - loss: 0.8254 - mse: 0.8202 - val_loss: 0.8294 - val_mse: 0.8267\n",
      "INFO:tensorflow:Assets written to: model_3\\assets\n"
     ]
    },
    {
     "name": "stderr",
     "output_type": "stream",
     "text": [
      "INFO:tensorflow:Assets written to: model_3\\assets\n"
     ]
    },
    {
     "name": "stdout",
     "output_type": "stream",
     "text": [
      "Epoch 7/50\n",
      "1279/1279 [==============================] - 6s 5ms/step - loss: 0.8228 - mse: 0.8170 - val_loss: 0.8307 - val_mse: 0.8268\n",
      "Epoch 8/50\n",
      "1279/1279 [==============================] - 6s 5ms/step - loss: 0.8209 - mse: 0.8141 - val_loss: 0.8318 - val_mse: 0.8278\n",
      "Epoch 9/50\n",
      "1279/1279 [==============================] - 6s 5ms/step - loss: 0.8177 - mse: 0.8112 - val_loss: 0.8347 - val_mse: 0.8289\n",
      "Epoch 10/50\n",
      "1279/1279 [==============================] - 6s 5ms/step - loss: 0.8146 - mse: 0.8074 - val_loss: 0.8354 - val_mse: 0.8291\n",
      "Epoch 11/50\n",
      "1279/1279 [==============================] - 6s 5ms/step - loss: 0.8116 - mse: 0.8038 - val_loss: 0.8403 - val_mse: 0.8324\n",
      "\n",
      "Epoch 00011: ReduceLROnPlateau reducing learning rate to 0.00010000000474974513.\n",
      "Epoch 12/50\n",
      "1279/1279 [==============================] - 6s 5ms/step - loss: 0.8141 - mse: 0.8097 - val_loss: 0.8334 - val_mse: 0.8291\n",
      "Epoch 13/50\n",
      "1279/1279 [==============================] - 6s 5ms/step - loss: 0.8105 - mse: 0.8063 - val_loss: 0.8333 - val_mse: 0.8292\n",
      "Epoch 14/50\n",
      "1279/1279 [==============================] - 6s 5ms/step - loss: 0.8084 - mse: 0.8040 - val_loss: 0.8336 - val_mse: 0.8295\n",
      "Epoch 15/50\n",
      "1279/1279 [==============================] - 6s 5ms/step - loss: 0.8067 - mse: 0.8022 - val_loss: 0.8339 - val_mse: 0.8300\n",
      "Epoch 16/50\n",
      "1279/1279 [==============================] - 6s 5ms/step - loss: 0.8052 - mse: 0.8007 - val_loss: 0.8345 - val_mse: 0.8305\n",
      "Epoch 17/50\n",
      "1279/1279 [==============================] - 6s 5ms/step - loss: 0.8038 - mse: 0.7992 - val_loss: 0.8352 - val_mse: 0.8312\n",
      "\n",
      "Epoch 00017: ReduceLROnPlateau reducing learning rate to 1.0000000474974514e-05.\n",
      "Epoch 18/50\n",
      "1279/1279 [==============================] - 6s 4ms/step - loss: 0.8081 - mse: 0.8048 - val_loss: 0.8278 - val_mse: 0.8250\n",
      "INFO:tensorflow:Assets written to: model_3\\assets\n"
     ]
    },
    {
     "name": "stderr",
     "output_type": "stream",
     "text": [
      "INFO:tensorflow:Assets written to: model_3\\assets\n"
     ]
    },
    {
     "name": "stdout",
     "output_type": "stream",
     "text": [
      "Epoch 19/50\n",
      "1279/1279 [==============================] - 6s 5ms/step - loss: 0.8061 - mse: 0.8030 - val_loss: 0.8274 - val_mse: 0.8245\n",
      "INFO:tensorflow:Assets written to: model_3\\assets\n"
     ]
    },
    {
     "name": "stderr",
     "output_type": "stream",
     "text": [
      "INFO:tensorflow:Assets written to: model_3\\assets\n"
     ]
    },
    {
     "name": "stdout",
     "output_type": "stream",
     "text": [
      "Epoch 20/50\n",
      "1279/1279 [==============================] - 6s 5ms/step - loss: 0.8057 - mse: 0.8026 - val_loss: 0.8272 - val_mse: 0.8243\n",
      "INFO:tensorflow:Assets written to: model_3\\assets\n"
     ]
    },
    {
     "name": "stderr",
     "output_type": "stream",
     "text": [
      "INFO:tensorflow:Assets written to: model_3\\assets\n"
     ]
    },
    {
     "name": "stdout",
     "output_type": "stream",
     "text": [
      "Epoch 21/50\n",
      "1279/1279 [==============================] - 6s 5ms/step - loss: 0.8054 - mse: 0.8023 - val_loss: 0.8271 - val_mse: 0.8241\n",
      "INFO:tensorflow:Assets written to: model_3\\assets\n"
     ]
    },
    {
     "name": "stderr",
     "output_type": "stream",
     "text": [
      "INFO:tensorflow:Assets written to: model_3\\assets\n"
     ]
    },
    {
     "name": "stdout",
     "output_type": "stream",
     "text": [
      "Epoch 22/50\n",
      "1279/1279 [==============================] - 6s 5ms/step - loss: 0.8051 - mse: 0.8021 - val_loss: 0.8270 - val_mse: 0.8240\n",
      "INFO:tensorflow:Assets written to: model_3\\assets\n"
     ]
    },
    {
     "name": "stderr",
     "output_type": "stream",
     "text": [
      "INFO:tensorflow:Assets written to: model_3\\assets\n"
     ]
    },
    {
     "name": "stdout",
     "output_type": "stream",
     "text": [
      "Epoch 23/50\n",
      "1279/1279 [==============================] - 6s 5ms/step - loss: 0.8049 - mse: 0.8019 - val_loss: 0.8269 - val_mse: 0.8240\n",
      "INFO:tensorflow:Assets written to: model_3\\assets\n"
     ]
    },
    {
     "name": "stderr",
     "output_type": "stream",
     "text": [
      "INFO:tensorflow:Assets written to: model_3\\assets\n"
     ]
    },
    {
     "name": "stdout",
     "output_type": "stream",
     "text": [
      "Epoch 24/50\n",
      "1279/1279 [==============================] - 6s 5ms/step - loss: 0.8046 - mse: 0.8016 - val_loss: 0.8269 - val_mse: 0.8240\n",
      "INFO:tensorflow:Assets written to: model_3\\assets\n"
     ]
    },
    {
     "name": "stderr",
     "output_type": "stream",
     "text": [
      "INFO:tensorflow:Assets written to: model_3\\assets\n"
     ]
    },
    {
     "name": "stdout",
     "output_type": "stream",
     "text": [
      "Epoch 25/50\n",
      "1279/1279 [==============================] - 7s 5ms/step - loss: 0.8044 - mse: 0.8014 - val_loss: 0.8269 - val_mse: 0.8239\n",
      "INFO:tensorflow:Assets written to: model_3\\assets\n"
     ]
    },
    {
     "name": "stderr",
     "output_type": "stream",
     "text": [
      "INFO:tensorflow:Assets written to: model_3\\assets\n"
     ]
    },
    {
     "name": "stdout",
     "output_type": "stream",
     "text": [
      "Epoch 26/50\n",
      "1279/1279 [==============================] - 6s 5ms/step - loss: 0.8042 - mse: 0.8013 - val_loss: 0.8268 - val_mse: 0.8239\n",
      "INFO:tensorflow:Assets written to: model_3\\assets\n"
     ]
    },
    {
     "name": "stderr",
     "output_type": "stream",
     "text": [
      "INFO:tensorflow:Assets written to: model_3\\assets\n"
     ]
    },
    {
     "name": "stdout",
     "output_type": "stream",
     "text": [
      "Epoch 27/50\n",
      "1279/1279 [==============================] - 6s 5ms/step - loss: 0.8040 - mse: 0.8011 - val_loss: 0.8268 - val_mse: 0.8239\n",
      "INFO:tensorflow:Assets written to: model_3\\assets\n"
     ]
    },
    {
     "name": "stderr",
     "output_type": "stream",
     "text": [
      "INFO:tensorflow:Assets written to: model_3\\assets\n"
     ]
    },
    {
     "name": "stdout",
     "output_type": "stream",
     "text": [
      "Epoch 28/50\n",
      "1279/1279 [==============================] - 6s 5ms/step - loss: 0.8039 - mse: 0.8009 - val_loss: 0.8268 - val_mse: 0.8239\n",
      "INFO:tensorflow:Assets written to: model_3\\assets\n"
     ]
    },
    {
     "name": "stderr",
     "output_type": "stream",
     "text": [
      "INFO:tensorflow:Assets written to: model_3\\assets\n"
     ]
    },
    {
     "name": "stdout",
     "output_type": "stream",
     "text": [
      "Epoch 29/50\n",
      "1279/1279 [==============================] - 7s 5ms/step - loss: 0.8037 - mse: 0.8007 - val_loss: 0.8268 - val_mse: 0.8239\n",
      "Epoch 30/50\n",
      "1279/1279 [==============================] - 7s 5ms/step - loss: 0.8035 - mse: 0.8005 - val_loss: 0.8268 - val_mse: 0.8239\n",
      "Epoch 31/50\n",
      "1279/1279 [==============================] - 7s 5ms/step - loss: 0.8033 - mse: 0.8004 - val_loss: 0.8268 - val_mse: 0.8239\n",
      "Epoch 32/50\n",
      "1279/1279 [==============================] - 6s 5ms/step - loss: 0.8032 - mse: 0.8002 - val_loss: 0.8268 - val_mse: 0.8239\n",
      "Epoch 33/50\n",
      "1279/1279 [==============================] - 6s 5ms/step - loss: 0.8030 - mse: 0.8000 - val_loss: 0.8268 - val_mse: 0.8239\n",
      "\n",
      "Epoch 00033: ReduceLROnPlateau reducing learning rate to 1.0000000656873453e-06.\n",
      "Epoch 34/50\n",
      "1279/1279 [==============================] - 6s 5ms/step - loss: 0.8059 - mse: 0.8032 - val_loss: 0.8248 - val_mse: 0.8221\n",
      "INFO:tensorflow:Assets written to: model_3\\assets\n"
     ]
    },
    {
     "name": "stderr",
     "output_type": "stream",
     "text": [
      "INFO:tensorflow:Assets written to: model_3\\assets\n"
     ]
    },
    {
     "name": "stdout",
     "output_type": "stream",
     "text": [
      "Epoch 35/50\n",
      "1279/1279 [==============================] - 6s 5ms/step - loss: 0.8045 - mse: 0.8018 - val_loss: 0.8243 - val_mse: 0.8216\n",
      "INFO:tensorflow:Assets written to: model_3\\assets\n"
     ]
    },
    {
     "name": "stderr",
     "output_type": "stream",
     "text": [
      "INFO:tensorflow:Assets written to: model_3\\assets\n"
     ]
    },
    {
     "name": "stdout",
     "output_type": "stream",
     "text": [
      "Epoch 36/50\n",
      "1279/1279 [==============================] - 6s 5ms/step - loss: 0.8040 - mse: 0.8014 - val_loss: 0.8240 - val_mse: 0.8214\n",
      "INFO:tensorflow:Assets written to: model_3\\assets\n"
     ]
    },
    {
     "name": "stderr",
     "output_type": "stream",
     "text": [
      "INFO:tensorflow:Assets written to: model_3\\assets\n"
     ]
    },
    {
     "name": "stdout",
     "output_type": "stream",
     "text": [
      "Epoch 37/50\n",
      "1279/1279 [==============================] - 6s 5ms/step - loss: 0.8038 - mse: 0.8012 - val_loss: 0.8238 - val_mse: 0.8213\n",
      "INFO:tensorflow:Assets written to: model_3\\assets\n"
     ]
    },
    {
     "name": "stderr",
     "output_type": "stream",
     "text": [
      "INFO:tensorflow:Assets written to: model_3\\assets\n"
     ]
    },
    {
     "name": "stdout",
     "output_type": "stream",
     "text": [
      "Epoch 38/50\n",
      "1279/1279 [==============================] - 6s 5ms/step - loss: 0.8037 - mse: 0.8011 - val_loss: 0.8237 - val_mse: 0.8211\n",
      "INFO:tensorflow:Assets written to: model_3\\assets\n"
     ]
    },
    {
     "name": "stderr",
     "output_type": "stream",
     "text": [
      "INFO:tensorflow:Assets written to: model_3\\assets\n"
     ]
    },
    {
     "name": "stdout",
     "output_type": "stream",
     "text": [
      "Epoch 39/50\n",
      "1279/1279 [==============================] - 6s 5ms/step - loss: 0.8037 - mse: 0.8011 - val_loss: 0.8236 - val_mse: 0.8211\n",
      "INFO:tensorflow:Assets written to: model_3\\assets\n"
     ]
    },
    {
     "name": "stderr",
     "output_type": "stream",
     "text": [
      "INFO:tensorflow:Assets written to: model_3\\assets\n"
     ]
    },
    {
     "name": "stdout",
     "output_type": "stream",
     "text": [
      "Epoch 40/50\n",
      "1279/1279 [==============================] - 6s 5ms/step - loss: 0.8036 - mse: 0.8011 - val_loss: 0.8236 - val_mse: 0.8211\n",
      "INFO:tensorflow:Assets written to: model_3\\assets\n"
     ]
    },
    {
     "name": "stderr",
     "output_type": "stream",
     "text": [
      "INFO:tensorflow:Assets written to: model_3\\assets\n"
     ]
    },
    {
     "name": "stdout",
     "output_type": "stream",
     "text": [
      "Epoch 41/50\n",
      "1279/1279 [==============================] - 6s 5ms/step - loss: 0.8036 - mse: 0.8010 - val_loss: 0.8236 - val_mse: 0.8210\n",
      "INFO:tensorflow:Assets written to: model_3\\assets\n"
     ]
    },
    {
     "name": "stderr",
     "output_type": "stream",
     "text": [
      "INFO:tensorflow:Assets written to: model_3\\assets\n"
     ]
    },
    {
     "name": "stdout",
     "output_type": "stream",
     "text": [
      "Epoch 42/50\n",
      "1279/1279 [==============================] - 6s 5ms/step - loss: 0.8036 - mse: 0.8010 - val_loss: 0.8236 - val_mse: 0.8210\n",
      "INFO:tensorflow:Assets written to: model_3\\assets\n"
     ]
    },
    {
     "name": "stderr",
     "output_type": "stream",
     "text": [
      "INFO:tensorflow:Assets written to: model_3\\assets\n"
     ]
    },
    {
     "name": "stdout",
     "output_type": "stream",
     "text": [
      "Epoch 43/50\n",
      "1279/1279 [==============================] - 6s 5ms/step - loss: 0.8036 - mse: 0.8010 - val_loss: 0.8236 - val_mse: 0.8210\n",
      "INFO:tensorflow:Assets written to: model_3\\assets\n"
     ]
    },
    {
     "name": "stderr",
     "output_type": "stream",
     "text": [
      "INFO:tensorflow:Assets written to: model_3\\assets\n"
     ]
    },
    {
     "name": "stdout",
     "output_type": "stream",
     "text": [
      "Epoch 44/50\n",
      "1279/1279 [==============================] - 6s 5ms/step - loss: 0.8035 - mse: 0.8009 - val_loss: 0.8236 - val_mse: 0.8210\n",
      "INFO:tensorflow:Assets written to: model_3\\assets\n"
     ]
    },
    {
     "name": "stderr",
     "output_type": "stream",
     "text": [
      "INFO:tensorflow:Assets written to: model_3\\assets\n"
     ]
    },
    {
     "name": "stdout",
     "output_type": "stream",
     "text": [
      "Epoch 45/50\n",
      "1279/1279 [==============================] - 6s 5ms/step - loss: 0.8035 - mse: 0.8009 - val_loss: 0.8236 - val_mse: 0.8210\n",
      "Epoch 46/50\n",
      "1279/1279 [==============================] - 6s 5ms/step - loss: 0.8035 - mse: 0.8009 - val_loss: 0.8236 - val_mse: 0.8210\n",
      "INFO:tensorflow:Assets written to: model_3\\assets\n"
     ]
    },
    {
     "name": "stderr",
     "output_type": "stream",
     "text": [
      "INFO:tensorflow:Assets written to: model_3\\assets\n"
     ]
    },
    {
     "name": "stdout",
     "output_type": "stream",
     "text": [
      "\n",
      "Epoch 00046: ReduceLROnPlateau reducing learning rate to 1.0000001111620805e-07.\n",
      "Epoch 47/50\n",
      "1279/1279 [==============================] - 6s 5ms/step - loss: 0.8035 - mse: 0.8009 - val_loss: 0.8236 - val_mse: 0.8211\n",
      "Epoch 48/50\n",
      "1279/1279 [==============================] - 6s 5ms/step - loss: 0.8035 - mse: 0.8009 - val_loss: 0.8237 - val_mse: 0.8211\n",
      "Epoch 49/50\n",
      "1279/1279 [==============================] - 6s 5ms/step - loss: 0.8034 - mse: 0.8009 - val_loss: 0.8237 - val_mse: 0.8212\n",
      "Epoch 50/50\n",
      "1279/1279 [==============================] - 6s 5ms/step - loss: 0.8034 - mse: 0.8009 - val_loss: 0.8238 - val_mse: 0.8212\n"
     ]
    },
    {
     "name": "stderr",
     "output_type": "stream",
     "text": [
      "WARNING:absl:Importing a function (__inference_dense_37_layer_call_and_return_conditional_losses_465980) with ops with unsaved custom gradients. Will likely fail if a gradient is requested.\n",
      "WARNING:absl:Importing a function (__inference_dense_39_layer_call_and_return_conditional_losses_467428) with ops with unsaved custom gradients. Will likely fail if a gradient is requested.\n",
      "WARNING:absl:Importing a function (__inference_dense_42_layer_call_and_return_conditional_losses_467588) with ops with unsaved custom gradients. Will likely fail if a gradient is requested.\n",
      "WARNING:absl:Importing a function (__inference_dense_41_layer_call_and_return_conditional_losses_466028) with ops with unsaved custom gradients. Will likely fail if a gradient is requested.\n",
      "WARNING:absl:Importing a function (__inference_dense_44_layer_call_and_return_conditional_losses_466127) with ops with unsaved custom gradients. Will likely fail if a gradient is requested.\n",
      "WARNING:absl:Importing a function (__inference_dense_43_layer_call_and_return_conditional_losses_467627) with ops with unsaved custom gradients. Will likely fail if a gradient is requested.\n",
      "WARNING:absl:Importing a function (__inference_dense_38_layer_call_and_return_conditional_losses_467509) with ops with unsaved custom gradients. Will likely fail if a gradient is requested.\n",
      "WARNING:absl:Importing a function (__inference_dense_44_layer_call_and_return_conditional_losses_467666) with ops with unsaved custom gradients. Will likely fail if a gradient is requested.\n",
      "WARNING:absl:Importing a function (__inference_dense_36_layer_call_and_return_conditional_losses_467401) with ops with unsaved custom gradients. Will likely fail if a gradient is requested.\n",
      "WARNING:absl:Importing a function (__inference_model_4_layer_call_and_return_conditional_losses_467130) with ops with unsaved custom gradients. Will likely fail if a gradient is requested.\n",
      "WARNING:absl:Importing a function (__inference_dense_39_layer_call_and_return_conditional_losses_465908) with ops with unsaved custom gradients. Will likely fail if a gradient is requested.\n",
      "WARNING:absl:Importing a function (__inference_dense_38_layer_call_and_return_conditional_losses_466004) with ops with unsaved custom gradients. Will likely fail if a gradient is requested.\n",
      "WARNING:absl:Importing a function (__inference_dense_36_layer_call_and_return_conditional_losses_465932) with ops with unsaved custom gradients. Will likely fail if a gradient is requested.\n",
      "WARNING:absl:Importing a function (__inference_dense_42_layer_call_and_return_conditional_losses_466067) with ops with unsaved custom gradients. Will likely fail if a gradient is requested.\n",
      "WARNING:absl:Importing a function (__inference_dense_41_layer_call_and_return_conditional_losses_467536) with ops with unsaved custom gradients. Will likely fail if a gradient is requested.\n",
      "WARNING:absl:Importing a function (__inference_dense_40_layer_call_and_return_conditional_losses_467482) with ops with unsaved custom gradients. Will likely fail if a gradient is requested.\n",
      "WARNING:absl:Importing a function (__inference_dense_40_layer_call_and_return_conditional_losses_465956) with ops with unsaved custom gradients. Will likely fail if a gradient is requested.\n",
      "WARNING:absl:Importing a function (__inference__wrapped_model_465842) with ops with unsaved custom gradients. Will likely fail if a gradient is requested.\n",
      "WARNING:absl:Importing a function (__inference_dense_37_layer_call_and_return_conditional_losses_467455) with ops with unsaved custom gradients. Will likely fail if a gradient is requested.\n",
      "WARNING:absl:Importing a function (__inference_model_4_layer_call_and_return_conditional_losses_467315) with ops with unsaved custom gradients. Will likely fail if a gradient is requested.\n",
      "WARNING:absl:Importing a function (__inference_dense_43_layer_call_and_return_conditional_losses_466097) with ops with unsaved custom gradients. Will likely fail if a gradient is requested.\n"
     ]
    },
    {
     "name": "stdout",
     "output_type": "stream",
     "text": [
      "Pearson: 0.16124526612563697\n",
      "Epoch 1/50\n",
      "1279/1279 [==============================] - 11s 7ms/step - loss: 0.9773 - mse: 0.8308 - val_loss: 0.8471 - val_mse: 0.8450\n",
      "INFO:tensorflow:Assets written to: model_4\\assets\n"
     ]
    },
    {
     "name": "stderr",
     "output_type": "stream",
     "text": [
      "INFO:tensorflow:Assets written to: model_4\\assets\n"
     ]
    },
    {
     "name": "stdout",
     "output_type": "stream",
     "text": [
      "Epoch 2/50\n",
      "1279/1279 [==============================] - 7s 6ms/step - loss: 0.8288 - mse: 0.8265 - val_loss: 0.8462 - val_mse: 0.8432\n",
      "INFO:tensorflow:Assets written to: model_4\\assets\n"
     ]
    },
    {
     "name": "stderr",
     "output_type": "stream",
     "text": [
      "INFO:tensorflow:Assets written to: model_4\\assets\n"
     ]
    },
    {
     "name": "stdout",
     "output_type": "stream",
     "text": [
      "Epoch 3/50\n",
      "1279/1279 [==============================] - 6s 5ms/step - loss: 0.8269 - mse: 0.8242 - val_loss: 0.8431 - val_mse: 0.8414\n",
      "INFO:tensorflow:Assets written to: model_4\\assets\n"
     ]
    },
    {
     "name": "stderr",
     "output_type": "stream",
     "text": [
      "INFO:tensorflow:Assets written to: model_4\\assets\n"
     ]
    },
    {
     "name": "stdout",
     "output_type": "stream",
     "text": [
      "Epoch 4/50\n",
      "1279/1279 [==============================] - 6s 5ms/step - loss: 0.8263 - mse: 0.8223 - val_loss: 0.8428 - val_mse: 0.8410\n",
      "INFO:tensorflow:Assets written to: model_4\\assets\n"
     ]
    },
    {
     "name": "stderr",
     "output_type": "stream",
     "text": [
      "INFO:tensorflow:Assets written to: model_4\\assets\n"
     ]
    },
    {
     "name": "stdout",
     "output_type": "stream",
     "text": [
      "Epoch 5/50\n",
      "1279/1279 [==============================] - 6s 5ms/step - loss: 0.8239 - mse: 0.8200 - val_loss: 0.8439 - val_mse: 0.8420\n",
      "Epoch 6/50\n",
      "1279/1279 [==============================] - 6s 5ms/step - loss: 0.8224 - mse: 0.8171 - val_loss: 0.8402 - val_mse: 0.8387\n",
      "INFO:tensorflow:Assets written to: model_4\\assets\n"
     ]
    },
    {
     "name": "stderr",
     "output_type": "stream",
     "text": [
      "INFO:tensorflow:Assets written to: model_4\\assets\n"
     ]
    },
    {
     "name": "stdout",
     "output_type": "stream",
     "text": [
      "Epoch 7/50\n",
      "1279/1279 [==============================] - 6s 5ms/step - loss: 0.8216 - mse: 0.8154 - val_loss: 0.8402 - val_mse: 0.8388\n",
      "Epoch 8/50\n",
      "1279/1279 [==============================] - 6s 5ms/step - loss: 0.8182 - mse: 0.8123 - val_loss: 0.8401 - val_mse: 0.8385\n",
      "INFO:tensorflow:Assets written to: model_4\\assets\n"
     ]
    },
    {
     "name": "stderr",
     "output_type": "stream",
     "text": [
      "INFO:tensorflow:Assets written to: model_4\\assets\n"
     ]
    },
    {
     "name": "stdout",
     "output_type": "stream",
     "text": [
      "Epoch 9/50\n",
      "1279/1279 [==============================] - 6s 5ms/step - loss: 0.8152 - mse: 0.8091 - val_loss: 0.8403 - val_mse: 0.8384\n",
      "INFO:tensorflow:Assets written to: model_4\\assets\n"
     ]
    },
    {
     "name": "stderr",
     "output_type": "stream",
     "text": [
      "INFO:tensorflow:Assets written to: model_4\\assets\n"
     ]
    },
    {
     "name": "stdout",
     "output_type": "stream",
     "text": [
      "Epoch 10/50\n",
      "1279/1279 [==============================] - 6s 5ms/step - loss: 0.8114 - mse: 0.8046 - val_loss: 0.8407 - val_mse: 0.8385\n",
      "Epoch 11/50\n",
      "1279/1279 [==============================] - 6s 5ms/step - loss: 0.8073 - mse: 0.8003 - val_loss: 0.8419 - val_mse: 0.8393\n",
      "Epoch 12/50\n",
      "1279/1279 [==============================] - 6s 5ms/step - loss: 0.8059 - mse: 0.7973 - val_loss: 0.8415 - val_mse: 0.8390\n",
      "\n",
      "Epoch 00012: ReduceLROnPlateau reducing learning rate to 0.00010000000474974513.\n",
      "Epoch 13/50\n",
      "1279/1279 [==============================] - 6s 5ms/step - loss: 0.8091 - mse: 0.8048 - val_loss: 0.8485 - val_mse: 0.8439\n",
      "Epoch 14/50\n",
      "1279/1279 [==============================] - 6s 5ms/step - loss: 0.8048 - mse: 0.8000 - val_loss: 0.8494 - val_mse: 0.8448\n",
      "Epoch 15/50\n",
      "1279/1279 [==============================] - 6s 5ms/step - loss: 0.8025 - mse: 0.7978 - val_loss: 0.8496 - val_mse: 0.8450\n",
      "Epoch 16/50\n",
      "1279/1279 [==============================] - 6s 5ms/step - loss: 0.8007 - mse: 0.7959 - val_loss: 0.8502 - val_mse: 0.8456\n",
      "Epoch 17/50\n",
      "1279/1279 [==============================] - 6s 5ms/step - loss: 0.7991 - mse: 0.7942 - val_loss: 0.8507 - val_mse: 0.8460\n",
      "Epoch 18/50\n",
      "1279/1279 [==============================] - 6s 5ms/step - loss: 0.7976 - mse: 0.7927 - val_loss: 0.8519 - val_mse: 0.8473\n",
      "\n",
      "Epoch 00018: ReduceLROnPlateau reducing learning rate to 1.0000000474974514e-05.\n",
      "Epoch 19/50\n",
      "1279/1279 [==============================] - 6s 5ms/step - loss: 0.8018 - mse: 0.7981 - val_loss: 0.8425 - val_mse: 0.8394\n",
      "Epoch 20/50\n",
      "1279/1279 [==============================] - 6s 5ms/step - loss: 0.7997 - mse: 0.7965 - val_loss: 0.8419 - val_mse: 0.8388\n",
      "Epoch 21/50\n",
      "1279/1279 [==============================] - 6s 5ms/step - loss: 0.7992 - mse: 0.7960 - val_loss: 0.8417 - val_mse: 0.8386\n",
      "Epoch 22/50\n",
      "1279/1279 [==============================] - 6s 5ms/step - loss: 0.7989 - mse: 0.7957 - val_loss: 0.8416 - val_mse: 0.8384\n"
     ]
    },
    {
     "name": "stderr",
     "output_type": "stream",
     "text": [
      "WARNING:absl:Importing a function (__inference_dense_51_layer_call_and_return_conditional_losses_533445) with ops with unsaved custom gradients. Will likely fail if a gradient is requested.\n",
      "WARNING:absl:Importing a function (__inference__wrapped_model_533220) with ops with unsaved custom gradients. Will likely fail if a gradient is requested.\n",
      "WARNING:absl:Importing a function (__inference_dense_52_layer_call_and_return_conditional_losses_535005) with ops with unsaved custom gradients. Will likely fail if a gradient is requested.\n",
      "WARNING:absl:Importing a function (__inference_dense_49_layer_call_and_return_conditional_losses_534860) with ops with unsaved custom gradients. Will likely fail if a gradient is requested.\n",
      "WARNING:absl:Importing a function (__inference_dense_46_layer_call_and_return_conditional_losses_534833) with ops with unsaved custom gradients. Will likely fail if a gradient is requested.\n",
      "WARNING:absl:Importing a function (__inference_dense_47_layer_call_and_return_conditional_losses_533382) with ops with unsaved custom gradients. Will likely fail if a gradient is requested.\n",
      "WARNING:absl:Importing a function (__inference_dense_48_layer_call_and_return_conditional_losses_533286) with ops with unsaved custom gradients. Will likely fail if a gradient is requested.\n",
      "WARNING:absl:Importing a function (__inference_dense_51_layer_call_and_return_conditional_losses_534966) with ops with unsaved custom gradients. Will likely fail if a gradient is requested.\n",
      "WARNING:absl:Importing a function (__inference_dense_50_layer_call_and_return_conditional_losses_533406) with ops with unsaved custom gradients. Will likely fail if a gradient is requested.\n",
      "WARNING:absl:Importing a function (__inference_dense_46_layer_call_and_return_conditional_losses_533358) with ops with unsaved custom gradients. Will likely fail if a gradient is requested.\n",
      "WARNING:absl:Importing a function (__inference_dense_53_layer_call_and_return_conditional_losses_533505) with ops with unsaved custom gradients. Will likely fail if a gradient is requested.\n",
      "WARNING:absl:Importing a function (__inference_dense_45_layer_call_and_return_conditional_losses_534779) with ops with unsaved custom gradients. Will likely fail if a gradient is requested.\n",
      "WARNING:absl:Importing a function (__inference_dense_52_layer_call_and_return_conditional_losses_533475) with ops with unsaved custom gradients. Will likely fail if a gradient is requested.\n",
      "WARNING:absl:Importing a function (__inference_model_5_layer_call_and_return_conditional_losses_534508) with ops with unsaved custom gradients. Will likely fail if a gradient is requested.\n",
      "WARNING:absl:Importing a function (__inference_dense_49_layer_call_and_return_conditional_losses_533334) with ops with unsaved custom gradients. Will likely fail if a gradient is requested.\n"
     ]
    },
    {
     "name": "stdout",
     "output_type": "stream",
     "text": [
      "Restoring model weights from the end of the best epoch.\n",
      "Epoch 00022: early stopping\n"
     ]
    },
    {
     "name": "stderr",
     "output_type": "stream",
     "text": [
      "WARNING:absl:Importing a function (__inference_dense_50_layer_call_and_return_conditional_losses_534914) with ops with unsaved custom gradients. Will likely fail if a gradient is requested.\n",
      "WARNING:absl:Importing a function (__inference_dense_48_layer_call_and_return_conditional_losses_534806) with ops with unsaved custom gradients. Will likely fail if a gradient is requested.\n",
      "WARNING:absl:Importing a function (__inference_dense_45_layer_call_and_return_conditional_losses_533310) with ops with unsaved custom gradients. Will likely fail if a gradient is requested.\n",
      "WARNING:absl:Importing a function (__inference_model_5_layer_call_and_return_conditional_losses_534693) with ops with unsaved custom gradients. Will likely fail if a gradient is requested.\n",
      "WARNING:absl:Importing a function (__inference_dense_47_layer_call_and_return_conditional_losses_534887) with ops with unsaved custom gradients. Will likely fail if a gradient is requested.\n",
      "WARNING:absl:Importing a function (__inference_dense_53_layer_call_and_return_conditional_losses_535044) with ops with unsaved custom gradients. Will likely fail if a gradient is requested.\n"
     ]
    },
    {
     "name": "stdout",
     "output_type": "stream",
     "text": [
      "Pearson: 0.13149126360142527\n",
      "Epoch 1/50\n",
      "1279/1279 [==============================] - 11s 7ms/step - loss: 0.9768 - mse: 0.8312 - val_loss: 0.8430 - val_mse: 0.8412\n",
      "INFO:tensorflow:Assets written to: model_5\\assets\n"
     ]
    },
    {
     "name": "stderr",
     "output_type": "stream",
     "text": [
      "INFO:tensorflow:Assets written to: model_5\\assets\n"
     ]
    },
    {
     "name": "stdout",
     "output_type": "stream",
     "text": [
      "Epoch 2/50\n",
      "1279/1279 [==============================] - 7s 6ms/step - loss: 0.8295 - mse: 0.8268 - val_loss: 0.8427 - val_mse: 0.8407\n",
      "INFO:tensorflow:Assets written to: model_5\\assets\n"
     ]
    },
    {
     "name": "stderr",
     "output_type": "stream",
     "text": [
      "INFO:tensorflow:Assets written to: model_5\\assets\n"
     ]
    },
    {
     "name": "stdout",
     "output_type": "stream",
     "text": [
      "Epoch 3/50\n",
      "1279/1279 [==============================] - 6s 5ms/step - loss: 0.8271 - mse: 0.8245 - val_loss: 0.8438 - val_mse: 0.8409\n",
      "Epoch 4/50\n",
      "1279/1279 [==============================] - 6s 5ms/step - loss: 0.8259 - mse: 0.8227 - val_loss: 0.8419 - val_mse: 0.8393\n",
      "INFO:tensorflow:Assets written to: model_5\\assets\n"
     ]
    },
    {
     "name": "stderr",
     "output_type": "stream",
     "text": [
      "INFO:tensorflow:Assets written to: model_5\\assets\n"
     ]
    },
    {
     "name": "stdout",
     "output_type": "stream",
     "text": [
      "Epoch 5/50\n",
      "1279/1279 [==============================] - 6s 5ms/step - loss: 0.8243 - mse: 0.8204 - val_loss: 0.8431 - val_mse: 0.8398\n",
      "Epoch 6/50\n",
      "1279/1279 [==============================] - 6s 5ms/step - loss: 0.8225 - mse: 0.8178 - val_loss: 0.8440 - val_mse: 0.8419\n",
      "Epoch 7/50\n",
      "1279/1279 [==============================] - 6s 5ms/step - loss: 0.8200 - mse: 0.8151 - val_loss: 0.8418 - val_mse: 0.8396\n",
      "Epoch 8/50\n",
      "1279/1279 [==============================] - 6s 5ms/step - loss: 0.8176 - mse: 0.8120 - val_loss: 0.8423 - val_mse: 0.8395\n",
      "Epoch 9/50\n",
      "1279/1279 [==============================] - 6s 5ms/step - loss: 0.8148 - mse: 0.8088 - val_loss: 0.8449 - val_mse: 0.8420\n",
      "Epoch 10/50\n",
      "1279/1279 [==============================] - 6s 5ms/step - loss: 0.8130 - mse: 0.8063 - val_loss: 0.8441 - val_mse: 0.8406\n",
      "\n",
      "Epoch 00010: ReduceLROnPlateau reducing learning rate to 0.00010000000474974513.\n",
      "Epoch 11/50\n",
      "1279/1279 [==============================] - 6s 5ms/step - loss: 0.8145 - mse: 0.8106 - val_loss: 0.8422 - val_mse: 0.8386\n",
      "INFO:tensorflow:Assets written to: model_5\\assets\n"
     ]
    },
    {
     "name": "stderr",
     "output_type": "stream",
     "text": [
      "INFO:tensorflow:Assets written to: model_5\\assets\n"
     ]
    },
    {
     "name": "stdout",
     "output_type": "stream",
     "text": [
      "Epoch 12/50\n",
      "1279/1279 [==============================] - 6s 5ms/step - loss: 0.8109 - mse: 0.8068 - val_loss: 0.8424 - val_mse: 0.8389\n",
      "Epoch 13/50\n",
      "1279/1279 [==============================] - 6s 5ms/step - loss: 0.8091 - mse: 0.8050 - val_loss: 0.8423 - val_mse: 0.8388\n",
      "Epoch 14/50\n",
      "1279/1279 [==============================] - 6s 5ms/step - loss: 0.8076 - mse: 0.8035 - val_loss: 0.8425 - val_mse: 0.8390\n",
      "Epoch 15/50\n",
      "1279/1279 [==============================] - 6s 5ms/step - loss: 0.8063 - mse: 0.8022 - val_loss: 0.8428 - val_mse: 0.8393\n",
      "Epoch 16/50\n",
      "1279/1279 [==============================] - 6s 5ms/step - loss: 0.8051 - mse: 0.8010 - val_loss: 0.8432 - val_mse: 0.8396\n",
      "\n",
      "Epoch 00016: ReduceLROnPlateau reducing learning rate to 1.0000000474974514e-05.\n",
      "Epoch 17/50\n",
      "1279/1279 [==============================] - 6s 5ms/step - loss: 0.8088 - mse: 0.8056 - val_loss: 0.8378 - val_mse: 0.8350\n",
      "INFO:tensorflow:Assets written to: model_5\\assets\n"
     ]
    },
    {
     "name": "stderr",
     "output_type": "stream",
     "text": [
      "INFO:tensorflow:Assets written to: model_5\\assets\n"
     ]
    },
    {
     "name": "stdout",
     "output_type": "stream",
     "text": [
      "Epoch 18/50\n",
      "1279/1279 [==============================] - 6s 5ms/step - loss: 0.8072 - mse: 0.8043 - val_loss: 0.8374 - val_mse: 0.8346\n",
      "INFO:tensorflow:Assets written to: model_5\\assets\n"
     ]
    },
    {
     "name": "stderr",
     "output_type": "stream",
     "text": [
      "INFO:tensorflow:Assets written to: model_5\\assets\n"
     ]
    },
    {
     "name": "stdout",
     "output_type": "stream",
     "text": [
      "Epoch 19/50\n",
      "1279/1279 [==============================] - 7s 5ms/step - loss: 0.8068 - mse: 0.8040 - val_loss: 0.8371 - val_mse: 0.8343\n",
      "INFO:tensorflow:Assets written to: model_5\\assets\n"
     ]
    },
    {
     "name": "stderr",
     "output_type": "stream",
     "text": [
      "INFO:tensorflow:Assets written to: model_5\\assets\n"
     ]
    },
    {
     "name": "stdout",
     "output_type": "stream",
     "text": [
      "Epoch 20/50\n",
      "1279/1279 [==============================] - 7s 5ms/step - loss: 0.8065 - mse: 0.8037 - val_loss: 0.8371 - val_mse: 0.8342\n",
      "INFO:tensorflow:Assets written to: model_5\\assets\n"
     ]
    },
    {
     "name": "stderr",
     "output_type": "stream",
     "text": [
      "INFO:tensorflow:Assets written to: model_5\\assets\n"
     ]
    },
    {
     "name": "stdout",
     "output_type": "stream",
     "text": [
      "Epoch 21/50\n",
      "1279/1279 [==============================] - 7s 5ms/step - loss: 0.8063 - mse: 0.8035 - val_loss: 0.8370 - val_mse: 0.8341\n",
      "INFO:tensorflow:Assets written to: model_5\\assets\n"
     ]
    },
    {
     "name": "stderr",
     "output_type": "stream",
     "text": [
      "INFO:tensorflow:Assets written to: model_5\\assets\n"
     ]
    },
    {
     "name": "stdout",
     "output_type": "stream",
     "text": [
      "Epoch 22/50\n",
      "1279/1279 [==============================] - 7s 5ms/step - loss: 0.8061 - mse: 0.8033 - val_loss: 0.8369 - val_mse: 0.8340\n",
      "INFO:tensorflow:Assets written to: model_5\\assets\n"
     ]
    },
    {
     "name": "stderr",
     "output_type": "stream",
     "text": [
      "INFO:tensorflow:Assets written to: model_5\\assets\n"
     ]
    },
    {
     "name": "stdout",
     "output_type": "stream",
     "text": [
      "Epoch 23/50\n",
      "1279/1279 [==============================] - 6s 5ms/step - loss: 0.8058 - mse: 0.8031 - val_loss: 0.8369 - val_mse: 0.8340\n",
      "INFO:tensorflow:Assets written to: model_5\\assets\n"
     ]
    },
    {
     "name": "stderr",
     "output_type": "stream",
     "text": [
      "INFO:tensorflow:Assets written to: model_5\\assets\n"
     ]
    },
    {
     "name": "stdout",
     "output_type": "stream",
     "text": [
      "Epoch 24/50\n",
      "1279/1279 [==============================] - 6s 5ms/step - loss: 0.8056 - mse: 0.8029 - val_loss: 0.8368 - val_mse: 0.8339\n",
      "INFO:tensorflow:Assets written to: model_5\\assets\n"
     ]
    },
    {
     "name": "stderr",
     "output_type": "stream",
     "text": [
      "INFO:tensorflow:Assets written to: model_5\\assets\n"
     ]
    },
    {
     "name": "stdout",
     "output_type": "stream",
     "text": [
      "Epoch 25/50\n",
      "1279/1279 [==============================] - 6s 5ms/step - loss: 0.8055 - mse: 0.8027 - val_loss: 0.8368 - val_mse: 0.8339\n",
      "INFO:tensorflow:Assets written to: model_5\\assets\n"
     ]
    },
    {
     "name": "stderr",
     "output_type": "stream",
     "text": [
      "INFO:tensorflow:Assets written to: model_5\\assets\n"
     ]
    },
    {
     "name": "stdout",
     "output_type": "stream",
     "text": [
      "Epoch 26/50\n",
      "1279/1279 [==============================] - 6s 5ms/step - loss: 0.8053 - mse: 0.8025 - val_loss: 0.8367 - val_mse: 0.8339\n",
      "INFO:tensorflow:Assets written to: model_5\\assets\n"
     ]
    },
    {
     "name": "stderr",
     "output_type": "stream",
     "text": [
      "INFO:tensorflow:Assets written to: model_5\\assets\n"
     ]
    },
    {
     "name": "stdout",
     "output_type": "stream",
     "text": [
      "Epoch 27/50\n",
      "1279/1279 [==============================] - 6s 5ms/step - loss: 0.8051 - mse: 0.8024 - val_loss: 0.8367 - val_mse: 0.8338\n",
      "INFO:tensorflow:Assets written to: model_5\\assets\n"
     ]
    },
    {
     "name": "stderr",
     "output_type": "stream",
     "text": [
      "INFO:tensorflow:Assets written to: model_5\\assets\n"
     ]
    },
    {
     "name": "stdout",
     "output_type": "stream",
     "text": [
      "Epoch 28/50\n",
      "1279/1279 [==============================] - 6s 5ms/step - loss: 0.8049 - mse: 0.8022 - val_loss: 0.8367 - val_mse: 0.8338\n",
      "INFO:tensorflow:Assets written to: model_5\\assets\n"
     ]
    },
    {
     "name": "stderr",
     "output_type": "stream",
     "text": [
      "INFO:tensorflow:Assets written to: model_5\\assets\n"
     ]
    },
    {
     "name": "stdout",
     "output_type": "stream",
     "text": [
      "Epoch 29/50\n",
      "1279/1279 [==============================] - 6s 5ms/step - loss: 0.8047 - mse: 0.8020 - val_loss: 0.8366 - val_mse: 0.8338\n",
      "INFO:tensorflow:Assets written to: model_5\\assets\n"
     ]
    },
    {
     "name": "stderr",
     "output_type": "stream",
     "text": [
      "INFO:tensorflow:Assets written to: model_5\\assets\n"
     ]
    },
    {
     "name": "stdout",
     "output_type": "stream",
     "text": [
      "Epoch 30/50\n",
      "1279/1279 [==============================] - 6s 5ms/step - loss: 0.8046 - mse: 0.8019 - val_loss: 0.8366 - val_mse: 0.8337\n",
      "INFO:tensorflow:Assets written to: model_5\\assets\n"
     ]
    },
    {
     "name": "stderr",
     "output_type": "stream",
     "text": [
      "INFO:tensorflow:Assets written to: model_5\\assets\n"
     ]
    },
    {
     "name": "stdout",
     "output_type": "stream",
     "text": [
      "Epoch 31/50\n",
      "1279/1279 [==============================] - 6s 5ms/step - loss: 0.8044 - mse: 0.8017 - val_loss: 0.8366 - val_mse: 0.8337\n",
      "INFO:tensorflow:Assets written to: model_5\\assets\n"
     ]
    },
    {
     "name": "stderr",
     "output_type": "stream",
     "text": [
      "INFO:tensorflow:Assets written to: model_5\\assets\n"
     ]
    },
    {
     "name": "stdout",
     "output_type": "stream",
     "text": [
      "Epoch 32/50\n",
      "1279/1279 [==============================] - 6s 5ms/step - loss: 0.8043 - mse: 0.8015 - val_loss: 0.8365 - val_mse: 0.8337\n",
      "INFO:tensorflow:Assets written to: model_5\\assets\n"
     ]
    },
    {
     "name": "stderr",
     "output_type": "stream",
     "text": [
      "INFO:tensorflow:Assets written to: model_5\\assets\n"
     ]
    },
    {
     "name": "stdout",
     "output_type": "stream",
     "text": [
      "Epoch 33/50\n",
      "1279/1279 [==============================] - 6s 5ms/step - loss: 0.8041 - mse: 0.8014 - val_loss: 0.8365 - val_mse: 0.8337\n",
      "INFO:tensorflow:Assets written to: model_5\\assets\n"
     ]
    },
    {
     "name": "stderr",
     "output_type": "stream",
     "text": [
      "INFO:tensorflow:Assets written to: model_5\\assets\n"
     ]
    },
    {
     "name": "stdout",
     "output_type": "stream",
     "text": [
      "Epoch 34/50\n",
      "1279/1279 [==============================] - 6s 5ms/step - loss: 0.8039 - mse: 0.8012 - val_loss: 0.8365 - val_mse: 0.8337\n",
      "INFO:tensorflow:Assets written to: model_5\\assets\n"
     ]
    },
    {
     "name": "stderr",
     "output_type": "stream",
     "text": [
      "INFO:tensorflow:Assets written to: model_5\\assets\n"
     ]
    },
    {
     "name": "stdout",
     "output_type": "stream",
     "text": [
      "Epoch 35/50\n",
      "1279/1279 [==============================] - 6s 5ms/step - loss: 0.8038 - mse: 0.8011 - val_loss: 0.8365 - val_mse: 0.8337\n",
      "Epoch 36/50\n",
      "1279/1279 [==============================] - 6s 5ms/step - loss: 0.8036 - mse: 0.8009 - val_loss: 0.8365 - val_mse: 0.8337\n",
      "Epoch 37/50\n",
      "1279/1279 [==============================] - 6s 5ms/step - loss: 0.8035 - mse: 0.8008 - val_loss: 0.8365 - val_mse: 0.8337\n",
      "INFO:tensorflow:Assets written to: model_5\\assets\n"
     ]
    },
    {
     "name": "stderr",
     "output_type": "stream",
     "text": [
      "INFO:tensorflow:Assets written to: model_5\\assets\n"
     ]
    },
    {
     "name": "stdout",
     "output_type": "stream",
     "text": [
      "Epoch 38/50\n",
      "1279/1279 [==============================] - 6s 5ms/step - loss: 0.8033 - mse: 0.8006 - val_loss: 0.8365 - val_mse: 0.8337\n",
      "\n",
      "Epoch 00038: ReduceLROnPlateau reducing learning rate to 1.0000000656873453e-06.\n",
      "Epoch 39/50\n",
      "1279/1279 [==============================] - 6s 5ms/step - loss: 0.8074 - mse: 0.8049 - val_loss: 0.8330 - val_mse: 0.8307\n",
      "INFO:tensorflow:Assets written to: model_5\\assets\n"
     ]
    },
    {
     "name": "stderr",
     "output_type": "stream",
     "text": [
      "INFO:tensorflow:Assets written to: model_5\\assets\n"
     ]
    },
    {
     "name": "stdout",
     "output_type": "stream",
     "text": [
      "Epoch 40/50\n",
      "1279/1279 [==============================] - 6s 5ms/step - loss: 0.8055 - mse: 0.8032 - val_loss: 0.8324 - val_mse: 0.8301\n",
      "INFO:tensorflow:Assets written to: model_5\\assets\n"
     ]
    },
    {
     "name": "stderr",
     "output_type": "stream",
     "text": [
      "INFO:tensorflow:Assets written to: model_5\\assets\n"
     ]
    },
    {
     "name": "stdout",
     "output_type": "stream",
     "text": [
      "Epoch 41/50\n",
      "1279/1279 [==============================] - 6s 5ms/step - loss: 0.8049 - mse: 0.8027 - val_loss: 0.8321 - val_mse: 0.8298\n",
      "INFO:tensorflow:Assets written to: model_5\\assets\n"
     ]
    },
    {
     "name": "stderr",
     "output_type": "stream",
     "text": [
      "INFO:tensorflow:Assets written to: model_5\\assets\n"
     ]
    },
    {
     "name": "stdout",
     "output_type": "stream",
     "text": [
      "Epoch 42/50\n",
      "1279/1279 [==============================] - 6s 5ms/step - loss: 0.8048 - mse: 0.8025 - val_loss: 0.8320 - val_mse: 0.8297\n",
      "INFO:tensorflow:Assets written to: model_5\\assets\n"
     ]
    },
    {
     "name": "stderr",
     "output_type": "stream",
     "text": [
      "INFO:tensorflow:Assets written to: model_5\\assets\n"
     ]
    },
    {
     "name": "stdout",
     "output_type": "stream",
     "text": [
      "Epoch 43/50\n",
      "1279/1279 [==============================] - 6s 5ms/step - loss: 0.8047 - mse: 0.8024 - val_loss: 0.8319 - val_mse: 0.8297\n",
      "INFO:tensorflow:Assets written to: model_5\\assets\n"
     ]
    },
    {
     "name": "stderr",
     "output_type": "stream",
     "text": [
      "INFO:tensorflow:Assets written to: model_5\\assets\n"
     ]
    },
    {
     "name": "stdout",
     "output_type": "stream",
     "text": [
      "Epoch 44/50\n",
      "1279/1279 [==============================] - 6s 5ms/step - loss: 0.8046 - mse: 0.8023 - val_loss: 0.8319 - val_mse: 0.8297\n",
      "INFO:tensorflow:Assets written to: model_5\\assets\n"
     ]
    },
    {
     "name": "stderr",
     "output_type": "stream",
     "text": [
      "INFO:tensorflow:Assets written to: model_5\\assets\n"
     ]
    },
    {
     "name": "stdout",
     "output_type": "stream",
     "text": [
      "Epoch 45/50\n",
      "1279/1279 [==============================] - 6s 5ms/step - loss: 0.8046 - mse: 0.8023 - val_loss: 0.8319 - val_mse: 0.8296\n",
      "INFO:tensorflow:Assets written to: model_5\\assets\n"
     ]
    },
    {
     "name": "stderr",
     "output_type": "stream",
     "text": [
      "INFO:tensorflow:Assets written to: model_5\\assets\n"
     ]
    },
    {
     "name": "stdout",
     "output_type": "stream",
     "text": [
      "Epoch 46/50\n",
      "1279/1279 [==============================] - 6s 5ms/step - loss: 0.8045 - mse: 0.8022 - val_loss: 0.8319 - val_mse: 0.8296\n",
      "INFO:tensorflow:Assets written to: model_5\\assets\n"
     ]
    },
    {
     "name": "stderr",
     "output_type": "stream",
     "text": [
      "INFO:tensorflow:Assets written to: model_5\\assets\n"
     ]
    },
    {
     "name": "stdout",
     "output_type": "stream",
     "text": [
      "Epoch 47/50\n",
      "1279/1279 [==============================] - 6s 5ms/step - loss: 0.8045 - mse: 0.8022 - val_loss: 0.8319 - val_mse: 0.8296\n",
      "Epoch 48/50\n",
      "1279/1279 [==============================] - 6s 5ms/step - loss: 0.8045 - mse: 0.8022 - val_loss: 0.8319 - val_mse: 0.8296\n",
      "\n",
      "Epoch 00048: ReduceLROnPlateau reducing learning rate to 1.0000001111620805e-07.\n",
      "Epoch 49/50\n",
      "1279/1279 [==============================] - 6s 5ms/step - loss: 0.8045 - mse: 0.8022 - val_loss: 0.8320 - val_mse: 0.8297\n",
      "Epoch 50/50\n",
      "1279/1279 [==============================] - 6s 5ms/step - loss: 0.8045 - mse: 0.8022 - val_loss: 0.8320 - val_mse: 0.8297\n"
     ]
    },
    {
     "name": "stderr",
     "output_type": "stream",
     "text": [
      "WARNING:absl:Importing a function (__inference_dense_61_layer_call_and_return_conditional_losses_814255) with ops with unsaved custom gradients. Will likely fail if a gradient is requested.\n",
      "WARNING:absl:Importing a function (__inference_dense_61_layer_call_and_return_conditional_losses_815785) with ops with unsaved custom gradients. Will likely fail if a gradient is requested.\n",
      "WARNING:absl:Importing a function (__inference_dense_58_layer_call_and_return_conditional_losses_815640) with ops with unsaved custom gradients. Will likely fail if a gradient is requested.\n",
      "WARNING:absl:Importing a function (__inference_dense_56_layer_call_and_return_conditional_losses_815667) with ops with unsaved custom gradients. Will likely fail if a gradient is requested.\n",
      "WARNING:absl:Importing a function (__inference_model_6_layer_call_and_return_conditional_losses_815473) with ops with unsaved custom gradients. Will likely fail if a gradient is requested.\n",
      "WARNING:absl:Importing a function (__inference_dense_57_layer_call_and_return_conditional_losses_814066) with ops with unsaved custom gradients. Will likely fail if a gradient is requested.\n",
      "WARNING:absl:Importing a function (__inference_dense_62_layer_call_and_return_conditional_losses_815824) with ops with unsaved custom gradients. Will likely fail if a gradient is requested.\n",
      "WARNING:absl:Importing a function (__inference_dense_54_layer_call_and_return_conditional_losses_815559) with ops with unsaved custom gradients. Will likely fail if a gradient is requested.\n",
      "WARNING:absl:Importing a function (__inference_dense_56_layer_call_and_return_conditional_losses_814162) with ops with unsaved custom gradients. Will likely fail if a gradient is requested.\n",
      "WARNING:absl:Importing a function (__inference_dense_58_layer_call_and_return_conditional_losses_814114) with ops with unsaved custom gradients. Will likely fail if a gradient is requested.\n",
      "WARNING:absl:Importing a function (__inference_dense_59_layer_call_and_return_conditional_losses_815694) with ops with unsaved custom gradients. Will likely fail if a gradient is requested.\n",
      "WARNING:absl:Importing a function (__inference_dense_59_layer_call_and_return_conditional_losses_814186) with ops with unsaved custom gradients. Will likely fail if a gradient is requested.\n",
      "WARNING:absl:Importing a function (__inference_dense_60_layer_call_and_return_conditional_losses_815746) with ops with unsaved custom gradients. Will likely fail if a gradient is requested.\n",
      "WARNING:absl:Importing a function (__inference_dense_55_layer_call_and_return_conditional_losses_815613) with ops with unsaved custom gradients. Will likely fail if a gradient is requested.\n",
      "WARNING:absl:Importing a function (__inference_dense_55_layer_call_and_return_conditional_losses_814138) with ops with unsaved custom gradients. Will likely fail if a gradient is requested.\n",
      "WARNING:absl:Importing a function (__inference__wrapped_model_814000) with ops with unsaved custom gradients. Will likely fail if a gradient is requested.\n",
      "WARNING:absl:Importing a function (__inference_dense_60_layer_call_and_return_conditional_losses_814225) with ops with unsaved custom gradients. Will likely fail if a gradient is requested.\n",
      "WARNING:absl:Importing a function (__inference_dense_62_layer_call_and_return_conditional_losses_814285) with ops with unsaved custom gradients. Will likely fail if a gradient is requested.\n",
      "WARNING:absl:Importing a function (__inference_dense_57_layer_call_and_return_conditional_losses_815586) with ops with unsaved custom gradients. Will likely fail if a gradient is requested.\n",
      "WARNING:absl:Importing a function (__inference_model_6_layer_call_and_return_conditional_losses_815288) with ops with unsaved custom gradients. Will likely fail if a gradient is requested.\n",
      "WARNING:absl:Importing a function (__inference_dense_54_layer_call_and_return_conditional_losses_814090) with ops with unsaved custom gradients. Will likely fail if a gradient is requested.\n"
     ]
    },
    {
     "name": "stdout",
     "output_type": "stream",
     "text": [
      "Pearson: 0.16470575732956266\n"
     ]
    }
   ],
   "source": [
    "import scipy\n",
    "from sklearn.model_selection import StratifiedKFold\n",
    "kfold = StratifiedKFold(n_splits=6, shuffle=True, random_state=69)\n",
    "models = []\n",
    "\n",
    "for index, (train_indices, valid_indices) in enumerate(kfold.split(df, investment_id)):\n",
    "    X_train, X_val = df.iloc[train_indices], df.iloc[valid_indices]\n",
    "    investment_id_train = investment_id[train_indices]\n",
    "    y_train, y_val = y.iloc[train_indices], y.iloc[valid_indices]\n",
    "    investment_id_val = investment_id[valid_indices]\n",
    "    train_ds = make_dataset(X_train, investment_id_train, y_train)\n",
    "    valid_ds = make_dataset(X_val, investment_id_val, y_val, mode=\"valid\")\n",
    "    model = build_model()\n",
    "    callbacks = [tf.keras.callbacks.ModelCheckpoint(f\"model_{index}\", monitor='val_mse', save_best_only=True),\n",
    "                 tf.keras.callbacks.EarlyStopping(patience=13, monitor='val_mse', verbose=1, restore_best_weights=True),\n",
    "                 tf.keras.callbacks.ReduceLROnPlateau(factor=0.1, patience=6, verbose=1)]\n",
    "    history = model.fit(train_ds, epochs=50, validation_data=valid_ds, callbacks=callbacks)\n",
    "    models.append(load_model(f\"model_{index}\", custom_objects={'pearson_corr': pearson_corr, 'pearson_corr_loss': pearson_corr_loss}))\n",
    "\n",
    "    pearson_score = scipy.stats.pearsonr(model.predict(valid_ds).ravel(), y_val.values)[0]\n",
    "    print('Pearson:', pearson_score)\n",
    "    # pd.DataFrame(history.history, columns=[\"mse\", \"val_mse\"]).plot()\n",
    "    # plt.title(\"MSE\")\n",
    "    # plt.show()\n",
    "    # pd.DataFrame(history.history, columns=[\"mae\", \"val_mae\"]).plot()\n",
    "    # plt.title(\"MAE\")\n",
    "    # plt.show()\n",
    "    del investment_id_train\n",
    "    del investment_id_val\n",
    "    del X_train\n",
    "    del X_val\n",
    "    del y_train\n",
    "    del y_val\n",
    "    del train_ds\n",
    "    del valid_ds\n",
    "    del model\n",
    "    gc.collect()"
   ],
   "metadata": {
    "collapsed": false,
    "pycharm": {
     "name": "#%%\n"
    }
   }
  },
  {
   "cell_type": "code",
   "execution_count": 8,
   "outputs": [
    {
     "name": "stderr",
     "output_type": "stream",
     "text": [
      "WARNING:absl:Importing a function (__inference_model_1_layer_call_and_return_conditional_losses_38441) with ops with unsaved custom gradients. Will likely fail if a gradient is requested.\n",
      "WARNING:absl:Importing a function (__inference_dense_16_layer_call_and_return_conditional_losses_38753) with ops with unsaved custom gradients. Will likely fail if a gradient is requested.\n",
      "WARNING:absl:Importing a function (__inference_dense_9_layer_call_and_return_conditional_losses_38527) with ops with unsaved custom gradients. Will likely fail if a gradient is requested.\n",
      "WARNING:absl:Importing a function (__inference_dense_13_layer_call_and_return_conditional_losses_38608) with ops with unsaved custom gradients. Will likely fail if a gradient is requested.\n",
      "WARNING:absl:Importing a function (__inference_dense_9_layer_call_and_return_conditional_losses_37058) with ops with unsaved custom gradients. Will likely fail if a gradient is requested.\n",
      "WARNING:absl:Importing a function (__inference_dense_17_layer_call_and_return_conditional_losses_38792) with ops with unsaved custom gradients. Will likely fail if a gradient is requested.\n",
      "WARNING:absl:Importing a function (__inference_dense_14_layer_call_and_return_conditional_losses_38662) with ops with unsaved custom gradients. Will likely fail if a gradient is requested.\n",
      "WARNING:absl:Importing a function (__inference_dense_14_layer_call_and_return_conditional_losses_37154) with ops with unsaved custom gradients. Will likely fail if a gradient is requested.\n",
      "WARNING:absl:Importing a function (__inference_model_1_layer_call_and_return_conditional_losses_38256) with ops with unsaved custom gradients. Will likely fail if a gradient is requested.\n",
      "WARNING:absl:Importing a function (__inference_dense_12_layer_call_and_return_conditional_losses_37034) with ops with unsaved custom gradients. Will likely fail if a gradient is requested.\n",
      "WARNING:absl:Importing a function (__inference_dense_11_layer_call_and_return_conditional_losses_37130) with ops with unsaved custom gradients. Will likely fail if a gradient is requested.\n",
      "WARNING:absl:Importing a function (__inference_dense_16_layer_call_and_return_conditional_losses_37223) with ops with unsaved custom gradients. Will likely fail if a gradient is requested.\n",
      "WARNING:absl:Importing a function (__inference_dense_11_layer_call_and_return_conditional_losses_38635) with ops with unsaved custom gradients. Will likely fail if a gradient is requested.\n",
      "WARNING:absl:Importing a function (__inference_dense_15_layer_call_and_return_conditional_losses_38714) with ops with unsaved custom gradients. Will likely fail if a gradient is requested.\n",
      "WARNING:absl:Importing a function (__inference_dense_12_layer_call_and_return_conditional_losses_38554) with ops with unsaved custom gradients. Will likely fail if a gradient is requested.\n",
      "WARNING:absl:Importing a function (__inference_dense_10_layer_call_and_return_conditional_losses_38581) with ops with unsaved custom gradients. Will likely fail if a gradient is requested.\n",
      "WARNING:absl:Importing a function (__inference_dense_17_layer_call_and_return_conditional_losses_37253) with ops with unsaved custom gradients. Will likely fail if a gradient is requested.\n",
      "WARNING:absl:Importing a function (__inference_dense_15_layer_call_and_return_conditional_losses_37193) with ops with unsaved custom gradients. Will likely fail if a gradient is requested.\n",
      "WARNING:absl:Importing a function (__inference__wrapped_model_36968) with ops with unsaved custom gradients. Will likely fail if a gradient is requested.\n",
      "WARNING:absl:Importing a function (__inference_dense_10_layer_call_and_return_conditional_losses_37106) with ops with unsaved custom gradients. Will likely fail if a gradient is requested.\n",
      "WARNING:absl:Importing a function (__inference_dense_13_layer_call_and_return_conditional_losses_37082) with ops with unsaved custom gradients. Will likely fail if a gradient is requested.\n",
      "WARNING:absl:Importing a function (__inference_model_2_layer_call_and_return_conditional_losses_124423) with ops with unsaved custom gradients. Will likely fail if a gradient is requested.\n",
      "WARNING:absl:Importing a function (__inference_dense_18_layer_call_and_return_conditional_losses_124694) with ops with unsaved custom gradients. Will likely fail if a gradient is requested.\n",
      "WARNING:absl:Importing a function (__inference_dense_22_layer_call_and_return_conditional_losses_124775) with ops with unsaved custom gradients. Will likely fail if a gradient is requested.\n",
      "WARNING:absl:Importing a function (__inference_dense_19_layer_call_and_return_conditional_losses_124748) with ops with unsaved custom gradients. Will likely fail if a gradient is requested.\n",
      "WARNING:absl:Importing a function (__inference_dense_25_layer_call_and_return_conditional_losses_124920) with ops with unsaved custom gradients. Will likely fail if a gradient is requested.\n",
      "WARNING:absl:Importing a function (__inference_dense_18_layer_call_and_return_conditional_losses_123225) with ops with unsaved custom gradients. Will likely fail if a gradient is requested.\n",
      "WARNING:absl:Importing a function (__inference_dense_21_layer_call_and_return_conditional_losses_124721) with ops with unsaved custom gradients. Will likely fail if a gradient is requested.\n",
      "WARNING:absl:Importing a function (__inference__wrapped_model_123135) with ops with unsaved custom gradients. Will likely fail if a gradient is requested.\n",
      "WARNING:absl:Importing a function (__inference_dense_24_layer_call_and_return_conditional_losses_123360) with ops with unsaved custom gradients. Will likely fail if a gradient is requested.\n",
      "WARNING:absl:Importing a function (__inference_dense_23_layer_call_and_return_conditional_losses_124829) with ops with unsaved custom gradients. Will likely fail if a gradient is requested.\n",
      "WARNING:absl:Importing a function (__inference_model_2_layer_call_and_return_conditional_losses_124608) with ops with unsaved custom gradients. Will likely fail if a gradient is requested.\n",
      "WARNING:absl:Importing a function (__inference_dense_19_layer_call_and_return_conditional_losses_123273) with ops with unsaved custom gradients. Will likely fail if a gradient is requested.\n",
      "WARNING:absl:Importing a function (__inference_dense_26_layer_call_and_return_conditional_losses_124959) with ops with unsaved custom gradients. Will likely fail if a gradient is requested.\n",
      "WARNING:absl:Importing a function (__inference_dense_20_layer_call_and_return_conditional_losses_124802) with ops with unsaved custom gradients. Will likely fail if a gradient is requested.\n",
      "WARNING:absl:Importing a function (__inference_dense_23_layer_call_and_return_conditional_losses_123321) with ops with unsaved custom gradients. Will likely fail if a gradient is requested.\n",
      "WARNING:absl:Importing a function (__inference_dense_22_layer_call_and_return_conditional_losses_123249) with ops with unsaved custom gradients. Will likely fail if a gradient is requested.\n",
      "WARNING:absl:Importing a function (__inference_dense_25_layer_call_and_return_conditional_losses_123390) with ops with unsaved custom gradients. Will likely fail if a gradient is requested.\n",
      "WARNING:absl:Importing a function (__inference_dense_24_layer_call_and_return_conditional_losses_124881) with ops with unsaved custom gradients. Will likely fail if a gradient is requested.\n",
      "WARNING:absl:Importing a function (__inference_dense_26_layer_call_and_return_conditional_losses_123420) with ops with unsaved custom gradients. Will likely fail if a gradient is requested.\n",
      "WARNING:absl:Importing a function (__inference_dense_20_layer_call_and_return_conditional_losses_123297) with ops with unsaved custom gradients. Will likely fail if a gradient is requested.\n",
      "WARNING:absl:Importing a function (__inference_dense_21_layer_call_and_return_conditional_losses_123201) with ops with unsaved custom gradients. Will likely fail if a gradient is requested.\n",
      "WARNING:absl:Importing a function (__inference_dense_27_layer_call_and_return_conditional_losses_191098) with ops with unsaved custom gradients. Will likely fail if a gradient is requested.\n",
      "WARNING:absl:Importing a function (__inference_dense_33_layer_call_and_return_conditional_losses_192754) with ops with unsaved custom gradients. Will likely fail if a gradient is requested.\n",
      "WARNING:absl:Importing a function (__inference_dense_32_layer_call_and_return_conditional_losses_192702) with ops with unsaved custom gradients. Will likely fail if a gradient is requested.\n",
      "WARNING:absl:Importing a function (__inference_dense_28_layer_call_and_return_conditional_losses_191146) with ops with unsaved custom gradients. Will likely fail if a gradient is requested.\n",
      "WARNING:absl:Importing a function (__inference__wrapped_model_191008) with ops with unsaved custom gradients. Will likely fail if a gradient is requested.\n",
      "WARNING:absl:Importing a function (__inference_dense_27_layer_call_and_return_conditional_losses_192567) with ops with unsaved custom gradients. Will likely fail if a gradient is requested.\n",
      "WARNING:absl:Importing a function (__inference_dense_30_layer_call_and_return_conditional_losses_192594) with ops with unsaved custom gradients. Will likely fail if a gradient is requested.\n",
      "WARNING:absl:Importing a function (__inference_model_3_layer_call_and_return_conditional_losses_192296) with ops with unsaved custom gradients. Will likely fail if a gradient is requested.\n",
      "WARNING:absl:Importing a function (__inference_dense_34_layer_call_and_return_conditional_losses_191263) with ops with unsaved custom gradients. Will likely fail if a gradient is requested.\n",
      "WARNING:absl:Importing a function (__inference_dense_29_layer_call_and_return_conditional_losses_191170) with ops with unsaved custom gradients. Will likely fail if a gradient is requested.\n",
      "WARNING:absl:Importing a function (__inference_dense_30_layer_call_and_return_conditional_losses_191074) with ops with unsaved custom gradients. Will likely fail if a gradient is requested.\n",
      "WARNING:absl:Importing a function (__inference_model_3_layer_call_and_return_conditional_losses_192481) with ops with unsaved custom gradients. Will likely fail if a gradient is requested.\n",
      "WARNING:absl:Importing a function (__inference_dense_31_layer_call_and_return_conditional_losses_192648) with ops with unsaved custom gradients. Will likely fail if a gradient is requested.\n",
      "WARNING:absl:Importing a function (__inference_dense_35_layer_call_and_return_conditional_losses_192832) with ops with unsaved custom gradients. Will likely fail if a gradient is requested.\n",
      "WARNING:absl:Importing a function (__inference_dense_35_layer_call_and_return_conditional_losses_191293) with ops with unsaved custom gradients. Will likely fail if a gradient is requested.\n",
      "WARNING:absl:Importing a function (__inference_dense_31_layer_call_and_return_conditional_losses_191122) with ops with unsaved custom gradients. Will likely fail if a gradient is requested.\n",
      "WARNING:absl:Importing a function (__inference_dense_33_layer_call_and_return_conditional_losses_191233) with ops with unsaved custom gradients. Will likely fail if a gradient is requested.\n",
      "WARNING:absl:Importing a function (__inference_dense_28_layer_call_and_return_conditional_losses_192621) with ops with unsaved custom gradients. Will likely fail if a gradient is requested.\n",
      "WARNING:absl:Importing a function (__inference_dense_34_layer_call_and_return_conditional_losses_192793) with ops with unsaved custom gradients. Will likely fail if a gradient is requested.\n",
      "WARNING:absl:Importing a function (__inference_dense_29_layer_call_and_return_conditional_losses_192675) with ops with unsaved custom gradients. Will likely fail if a gradient is requested.\n",
      "WARNING:absl:Importing a function (__inference_dense_32_layer_call_and_return_conditional_losses_191194) with ops with unsaved custom gradients. Will likely fail if a gradient is requested.\n",
      "WARNING:absl:Importing a function (__inference_dense_37_layer_call_and_return_conditional_losses_465980) with ops with unsaved custom gradients. Will likely fail if a gradient is requested.\n",
      "WARNING:absl:Importing a function (__inference_dense_39_layer_call_and_return_conditional_losses_467428) with ops with unsaved custom gradients. Will likely fail if a gradient is requested.\n",
      "WARNING:absl:Importing a function (__inference_dense_42_layer_call_and_return_conditional_losses_467588) with ops with unsaved custom gradients. Will likely fail if a gradient is requested.\n",
      "WARNING:absl:Importing a function (__inference_dense_41_layer_call_and_return_conditional_losses_466028) with ops with unsaved custom gradients. Will likely fail if a gradient is requested.\n",
      "WARNING:absl:Importing a function (__inference_dense_44_layer_call_and_return_conditional_losses_466127) with ops with unsaved custom gradients. Will likely fail if a gradient is requested.\n",
      "WARNING:absl:Importing a function (__inference_dense_43_layer_call_and_return_conditional_losses_467627) with ops with unsaved custom gradients. Will likely fail if a gradient is requested.\n",
      "WARNING:absl:Importing a function (__inference_dense_38_layer_call_and_return_conditional_losses_467509) with ops with unsaved custom gradients. Will likely fail if a gradient is requested.\n",
      "WARNING:absl:Importing a function (__inference_dense_44_layer_call_and_return_conditional_losses_467666) with ops with unsaved custom gradients. Will likely fail if a gradient is requested.\n",
      "WARNING:absl:Importing a function (__inference_dense_36_layer_call_and_return_conditional_losses_467401) with ops with unsaved custom gradients. Will likely fail if a gradient is requested.\n",
      "WARNING:absl:Importing a function (__inference_model_4_layer_call_and_return_conditional_losses_467130) with ops with unsaved custom gradients. Will likely fail if a gradient is requested.\n",
      "WARNING:absl:Importing a function (__inference_dense_39_layer_call_and_return_conditional_losses_465908) with ops with unsaved custom gradients. Will likely fail if a gradient is requested.\n",
      "WARNING:absl:Importing a function (__inference_dense_38_layer_call_and_return_conditional_losses_466004) with ops with unsaved custom gradients. Will likely fail if a gradient is requested.\n",
      "WARNING:absl:Importing a function (__inference_dense_36_layer_call_and_return_conditional_losses_465932) with ops with unsaved custom gradients. Will likely fail if a gradient is requested.\n",
      "WARNING:absl:Importing a function (__inference_dense_42_layer_call_and_return_conditional_losses_466067) with ops with unsaved custom gradients. Will likely fail if a gradient is requested.\n",
      "WARNING:absl:Importing a function (__inference_dense_41_layer_call_and_return_conditional_losses_467536) with ops with unsaved custom gradients. Will likely fail if a gradient is requested.\n",
      "WARNING:absl:Importing a function (__inference_dense_40_layer_call_and_return_conditional_losses_467482) with ops with unsaved custom gradients. Will likely fail if a gradient is requested.\n",
      "WARNING:absl:Importing a function (__inference_dense_40_layer_call_and_return_conditional_losses_465956) with ops with unsaved custom gradients. Will likely fail if a gradient is requested.\n",
      "WARNING:absl:Importing a function (__inference__wrapped_model_465842) with ops with unsaved custom gradients. Will likely fail if a gradient is requested.\n",
      "WARNING:absl:Importing a function (__inference_dense_37_layer_call_and_return_conditional_losses_467455) with ops with unsaved custom gradients. Will likely fail if a gradient is requested.\n",
      "WARNING:absl:Importing a function (__inference_model_4_layer_call_and_return_conditional_losses_467315) with ops with unsaved custom gradients. Will likely fail if a gradient is requested.\n",
      "WARNING:absl:Importing a function (__inference_dense_43_layer_call_and_return_conditional_losses_466097) with ops with unsaved custom gradients. Will likely fail if a gradient is requested.\n",
      "WARNING:absl:Importing a function (__inference_dense_51_layer_call_and_return_conditional_losses_533445) with ops with unsaved custom gradients. Will likely fail if a gradient is requested.\n",
      "WARNING:absl:Importing a function (__inference__wrapped_model_533220) with ops with unsaved custom gradients. Will likely fail if a gradient is requested.\n",
      "WARNING:absl:Importing a function (__inference_dense_52_layer_call_and_return_conditional_losses_535005) with ops with unsaved custom gradients. Will likely fail if a gradient is requested.\n",
      "WARNING:absl:Importing a function (__inference_dense_49_layer_call_and_return_conditional_losses_534860) with ops with unsaved custom gradients. Will likely fail if a gradient is requested.\n",
      "WARNING:absl:Importing a function (__inference_dense_46_layer_call_and_return_conditional_losses_534833) with ops with unsaved custom gradients. Will likely fail if a gradient is requested.\n",
      "WARNING:absl:Importing a function (__inference_dense_47_layer_call_and_return_conditional_losses_533382) with ops with unsaved custom gradients. Will likely fail if a gradient is requested.\n",
      "WARNING:absl:Importing a function (__inference_dense_48_layer_call_and_return_conditional_losses_533286) with ops with unsaved custom gradients. Will likely fail if a gradient is requested.\n",
      "WARNING:absl:Importing a function (__inference_dense_51_layer_call_and_return_conditional_losses_534966) with ops with unsaved custom gradients. Will likely fail if a gradient is requested.\n",
      "WARNING:absl:Importing a function (__inference_dense_50_layer_call_and_return_conditional_losses_533406) with ops with unsaved custom gradients. Will likely fail if a gradient is requested.\n",
      "WARNING:absl:Importing a function (__inference_dense_46_layer_call_and_return_conditional_losses_533358) with ops with unsaved custom gradients. Will likely fail if a gradient is requested.\n",
      "WARNING:absl:Importing a function (__inference_dense_53_layer_call_and_return_conditional_losses_533505) with ops with unsaved custom gradients. Will likely fail if a gradient is requested.\n",
      "WARNING:absl:Importing a function (__inference_dense_45_layer_call_and_return_conditional_losses_534779) with ops with unsaved custom gradients. Will likely fail if a gradient is requested.\n",
      "WARNING:absl:Importing a function (__inference_dense_52_layer_call_and_return_conditional_losses_533475) with ops with unsaved custom gradients. Will likely fail if a gradient is requested.\n",
      "WARNING:absl:Importing a function (__inference_model_5_layer_call_and_return_conditional_losses_534508) with ops with unsaved custom gradients. Will likely fail if a gradient is requested.\n",
      "WARNING:absl:Importing a function (__inference_dense_49_layer_call_and_return_conditional_losses_533334) with ops with unsaved custom gradients. Will likely fail if a gradient is requested.\n",
      "WARNING:absl:Importing a function (__inference_dense_50_layer_call_and_return_conditional_losses_534914) with ops with unsaved custom gradients. Will likely fail if a gradient is requested.\n",
      "WARNING:absl:Importing a function (__inference_dense_48_layer_call_and_return_conditional_losses_534806) with ops with unsaved custom gradients. Will likely fail if a gradient is requested.\n",
      "WARNING:absl:Importing a function (__inference_dense_45_layer_call_and_return_conditional_losses_533310) with ops with unsaved custom gradients. Will likely fail if a gradient is requested.\n",
      "WARNING:absl:Importing a function (__inference_model_5_layer_call_and_return_conditional_losses_534693) with ops with unsaved custom gradients. Will likely fail if a gradient is requested.\n",
      "WARNING:absl:Importing a function (__inference_dense_47_layer_call_and_return_conditional_losses_534887) with ops with unsaved custom gradients. Will likely fail if a gradient is requested.\n",
      "WARNING:absl:Importing a function (__inference_dense_53_layer_call_and_return_conditional_losses_535044) with ops with unsaved custom gradients. Will likely fail if a gradient is requested.\n"
     ]
    },
    {
     "name": "stdout",
     "output_type": "stream",
     "text": [
      "   row_id    target\n",
      "59    1_1  0.057434\n",
      "60    1_2 -0.005116\n",
      "61    1_6  0.013298\n",
      "62    1_7 -0.002338\n",
      "63    1_8  0.041046\n",
      "64    1_9 -0.189941\n",
      "65   1_10  0.051758\n",
      "66   1_12  0.046783\n",
      "67   1_13 -0.224365\n",
      "68   1_14  0.017975\n",
      "69   1_16  0.059387\n",
      "70   1_17  0.004894\n",
      "71   1_19  0.033966\n",
      "72   1_20  0.031128\n",
      "73   1_22 -0.104065\n",
      "74   1_24 -0.127808\n",
      "75   1_29 -0.038940\n",
      "76   1_30  0.046509\n",
      "77   1_31 -0.032257\n",
      "78   1_32  0.015823\n",
      "79   1_33  0.040009\n",
      "80   1_34  0.008682\n",
      "81   1_35  0.005745\n",
      "82   1_36 -0.197754\n",
      "83   1_40 -0.150391\n",
      "84   1_41  0.025726\n",
      "85   1_42 -0.117798\n",
      "86   1_44  0.007706\n",
      "87   1_46  0.030823\n",
      "88   1_47  0.061493\n",
      "89   1_48 -0.201416\n",
      "90   1_50  0.086670\n",
      "91   1_51 -0.059723\n",
      "92   1_54  0.028442\n",
      "93   1_55  0.019653\n",
      "94   1_58 -0.092224\n",
      "95   1_59 -0.012169\n",
      "96   1_61  0.034454\n",
      "97   1_62  0.004082\n",
      "98   1_63  0.026550\n",
      "99   1_66  0.006565\n",
      "Pearson: 0.02489781465522549\n"
     ]
    }
   ],
   "source": [
    "from ubiquantEmulator import TimeSeriesAPI\n",
    "\n",
    "def preprocess_test(investment_id, feature):\n",
    "    return (investment_id, feature), 0\n",
    "\n",
    "def make_test_dataset(feature, investment_id, batch_size=2048):\n",
    "    ds = tf.data.Dataset.from_tensor_slices(((investment_id, feature)))\n",
    "    ds = ds.map(preprocess_test)\n",
    "    ds = ds.batch(batch_size).cache().prefetch(tf.data.experimental.AUTOTUNE)\n",
    "    return ds\n",
    "\n",
    "\n",
    "def inference(models, ds):\n",
    "    y_preds = []\n",
    "    for model in models:\n",
    "        y_pred = model.predict(ds)\n",
    "        y_preds.append(y_pred)\n",
    "    return np.mean(y_preds, axis=0)  # ensemble\n",
    "\n",
    "\n",
    "models = [load_model(f\"model_{index}\", custom_objects={'pearson_corr': pearson_corr, 'pearson_corr_loss': pearson_corr_loss}) for index in range(kfold.n_splits)]\n",
    "test = pd.read_csv('kaggle/input/ubiquant-market-prediction/train.csv', engine='pyarrow')\n",
    "iter_test = TimeSeriesAPI(test[test[\"investment_id\"] < 100][:100])\n",
    "for n, (test_df, sample_prediction_df) in enumerate(iter_test):\n",
    "    ds = make_test_dataset(test_df.loc[:, 'f_0':'f_299'], test_df[\"investment_id\"])\n",
    "    sample_prediction_df['target'] = inference(models, ds)\n",
    "    iter_test.predict(sample_prediction_df)\n",
    "print(sample_prediction_df)\n",
    "print(f'Pearson: {scipy.stats.pearsonr(sample_prediction_df[\"target\"].values, test_df[\"target\"].values)[0]}')"
   ],
   "metadata": {
    "collapsed": false,
    "pycharm": {
     "name": "#%%\n"
    }
   }
  },
  {
   "cell_type": "code",
   "execution_count": 9,
   "outputs": [
    {
     "ename": "ModuleNotFoundError",
     "evalue": "No module named 'ubiquant'",
     "output_type": "error",
     "traceback": [
      "\u001B[1;31m---------------------------------------------------------------------------\u001B[0m",
      "\u001B[1;31mModuleNotFoundError\u001B[0m                       Traceback (most recent call last)",
      "Input \u001B[1;32mIn [9]\u001B[0m, in \u001B[0;36m<module>\u001B[1;34m\u001B[0m\n\u001B[1;32m----> 1\u001B[0m \u001B[38;5;28;01mimport\u001B[39;00m \u001B[38;5;21;01mubiquant\u001B[39;00m\n\u001B[0;32m      2\u001B[0m env \u001B[38;5;241m=\u001B[39m ubiquant\u001B[38;5;241m.\u001B[39mmake_env()\n\u001B[0;32m      3\u001B[0m iter_test \u001B[38;5;241m=\u001B[39m env\u001B[38;5;241m.\u001B[39miter_test()\n",
      "\u001B[1;31mModuleNotFoundError\u001B[0m: No module named 'ubiquant'"
     ]
    }
   ],
   "source": [
    "import ubiquant\n",
    "env = ubiquant.make_env()\n",
    "iter_test = env.iter_test()\n",
    "for (test_df, sample_prediction_df) in iter_test:\n",
    "    ds = make_test_dataset(test_df.loc[:, 'f_0':'f_299'], test_df[\"investment_id\"])\n",
    "    sample_prediction_df['target'] = inference(models, ds)\n",
    "    env.predict(sample_prediction_df)\n",
    "print(sample_prediction_df)\n",
    "print(f'Pearson: {scipy.stats.pearsonr(sample_prediction_df[\"target\"].values, test_df[\"target\"].values)[0]}')"
   ],
   "metadata": {
    "collapsed": false,
    "pycharm": {
     "name": "#%%\n"
    }
   }
  }
 ],
 "metadata": {
  "kernelspec": {
   "display_name": "Python 3",
   "language": "python",
   "name": "python3"
  },
  "language_info": {
   "codemirror_mode": {
    "name": "ipython",
    "version": 2
   },
   "file_extension": ".py",
   "mimetype": "text/x-python",
   "name": "python",
   "nbconvert_exporter": "python",
   "pygments_lexer": "ipython2",
   "version": "2.7.6"
  }
 },
 "nbformat": 4,
 "nbformat_minor": 0
}